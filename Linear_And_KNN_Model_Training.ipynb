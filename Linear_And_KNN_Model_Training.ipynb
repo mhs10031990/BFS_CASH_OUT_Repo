{
 "cells": [
  {
   "cell_type": "markdown",
   "id": "c6e9f324",
   "metadata": {},
   "source": [
    "# Use CASH_OUT_Template Customized Notebook Template"
   ]
  },
  {
   "cell_type": "code",
   "execution_count": 6,
   "id": "e5f545a5",
   "metadata": {
    "scrolled": true
   },
   "outputs": [],
   "source": [
    "from fosforml.model_manager.snowflakesession import get_session\n",
    "my_session = get_session()\n",
    "\n",
    "import pandas as pd\n",
    "import datetime as dt"
   ]
  },
  {
   "cell_type": "code",
   "execution_count": 7,
   "id": "d305964f",
   "metadata": {},
   "outputs": [],
   "source": [
    "#import seaborn as sns\n",
    "import subprocess\n",
    "\n",
    "# create_temp_table warning suppresion\n",
    "import warnings; warnings.simplefilter('ignore')"
   ]
  },
  {
   "cell_type": "code",
   "execution_count": 8,
   "id": "6e183a21",
   "metadata": {},
   "outputs": [],
   "source": [
    "from fosforml import register_model\n",
    "import requests"
   ]
  },
  {
   "cell_type": "code",
   "execution_count": 9,
   "id": "c6a862f7",
   "metadata": {},
   "outputs": [],
   "source": [
    "# Import label encoder \n",
    "from sklearn import preprocessing \n",
    "from sklearn.linear_model import LinearRegression, Lasso, Ridge, ElasticNet\n",
    "from sklearn.model_selection import GridSearchCV\n",
    "from sklearn.ensemble import GradientBoostingRegressor\n",
    "from sklearn.neighbors import KNeighborsRegressor\n",
    "from sklearn.metrics import mean_squared_error, mean_absolute_error, r2_score\n",
    "from sklearn.model_selection import train_test_split\n",
    "from math import sqrt\n",
    "import numpy as np"
   ]
  },
  {
   "cell_type": "code",
   "execution_count": 10,
   "id": "7707874f-2372-420c-86ff-2fd7433e67b1",
   "metadata": {},
   "outputs": [],
   "source": [
    "table_name = 'ATM_TRANSACTION_MASTER_DATA'\n",
    "\n",
    "sf_df = my_session.sql(\"select * from {}\".format(table_name))\n",
    "df = sf_df.to_pandas()"
   ]
  },
  {
   "cell_type": "code",
   "execution_count": 11,
   "id": "20c1dde7-f033-4de0-96d3-611ffa11fa83",
   "metadata": {},
   "outputs": [],
   "source": [
    "table_name = 'ATM_TRANSACTION_MASTER_DATA'\n",
    "\n",
    "sf_df = my_session.sql(\"select * from {}\".format(table_name))\n",
    "df_original = sf_df.to_pandas()"
   ]
  },
  {
   "cell_type": "code",
   "execution_count": 13,
   "id": "bf3c395c-3d10-452f-bae4-da9d41508bf6",
   "metadata": {},
   "outputs": [
    {
     "data": {
      "text/plain": [
       "Index(['DATE', 'WEEKDAY_FLAG', 'HOLIDAY_FLAG', 'BANK_ID', 'STATE', 'BANK_NAME',\n",
       "       'ATM_ID', 'DISPENSED_AMOUNT', 'TOTAL_TRANSACTION_COUNT',\n",
       "       'DOWNTIME_IN_MINS', 'ATM_MAX_CAPACITY', 'MALE_POPULATION',\n",
       "       'FEMALE_POPULATION', 'TOTAL_POPULATION', 'NO_OF_VETERANS',\n",
       "       'FOREIGN_BORN', 'AVG_HOUSEHOLD_SIZE', 'LANDAREA_SQ_MILE',\n",
       "       'POPULATION_RATIO', 'POPULATION_DENSITY', 'MEDIAN_HOUSE_INCOME',\n",
       "       'LOCATION_TYPE', 'ATM_PLACEMENTS', 'ATM_ACCESSIBILITY',\n",
       "       'ATM_MAINTAINENANCE', 'ATM__REPLENISHMENT'],\n",
       "      dtype='object')"
      ]
     },
     "execution_count": 13,
     "metadata": {},
     "output_type": "execute_result"
    }
   ],
   "source": [
    "df.columns"
   ]
  },
  {
   "cell_type": "code",
   "execution_count": 14,
   "id": "7aa8b1f6",
   "metadata": {},
   "outputs": [],
   "source": [
    "#to_drop = ['ATM_STATE_DETAILS_STATE','MALE_POPULATION','FEMALE_POPULATION','TOTAL_POPULATION','NO_OF_VETERANS','FOREIGN_BORN','AVG_HOUSEHOLD_SIZE','LANDAREA_SQ_MILE','POPULATION_RATIO','POPULATION_DENSITY','MEDIAN_HOUSE_INCOME']\n",
    "to_drop = ['STATE','MALE_POPULATION','FEMALE_POPULATION','TOTAL_POPULATION','NO_OF_VETERANS','FOREIGN_BORN','AVG_HOUSEHOLD_SIZE','LANDAREA_SQ_MILE','POPULATION_RATIO','POPULATION_DENSITY','MEDIAN_HOUSE_INCOME']\n",
    "df.drop(to_drop, inplace=True, axis=1)"
   ]
  },
  {
   "cell_type": "code",
   "execution_count": null,
   "id": "ef55b522",
   "metadata": {},
   "outputs": [],
   "source": [
    "to_drop = ['ATM_STATE_DETAILS_STATE','MALE_POPULATION','FEMALE_POPULATION','TOTAL_POPULATION','NO_OF_VETERANS','FOREIGN_BORN','AVG_HOUSEHOLD_SIZE','LANDAREA_SQ_MILE','POPULATION_RATIO','POPULATION_DENSITY','MEDIAN_HOUSE_INCOME']\n",
    "df_original.drop(to_drop, inplace=True, axis=1)"
   ]
  },
  {
   "cell_type": "code",
   "execution_count": null,
   "id": "379812bc",
   "metadata": {},
   "outputs": [],
   "source": [
    "df.shape"
   ]
  },
  {
   "cell_type": "code",
   "execution_count": null,
   "id": "d38c2a39",
   "metadata": {},
   "outputs": [],
   "source": [
    "df.info()"
   ]
  },
  {
   "cell_type": "code",
   "execution_count": null,
   "id": "5fc8fa71",
   "metadata": {},
   "outputs": [],
   "source": [
    "df.head()"
   ]
  },
  {
   "cell_type": "code",
   "execution_count": null,
   "id": "aaf92191",
   "metadata": {},
   "outputs": [],
   "source": [
    "df.columns"
   ]
  },
  {
   "cell_type": "code",
   "execution_count": null,
   "id": "0934b554",
   "metadata": {},
   "outputs": [],
   "source": [
    "df.isnull().sum()"
   ]
  },
  {
   "cell_type": "code",
   "execution_count": null,
   "id": "4ec2aad5",
   "metadata": {},
   "outputs": [],
   "source": [
    "df.info()"
   ]
  },
  {
   "cell_type": "code",
   "execution_count": null,
   "id": "4a79e15c",
   "metadata": {},
   "outputs": [],
   "source": [
    "df['DATE'] = pd.to_datetime(df['DATE'])\n",
    "df['HOUR'] = df['DATE'].dt.hour\n",
    "df['DAYOFWEEK'] = df['DATE'].dt.dayofweek\n",
    "df['QUARTER'] = df['DATE'].dt.quarter\n",
    "df['MONTH'] = df['DATE'].dt.month\n",
    "df['YEAR'] = df['DATE'].dt.year\n",
    "df['DAYOFYEAR'] = df['DATE'].dt.dayofyear\n",
    "df['DAYOFMONTH'] = df['DATE'].dt.day\n",
    "df['DATE'] = pd.to_datetime(df['DATE']).dt.strftime(\"%Y-%m-%d %H:%M:%S.%f\")"
   ]
  },
  {
   "cell_type": "code",
   "execution_count": null,
   "id": "f588d4bf",
   "metadata": {},
   "outputs": [],
   "source": [
    "df['WEEKDAY_FLAG'] = df['WEEKDAY_FLAG'].map({'Y': 1, 'N': 0})\n",
    "df['HOLIDAY_FLAG'] = df['HOLIDAY_FLAG'].map({'Y': 1, 'N': 0})"
   ]
  },
  {
   "cell_type": "code",
   "execution_count": null,
   "id": "b45c8e98",
   "metadata": {},
   "outputs": [],
   "source": [
    "df.head()"
   ]
  },
  {
   "cell_type": "code",
   "execution_count": null,
   "id": "af29f148",
   "metadata": {},
   "outputs": [],
   "source": [
    "df.info()"
   ]
  },
  {
   "cell_type": "code",
   "execution_count": null,
   "id": "b2f64a54",
   "metadata": {},
   "outputs": [],
   "source": [
    "# how to understand word labels. \n",
    "label_encoder = preprocessing.LabelEncoder() \n",
    "  \n",
    "# Encode labels in column 'species'. \n",
    "df['STATE']= label_encoder.fit_transform(df['STATE'])"
   ]
  },
  {
   "cell_type": "code",
   "execution_count": null,
   "id": "bdc55fa5",
   "metadata": {},
   "outputs": [],
   "source": [
    "# how to understand word labels. \n",
    "atm_encoder = preprocessing.LabelEncoder() \n",
    "  \n",
    "# Encode labels in column 'species'. \n",
    "df['ATM_ID']= atm_encoder.fit_transform(df['ATM_ID'])"
   ]
  },
  {
   "cell_type": "code",
   "execution_count": null,
   "id": "65be5819",
   "metadata": {},
   "outputs": [],
   "source": [
    "df.drop(['DATE','BANK_NAME','TOTAL_TRANSACTION_COUNT','DOWNTIME_IN_MINS','ATM_MAX_CAPACITY'], axis=1,inplace=True)"
   ]
  },
  {
   "cell_type": "code",
   "execution_count": null,
   "id": "c60a3cd9",
   "metadata": {
    "scrolled": true
   },
   "outputs": [],
   "source": [
    "df.columns"
   ]
  },
  {
   "cell_type": "code",
   "execution_count": null,
   "id": "3d4c4fd3",
   "metadata": {},
   "outputs": [],
   "source": [
    "features = ['WEEKDAY_FLAG', 'HOLIDAY_FLAG', 'BANK_ID', 'STATE', 'ATM_ID',\n",
    "    'HOUR', 'DAYOFWEEK', 'QUARTER', 'MONTH', 'YEAR',\n",
    "       'DAYOFYEAR', 'DAYOFMONTH']"
   ]
  },
  {
   "cell_type": "code",
   "execution_count": null,
   "id": "9eb38aef",
   "metadata": {},
   "outputs": [],
   "source": [
    "print (df.shape)\n",
    "df = df[df['DISPENSED_AMOUNT'] > 0]\n",
    "print (df.shape)"
   ]
  },
  {
   "cell_type": "code",
   "execution_count": null,
   "id": "d3667290",
   "metadata": {},
   "outputs": [],
   "source": [
    "X = df[features]\n",
    "y = df['DISPENSED_AMOUNT']"
   ]
  },
  {
   "cell_type": "code",
   "execution_count": null,
   "id": "af1229a2",
   "metadata": {},
   "outputs": [],
   "source": [
    "X.head()"
   ]
  },
  {
   "cell_type": "code",
   "execution_count": null,
   "id": "7b95143a",
   "metadata": {},
   "outputs": [],
   "source": [
    "y"
   ]
  },
  {
   "cell_type": "code",
   "execution_count": null,
   "id": "bdb41821",
   "metadata": {},
   "outputs": [],
   "source": [
    "# Split the data into training and test sets. (0.75, 0.25) split.\n",
    "X_train, X_test, y_train, y_test = train_test_split(X, y, train_size=0.75, test_size=0.25)"
   ]
  },
  {
   "cell_type": "code",
   "execution_count": null,
   "id": "8e7b13ac",
   "metadata": {},
   "outputs": [],
   "source": [
    "print(f'Total # of sample in whole dataset: {len(X)}')\n",
    "print(\"*****\"*10)\n",
    "print(f'Total # of sample in train dataset: {len(X_train)}')\n",
    "print(f'Shape of X_train: {X_train.shape}')\n",
    "print(\"*****\"*10)\n",
    "print(f'Total # of sample in test dataset: {len(X_test)}')\n",
    "print(f'Shape of X_test: {X_test.shape}')"
   ]
  },
  {
   "cell_type": "markdown",
   "id": "442bc604",
   "metadata": {},
   "source": [
    "# Linear Regression"
   ]
  },
  {
   "cell_type": "code",
   "execution_count": null,
   "id": "bcf03a55",
   "metadata": {},
   "outputs": [],
   "source": [
    "Lreg = LinearRegression()"
   ]
  },
  {
   "cell_type": "code",
   "execution_count": null,
   "id": "5a12467d",
   "metadata": {},
   "outputs": [],
   "source": [
    "Lreg.fit(X_train,  y_train)"
   ]
  },
  {
   "cell_type": "code",
   "execution_count": null,
   "id": "77d38476",
   "metadata": {},
   "outputs": [],
   "source": [
    "predictions = Lreg.predict(X_test)"
   ]
  },
  {
   "cell_type": "code",
   "execution_count": null,
   "id": "7a87301e",
   "metadata": {
    "scrolled": true
   },
   "outputs": [],
   "source": [
    "print('Mean Absolute Error:', mean_absolute_error(y_test,predictions))\n",
    "print('Mean Squared Error:', mean_squared_error(y_test,predictions))\n",
    "print('Root Mean Squared Error:', np.sqrt(mean_squared_error(y_test,predictions)))\n",
    "print('r2_score:', r2_score(y_test,predictions))"
   ]
  },
  {
   "cell_type": "markdown",
   "id": "32f4cee6",
   "metadata": {},
   "source": [
    "# Lasso Regression"
   ]
  },
  {
   "cell_type": "code",
   "execution_count": null,
   "id": "ae92b6b0",
   "metadata": {},
   "outputs": [],
   "source": [
    "Lreg = Lasso()"
   ]
  },
  {
   "cell_type": "code",
   "execution_count": null,
   "id": "89e0864a",
   "metadata": {},
   "outputs": [],
   "source": [
    "Lreg.fit(X_train,  y_train)\n",
    "predictions = Lreg.predict(X_test)\n",
    "\n",
    "print('Mean Absolute Error:', mean_absolute_error(y_test,predictions))\n",
    "print('Mean Squared Error:', mean_squared_error(y_test,predictions))\n",
    "print('Root Mean Squared Error:', np.sqrt(mean_squared_error(y_test,predictions)))\n",
    "print('r2_score:', r2_score(y_test,predictions))"
   ]
  },
  {
   "cell_type": "markdown",
   "id": "dc1f6554",
   "metadata": {},
   "source": [
    "# Ridge Regression"
   ]
  },
  {
   "cell_type": "code",
   "execution_count": null,
   "id": "d63cae50",
   "metadata": {},
   "outputs": [],
   "source": [
    "Lreg = Ridge()"
   ]
  },
  {
   "cell_type": "code",
   "execution_count": null,
   "id": "bea8349f",
   "metadata": {},
   "outputs": [],
   "source": [
    "Lreg.fit(X_train,  y_train)\n",
    "predictions = Lreg.predict(X_test)\n",
    "\n",
    "print('Mean Absolute Error:', mean_absolute_error(y_test,predictions))\n",
    "print('Mean Squared Error:', mean_squared_error(y_test,predictions))\n",
    "print('Root Mean Squared Error:', np.sqrt(mean_squared_error(y_test,predictions)))\n",
    "print('r2_score:', r2_score(y_test,predictions))"
   ]
  },
  {
   "cell_type": "markdown",
   "id": "24ea0209",
   "metadata": {},
   "source": [
    "# K-Nearest Neighbour"
   ]
  },
  {
   "cell_type": "code",
   "execution_count": null,
   "id": "0d25058d",
   "metadata": {},
   "outputs": [],
   "source": [
    "Lreg = KNeighborsRegressor()"
   ]
  },
  {
   "cell_type": "code",
   "execution_count": null,
   "id": "e4d20901",
   "metadata": {
    "scrolled": true
   },
   "outputs": [],
   "source": [
    "Lreg.fit(X_train,  y_train)"
   ]
  },
  {
   "cell_type": "code",
   "execution_count": null,
   "id": "0dffbf9f",
   "metadata": {},
   "outputs": [],
   "source": [
    "predictions = Lreg.predict(X_test)"
   ]
  },
  {
   "cell_type": "code",
   "execution_count": null,
   "id": "716c311e",
   "metadata": {},
   "outputs": [],
   "source": [
    "print('Mean Absolute Error:', mean_absolute_error(y_test,predictions))\n",
    "print('Mean Squared Error:', mean_squared_error(y_test,predictions))\n",
    "print('Root Mean Squared Error:', np.sqrt(mean_squared_error(y_test,predictions)))\n",
    "print('r2_score:', r2_score(y_test,predictions))"
   ]
  },
  {
   "cell_type": "markdown",
   "id": "aa2cff77",
   "metadata": {},
   "source": [
    "# Hyperparameter tunning"
   ]
  },
  {
   "cell_type": "code",
   "execution_count": null,
   "id": "3c618929",
   "metadata": {},
   "outputs": [],
   "source": [
    "for i in range(2,20,2):\n",
    "    #Train Model and Predict  \n",
    "    Lreg = KNeighborsRegressor(n_neighbors = i).fit(X_train,y_train)\n",
    "    predictions = Lreg.predict(X_test)\n",
    "    print (\"--------------- Neighbour: \", i,\"------------------------\")\n",
    "    print('Mean Absolute Error:', mean_absolute_error(y_test,predictions))\n",
    "    print('Mean Squared Error:', mean_squared_error(y_test,predictions))\n",
    "    print('Root Mean Squared Error:', np.sqrt(mean_squared_error(y_test,predictions)))\n",
    "    print('r2_score:', r2_score(y_test,predictions))"
   ]
  },
  {
   "cell_type": "code",
   "execution_count": null,
   "id": "6ff5adf7",
   "metadata": {},
   "outputs": [],
   "source": [
    "tree = KNeighborsRegressor(n_neighbors=10)\n",
    "\n",
    "tree.fit(X_train,  y_train)\n",
    "predictions = tree.predict(X_test)\n",
    "\n",
    "print('Mean Absolute Error:', mean_absolute_error(y_test,predictions))\n",
    "print('Mean Squared Error:', mean_squared_error(y_test,predictions))\n",
    "print('Root Mean Squared Error:', np.sqrt(mean_squared_error(y_test,predictions)))\n",
    "print('r2_score:', r2_score(y_test,predictions))"
   ]
  },
  {
   "cell_type": "code",
   "execution_count": null,
   "id": "cbe71e8f",
   "metadata": {},
   "outputs": [],
   "source": [
    "y_pred = predictions\n",
    "y_prediction = pd.Series(y_pred)"
   ]
  },
  {
   "cell_type": "code",
   "execution_count": 50,
   "id": "c86110af",
   "metadata": {
    "scrolled": true
   },
   "outputs": [
    {
     "data": {
      "text/plain": [
       "(pandas.core.frame.DataFrame,\n",
       " pandas.core.frame.DataFrame,\n",
       " pandas.core.series.Series,\n",
       " pandas.core.series.Series,\n",
       " numpy.ndarray,\n",
       " pandas.core.series.Series)"
      ]
     },
     "execution_count": 50,
     "metadata": {},
     "output_type": "execute_result"
    }
   ],
   "source": [
    "type(X_train), type(X_test), type(y_train), type(y_test), type(y_pred), type(y_prediction)"
   ]
  },
  {
   "cell_type": "code",
   "execution_count": 51,
   "id": "7caa84ff",
   "metadata": {
    "scrolled": true
   },
   "outputs": [
    {
     "name": "stdout",
     "output_type": "stream",
     "text": [
      "Calculating build time metrics\n",
      "\n",
      "Progress: ██████████████████████████████████████████████████████████████████████ 100.0%\n"
     ]
    },
    {
     "data": {
      "application/vnd.jupyter.widget-view+json": {
       "model_id": "9962a1dede4742c085d3b519afd1938f",
       "version_major": 2,
       "version_minor": 0
      },
      "text/plain": [
       "VBox(children=(HTML(value='<style>.grad_1{background: #2468a4;} .grad_2{ color:white; background: #2468a4;}</s…"
      ]
     },
     "metadata": {},
     "output_type": "display_data"
    }
   ],
   "source": [
    "## registering the model in Fosfor.\n",
    "model_reg = register_model(tree,\n",
    "               score, \n",
    "               name=\"ATM_DispenseAMT_KNN_10_Regression\", \n",
    "               description=\"ATM Dispense Amount KNN_10 Regression\",\n",
    "               flavour=MLModelFlavours.sklearn,\n",
    "               model_type=\"regression\",\n",
    "               #init_script=\"pip install snowflake-ml-python==1.0.11\",\n",
    "               init_script=\"pip install cloudpickle==2.2.1\",\n",
    "               y_true=y_test,\n",
    "               y_pred=y_prediction,\n",
    "               #prob=y_prob,\n",
    "               features=X_train.columns,\n",
    "               input_type=\"json\", \n",
    "               explain_ai=True,\n",
    "               x_train=X_train, \n",
    "               x_test=X_test, \n",
    "               y_train=y_train.tolist(),\n",
    "               y_test=y_test.tolist(),\n",
    "               feature_names=X_train.columns.tolist(),\n",
    "               original_features=X_train.columns.tolist(),\n",
    "               feature_ids=X_train.columns,\n",
    "               kyd=True, kyd_score = True)"
   ]
  }
 ],
 "metadata": {
  "kernelspec": {
   "display_name": "Python 3 (ipykernel)",
   "language": "python",
   "name": "python3"
  },
  "language_info": {
   "codemirror_mode": {
    "name": "ipython",
    "version": 3
   },
   "file_extension": ".py",
   "mimetype": "text/x-python",
   "name": "python",
   "nbconvert_exporter": "python",
   "pygments_lexer": "ipython3",
   "version": "3.9.19"
  }
 },
 "nbformat": 4,
 "nbformat_minor": 5
}
