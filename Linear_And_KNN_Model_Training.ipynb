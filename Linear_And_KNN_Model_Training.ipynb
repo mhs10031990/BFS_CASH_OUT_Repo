{
 "cells": [
  {
   "cell_type": "markdown",
   "id": "c6e9f324",
   "metadata": {},
   "source": [
    "# Use CASH_OUT_Template Customized Notebook Template"
   ]
  },
  {
   "cell_type": "code",
   "execution_count": 36,
   "id": "e5f545a5",
   "metadata": {
    "scrolled": true
   },
   "outputs": [],
   "source": [
    "from fosforml.model_manager.snowflakesession import get_session\n",
    "my_session = get_session()\n",
    "\n",
    "import pandas as pd\n",
    "import datetime as dt"
   ]
  },
  {
   "cell_type": "code",
   "execution_count": 37,
   "id": "d305964f",
   "metadata": {},
   "outputs": [],
   "source": [
    "#import seaborn as sns\n",
    "import subprocess\n",
    "\n",
    "# create_temp_table warning suppresion\n",
    "import warnings; warnings.simplefilter('ignore')"
   ]
  },
  {
   "cell_type": "code",
   "execution_count": 38,
   "id": "6e183a21",
   "metadata": {},
   "outputs": [],
   "source": [
    "from fosforml import register_model\n",
    "import requests"
   ]
  },
  {
   "cell_type": "code",
   "execution_count": 39,
   "id": "c6a862f7",
   "metadata": {},
   "outputs": [],
   "source": [
    "# Import label encoder \n",
    "from sklearn import preprocessing \n",
    "from sklearn.linear_model import LinearRegression, Lasso, Ridge, ElasticNet\n",
    "from sklearn.model_selection import GridSearchCV\n",
    "from sklearn.ensemble import GradientBoostingRegressor\n",
    "from sklearn.neighbors import KNeighborsRegressor\n",
    "from sklearn.metrics import mean_squared_error, mean_absolute_error, r2_score\n",
    "from sklearn.model_selection import train_test_split\n",
    "from math import sqrt\n",
    "import numpy as np"
   ]
  },
  {
   "cell_type": "code",
   "execution_count": 40,
   "id": "7707874f-2372-420c-86ff-2fd7433e67b1",
   "metadata": {},
   "outputs": [],
   "source": [
    "table_name = 'ATM_TRANSACTION_MASTER_DATA'\n",
    "\n",
    "sf_df = my_session.sql(\"select * from {}\".format(table_name))\n",
    "df = sf_df.to_pandas()"
   ]
  },
  {
   "cell_type": "code",
   "execution_count": 41,
   "id": "20c1dde7-f033-4de0-96d3-611ffa11fa83",
   "metadata": {},
   "outputs": [],
   "source": [
    "table_name = 'ATM_TRANSACTION_MASTER_DATA'\n",
    "\n",
    "sf_df = my_session.sql(\"select * from {}\".format(table_name))\n",
    "df_original = sf_df.to_pandas()"
   ]
  },
  {
   "cell_type": "code",
   "execution_count": 42,
   "id": "bf3c395c-3d10-452f-bae4-da9d41508bf6",
   "metadata": {},
   "outputs": [
    {
     "data": {
      "text/plain": [
       "Index(['DATE', 'WEEKDAY_FLAG', 'HOLIDAY_FLAG', 'BANK_ID', 'STATE', 'BANK_NAME',\n",
       "       'ATM_ID', 'DISPENSED_AMOUNT', 'TOTAL_TRANSACTION_COUNT',\n",
       "       'DOWNTIME_IN_MINS', 'ATM_MAX_CAPACITY', 'MALE_POPULATION',\n",
       "       'FEMALE_POPULATION', 'TOTAL_POPULATION', 'NO_OF_VETERANS',\n",
       "       'FOREIGN_BORN', 'AVG_HOUSEHOLD_SIZE', 'LANDAREA_SQ_MILE',\n",
       "       'POPULATION_RATIO', 'POPULATION_DENSITY', 'MEDIAN_HOUSE_INCOME',\n",
       "       'LOCATION_TYPE', 'ATM_PLACEMENTS', 'ATM_ACCESSIBILITY',\n",
       "       'ATM_MAINTAINENANCE', 'ATM__REPLENISHMENT'],\n",
       "      dtype='object')"
      ]
     },
     "execution_count": 42,
     "metadata": {},
     "output_type": "execute_result"
    }
   ],
   "source": [
    "df.columns"
   ]
  },
  {
   "cell_type": "code",
   "execution_count": 43,
   "id": "7aa8b1f6",
   "metadata": {},
   "outputs": [],
   "source": [
    "#to_drop = ['ATM_STATE_DETAILS_STATE','MALE_POPULATION','FEMALE_POPULATION','TOTAL_POPULATION','NO_OF_VETERANS','FOREIGN_BORN','AVG_HOUSEHOLD_SIZE','LANDAREA_SQ_MILE','POPULATION_RATIO','POPULATION_DENSITY','MEDIAN_HOUSE_INCOME']\n",
    "to_drop = ['MALE_POPULATION','FEMALE_POPULATION','TOTAL_POPULATION','NO_OF_VETERANS','FOREIGN_BORN','AVG_HOUSEHOLD_SIZE','LANDAREA_SQ_MILE','POPULATION_RATIO','POPULATION_DENSITY','MEDIAN_HOUSE_INCOME']\n",
    "df.drop(to_drop, inplace=True, axis=1)"
   ]
  },
  {
   "cell_type": "code",
   "execution_count": 44,
   "id": "ef55b522",
   "metadata": {},
   "outputs": [],
   "source": [
    "#to_drop = ['ATM_STATE_DETAILS_STATE','MALE_POPULATION','FEMALE_POPULATION','TOTAL_POPULATION','NO_OF_VETERANS','FOREIGN_BORN','AVG_HOUSEHOLD_SIZE','LANDAREA_SQ_MILE','POPULATION_RATIO','POPULATION_DENSITY','MEDIAN_HOUSE_INCOME']\n",
    "to_drop = ['MALE_POPULATION','FEMALE_POPULATION','TOTAL_POPULATION','NO_OF_VETERANS','FOREIGN_BORN','AVG_HOUSEHOLD_SIZE','LANDAREA_SQ_MILE','POPULATION_RATIO','POPULATION_DENSITY','MEDIAN_HOUSE_INCOME']\n",
    "df_original.drop(to_drop, inplace=True, axis=1)"
   ]
  },
  {
   "cell_type": "code",
   "execution_count": 45,
   "id": "379812bc",
   "metadata": {},
   "outputs": [
    {
     "data": {
      "text/plain": [
       "(312417, 16)"
      ]
     },
     "execution_count": 45,
     "metadata": {},
     "output_type": "execute_result"
    }
   ],
   "source": [
    "df.shape"
   ]
  },
  {
   "cell_type": "code",
   "execution_count": 46,
   "id": "d38c2a39",
   "metadata": {},
   "outputs": [
    {
     "name": "stdout",
     "output_type": "stream",
     "text": [
      "<class 'pandas.core.frame.DataFrame'>\n",
      "RangeIndex: 312417 entries, 0 to 312416\n",
      "Data columns (total 16 columns):\n",
      " #   Column                   Non-Null Count   Dtype  \n",
      "---  ------                   --------------   -----  \n",
      " 0   DATE                     312417 non-null  object \n",
      " 1   WEEKDAY_FLAG             312417 non-null  object \n",
      " 2   HOLIDAY_FLAG             312417 non-null  object \n",
      " 3   BANK_ID                  312417 non-null  int8   \n",
      " 4   STATE                    312417 non-null  object \n",
      " 5   BANK_NAME                312417 non-null  object \n",
      " 6   ATM_ID                   312417 non-null  object \n",
      " 7   DISPENSED_AMOUNT         312417 non-null  float64\n",
      " 8   TOTAL_TRANSACTION_COUNT  312417 non-null  float64\n",
      " 9   DOWNTIME_IN_MINS         312417 non-null  float64\n",
      " 10  ATM_MAX_CAPACITY         312417 non-null  float64\n",
      " 11  LOCATION_TYPE            312417 non-null  object \n",
      " 12  ATM_PLACEMENTS           312417 non-null  object \n",
      " 13  ATM_ACCESSIBILITY        312417 non-null  object \n",
      " 14  ATM_MAINTAINENANCE       312417 non-null  object \n",
      " 15  ATM__REPLENISHMENT       312417 non-null  object \n",
      "dtypes: float64(4), int8(1), object(11)\n",
      "memory usage: 36.1+ MB\n"
     ]
    }
   ],
   "source": [
    "df.info()"
   ]
  },
  {
   "cell_type": "code",
   "execution_count": 47,
   "id": "5fc8fa71",
   "metadata": {},
   "outputs": [
    {
     "data": {
      "text/html": [
       "<div>\n",
       "<style scoped>\n",
       "    .dataframe tbody tr th:only-of-type {\n",
       "        vertical-align: middle;\n",
       "    }\n",
       "\n",
       "    .dataframe tbody tr th {\n",
       "        vertical-align: top;\n",
       "    }\n",
       "\n",
       "    .dataframe thead th {\n",
       "        text-align: right;\n",
       "    }\n",
       "</style>\n",
       "<table border=\"1\" class=\"dataframe\">\n",
       "  <thead>\n",
       "    <tr style=\"text-align: right;\">\n",
       "      <th></th>\n",
       "      <th>DATE</th>\n",
       "      <th>WEEKDAY_FLAG</th>\n",
       "      <th>HOLIDAY_FLAG</th>\n",
       "      <th>BANK_ID</th>\n",
       "      <th>STATE</th>\n",
       "      <th>BANK_NAME</th>\n",
       "      <th>ATM_ID</th>\n",
       "      <th>DISPENSED_AMOUNT</th>\n",
       "      <th>TOTAL_TRANSACTION_COUNT</th>\n",
       "      <th>DOWNTIME_IN_MINS</th>\n",
       "      <th>ATM_MAX_CAPACITY</th>\n",
       "      <th>LOCATION_TYPE</th>\n",
       "      <th>ATM_PLACEMENTS</th>\n",
       "      <th>ATM_ACCESSIBILITY</th>\n",
       "      <th>ATM_MAINTAINENANCE</th>\n",
       "      <th>ATM__REPLENISHMENT</th>\n",
       "    </tr>\n",
       "  </thead>\n",
       "  <tbody>\n",
       "    <tr>\n",
       "      <th>0</th>\n",
       "      <td>2023-01-29</td>\n",
       "      <td>Y</td>\n",
       "      <td>N</td>\n",
       "      <td>3</td>\n",
       "      <td>Maine</td>\n",
       "      <td>Citibank</td>\n",
       "      <td>TBH000274025</td>\n",
       "      <td>225180.0</td>\n",
       "      <td>90.0</td>\n",
       "      <td>0.0</td>\n",
       "      <td>2860000.0</td>\n",
       "      <td>Urban</td>\n",
       "      <td>Drive-Thru</td>\n",
       "      <td>Restrcited hours</td>\n",
       "      <td>Irregular</td>\n",
       "      <td>Weekly</td>\n",
       "    </tr>\n",
       "    <tr>\n",
       "      <th>1</th>\n",
       "      <td>2023-01-30</td>\n",
       "      <td>Y</td>\n",
       "      <td>N</td>\n",
       "      <td>3</td>\n",
       "      <td>Maine</td>\n",
       "      <td>Citibank</td>\n",
       "      <td>TBH000274025</td>\n",
       "      <td>262440.0</td>\n",
       "      <td>117.0</td>\n",
       "      <td>0.0</td>\n",
       "      <td>2860000.0</td>\n",
       "      <td>Urban</td>\n",
       "      <td>Drive-Thru</td>\n",
       "      <td>Restrcited hours</td>\n",
       "      <td>Irregular</td>\n",
       "      <td>Weekly</td>\n",
       "    </tr>\n",
       "    <tr>\n",
       "      <th>2</th>\n",
       "      <td>2023-01-31</td>\n",
       "      <td>Y</td>\n",
       "      <td>N</td>\n",
       "      <td>3</td>\n",
       "      <td>Maine</td>\n",
       "      <td>Citibank</td>\n",
       "      <td>TBH000274025</td>\n",
       "      <td>561150.0</td>\n",
       "      <td>160.0</td>\n",
       "      <td>0.0</td>\n",
       "      <td>2860000.0</td>\n",
       "      <td>Urban</td>\n",
       "      <td>Drive-Thru</td>\n",
       "      <td>Restrcited hours</td>\n",
       "      <td>Irregular</td>\n",
       "      <td>Weekly</td>\n",
       "    </tr>\n",
       "    <tr>\n",
       "      <th>3</th>\n",
       "      <td>2023-02-01</td>\n",
       "      <td>Y</td>\n",
       "      <td>N</td>\n",
       "      <td>3</td>\n",
       "      <td>Maine</td>\n",
       "      <td>Citibank</td>\n",
       "      <td>TBH000274025</td>\n",
       "      <td>437220.0</td>\n",
       "      <td>129.0</td>\n",
       "      <td>0.0</td>\n",
       "      <td>2860000.0</td>\n",
       "      <td>Urban</td>\n",
       "      <td>Drive-Thru</td>\n",
       "      <td>Restrcited hours</td>\n",
       "      <td>Irregular</td>\n",
       "      <td>Weekly</td>\n",
       "    </tr>\n",
       "    <tr>\n",
       "      <th>4</th>\n",
       "      <td>2023-02-02</td>\n",
       "      <td>Y</td>\n",
       "      <td>N</td>\n",
       "      <td>3</td>\n",
       "      <td>Maine</td>\n",
       "      <td>Citibank</td>\n",
       "      <td>TBH000274025</td>\n",
       "      <td>360900.0</td>\n",
       "      <td>119.0</td>\n",
       "      <td>0.0</td>\n",
       "      <td>2860000.0</td>\n",
       "      <td>Urban</td>\n",
       "      <td>Drive-Thru</td>\n",
       "      <td>Restrcited hours</td>\n",
       "      <td>Irregular</td>\n",
       "      <td>Weekly</td>\n",
       "    </tr>\n",
       "  </tbody>\n",
       "</table>\n",
       "</div>"
      ],
      "text/plain": [
       "         DATE WEEKDAY_FLAG HOLIDAY_FLAG  BANK_ID  STATE BANK_NAME  \\\n",
       "0  2023-01-29            Y            N        3  Maine  Citibank   \n",
       "1  2023-01-30            Y            N        3  Maine  Citibank   \n",
       "2  2023-01-31            Y            N        3  Maine  Citibank   \n",
       "3  2023-02-01            Y            N        3  Maine  Citibank   \n",
       "4  2023-02-02            Y            N        3  Maine  Citibank   \n",
       "\n",
       "         ATM_ID  DISPENSED_AMOUNT  TOTAL_TRANSACTION_COUNT  DOWNTIME_IN_MINS  \\\n",
       "0  TBH000274025          225180.0                     90.0               0.0   \n",
       "1  TBH000274025          262440.0                    117.0               0.0   \n",
       "2  TBH000274025          561150.0                    160.0               0.0   \n",
       "3  TBH000274025          437220.0                    129.0               0.0   \n",
       "4  TBH000274025          360900.0                    119.0               0.0   \n",
       "\n",
       "   ATM_MAX_CAPACITY LOCATION_TYPE ATM_PLACEMENTS ATM_ACCESSIBILITY  \\\n",
       "0         2860000.0         Urban     Drive-Thru  Restrcited hours   \n",
       "1         2860000.0         Urban     Drive-Thru  Restrcited hours   \n",
       "2         2860000.0         Urban     Drive-Thru  Restrcited hours   \n",
       "3         2860000.0         Urban     Drive-Thru  Restrcited hours   \n",
       "4         2860000.0         Urban     Drive-Thru  Restrcited hours   \n",
       "\n",
       "  ATM_MAINTAINENANCE ATM__REPLENISHMENT  \n",
       "0          Irregular             Weekly  \n",
       "1          Irregular             Weekly  \n",
       "2          Irregular             Weekly  \n",
       "3          Irregular             Weekly  \n",
       "4          Irregular             Weekly  "
      ]
     },
     "execution_count": 47,
     "metadata": {},
     "output_type": "execute_result"
    }
   ],
   "source": [
    "df.head()"
   ]
  },
  {
   "cell_type": "code",
   "execution_count": 48,
   "id": "aaf92191",
   "metadata": {},
   "outputs": [
    {
     "data": {
      "text/plain": [
       "Index(['DATE', 'WEEKDAY_FLAG', 'HOLIDAY_FLAG', 'BANK_ID', 'STATE', 'BANK_NAME',\n",
       "       'ATM_ID', 'DISPENSED_AMOUNT', 'TOTAL_TRANSACTION_COUNT',\n",
       "       'DOWNTIME_IN_MINS', 'ATM_MAX_CAPACITY', 'LOCATION_TYPE',\n",
       "       'ATM_PLACEMENTS', 'ATM_ACCESSIBILITY', 'ATM_MAINTAINENANCE',\n",
       "       'ATM__REPLENISHMENT'],\n",
       "      dtype='object')"
      ]
     },
     "execution_count": 48,
     "metadata": {},
     "output_type": "execute_result"
    }
   ],
   "source": [
    "df.columns"
   ]
  },
  {
   "cell_type": "code",
   "execution_count": 49,
   "id": "0934b554",
   "metadata": {},
   "outputs": [
    {
     "data": {
      "text/plain": [
       "DATE                       0\n",
       "WEEKDAY_FLAG               0\n",
       "HOLIDAY_FLAG               0\n",
       "BANK_ID                    0\n",
       "STATE                      0\n",
       "BANK_NAME                  0\n",
       "ATM_ID                     0\n",
       "DISPENSED_AMOUNT           0\n",
       "TOTAL_TRANSACTION_COUNT    0\n",
       "DOWNTIME_IN_MINS           0\n",
       "ATM_MAX_CAPACITY           0\n",
       "LOCATION_TYPE              0\n",
       "ATM_PLACEMENTS             0\n",
       "ATM_ACCESSIBILITY          0\n",
       "ATM_MAINTAINENANCE         0\n",
       "ATM__REPLENISHMENT         0\n",
       "dtype: int64"
      ]
     },
     "execution_count": 49,
     "metadata": {},
     "output_type": "execute_result"
    }
   ],
   "source": [
    "df.isnull().sum()"
   ]
  },
  {
   "cell_type": "code",
   "execution_count": 50,
   "id": "4ec2aad5",
   "metadata": {},
   "outputs": [
    {
     "name": "stdout",
     "output_type": "stream",
     "text": [
      "<class 'pandas.core.frame.DataFrame'>\n",
      "RangeIndex: 312417 entries, 0 to 312416\n",
      "Data columns (total 16 columns):\n",
      " #   Column                   Non-Null Count   Dtype  \n",
      "---  ------                   --------------   -----  \n",
      " 0   DATE                     312417 non-null  object \n",
      " 1   WEEKDAY_FLAG             312417 non-null  object \n",
      " 2   HOLIDAY_FLAG             312417 non-null  object \n",
      " 3   BANK_ID                  312417 non-null  int8   \n",
      " 4   STATE                    312417 non-null  object \n",
      " 5   BANK_NAME                312417 non-null  object \n",
      " 6   ATM_ID                   312417 non-null  object \n",
      " 7   DISPENSED_AMOUNT         312417 non-null  float64\n",
      " 8   TOTAL_TRANSACTION_COUNT  312417 non-null  float64\n",
      " 9   DOWNTIME_IN_MINS         312417 non-null  float64\n",
      " 10  ATM_MAX_CAPACITY         312417 non-null  float64\n",
      " 11  LOCATION_TYPE            312417 non-null  object \n",
      " 12  ATM_PLACEMENTS           312417 non-null  object \n",
      " 13  ATM_ACCESSIBILITY        312417 non-null  object \n",
      " 14  ATM_MAINTAINENANCE       312417 non-null  object \n",
      " 15  ATM__REPLENISHMENT       312417 non-null  object \n",
      "dtypes: float64(4), int8(1), object(11)\n",
      "memory usage: 36.1+ MB\n"
     ]
    }
   ],
   "source": [
    "df.info()"
   ]
  },
  {
   "cell_type": "code",
   "execution_count": 51,
   "id": "4a79e15c",
   "metadata": {},
   "outputs": [],
   "source": [
    "df['DATE'] = pd.to_datetime(df['DATE'])\n",
    "df['HOUR'] = df['DATE'].dt.hour\n",
    "df['DAYOFWEEK'] = df['DATE'].dt.dayofweek\n",
    "df['QUARTER'] = df['DATE'].dt.quarter\n",
    "df['MONTH'] = df['DATE'].dt.month\n",
    "df['YEAR'] = df['DATE'].dt.year\n",
    "df['DAYOFYEAR'] = df['DATE'].dt.dayofyear\n",
    "df['DAYOFMONTH'] = df['DATE'].dt.day\n",
    "df['DATE'] = pd.to_datetime(df['DATE']).dt.strftime(\"%Y-%m-%d %H:%M:%S.%f\")"
   ]
  },
  {
   "cell_type": "code",
   "execution_count": 52,
   "id": "f588d4bf",
   "metadata": {},
   "outputs": [],
   "source": [
    "df['WEEKDAY_FLAG'] = df['WEEKDAY_FLAG'].map({'Y': 1, 'N': 0})\n",
    "df['HOLIDAY_FLAG'] = df['HOLIDAY_FLAG'].map({'Y': 1, 'N': 0})"
   ]
  },
  {
   "cell_type": "code",
   "execution_count": 53,
   "id": "b45c8e98",
   "metadata": {},
   "outputs": [
    {
     "data": {
      "text/html": [
       "<div>\n",
       "<style scoped>\n",
       "    .dataframe tbody tr th:only-of-type {\n",
       "        vertical-align: middle;\n",
       "    }\n",
       "\n",
       "    .dataframe tbody tr th {\n",
       "        vertical-align: top;\n",
       "    }\n",
       "\n",
       "    .dataframe thead th {\n",
       "        text-align: right;\n",
       "    }\n",
       "</style>\n",
       "<table border=\"1\" class=\"dataframe\">\n",
       "  <thead>\n",
       "    <tr style=\"text-align: right;\">\n",
       "      <th></th>\n",
       "      <th>DATE</th>\n",
       "      <th>WEEKDAY_FLAG</th>\n",
       "      <th>HOLIDAY_FLAG</th>\n",
       "      <th>BANK_ID</th>\n",
       "      <th>STATE</th>\n",
       "      <th>BANK_NAME</th>\n",
       "      <th>ATM_ID</th>\n",
       "      <th>DISPENSED_AMOUNT</th>\n",
       "      <th>TOTAL_TRANSACTION_COUNT</th>\n",
       "      <th>DOWNTIME_IN_MINS</th>\n",
       "      <th>...</th>\n",
       "      <th>ATM_ACCESSIBILITY</th>\n",
       "      <th>ATM_MAINTAINENANCE</th>\n",
       "      <th>ATM__REPLENISHMENT</th>\n",
       "      <th>HOUR</th>\n",
       "      <th>DAYOFWEEK</th>\n",
       "      <th>QUARTER</th>\n",
       "      <th>MONTH</th>\n",
       "      <th>YEAR</th>\n",
       "      <th>DAYOFYEAR</th>\n",
       "      <th>DAYOFMONTH</th>\n",
       "    </tr>\n",
       "  </thead>\n",
       "  <tbody>\n",
       "    <tr>\n",
       "      <th>0</th>\n",
       "      <td>2023-01-29 00:00:00.000000</td>\n",
       "      <td>1</td>\n",
       "      <td>0</td>\n",
       "      <td>3</td>\n",
       "      <td>Maine</td>\n",
       "      <td>Citibank</td>\n",
       "      <td>TBH000274025</td>\n",
       "      <td>225180.0</td>\n",
       "      <td>90.0</td>\n",
       "      <td>0.0</td>\n",
       "      <td>...</td>\n",
       "      <td>Restrcited hours</td>\n",
       "      <td>Irregular</td>\n",
       "      <td>Weekly</td>\n",
       "      <td>0</td>\n",
       "      <td>6</td>\n",
       "      <td>1</td>\n",
       "      <td>1</td>\n",
       "      <td>2023</td>\n",
       "      <td>29</td>\n",
       "      <td>29</td>\n",
       "    </tr>\n",
       "    <tr>\n",
       "      <th>1</th>\n",
       "      <td>2023-01-30 00:00:00.000000</td>\n",
       "      <td>1</td>\n",
       "      <td>0</td>\n",
       "      <td>3</td>\n",
       "      <td>Maine</td>\n",
       "      <td>Citibank</td>\n",
       "      <td>TBH000274025</td>\n",
       "      <td>262440.0</td>\n",
       "      <td>117.0</td>\n",
       "      <td>0.0</td>\n",
       "      <td>...</td>\n",
       "      <td>Restrcited hours</td>\n",
       "      <td>Irregular</td>\n",
       "      <td>Weekly</td>\n",
       "      <td>0</td>\n",
       "      <td>0</td>\n",
       "      <td>1</td>\n",
       "      <td>1</td>\n",
       "      <td>2023</td>\n",
       "      <td>30</td>\n",
       "      <td>30</td>\n",
       "    </tr>\n",
       "    <tr>\n",
       "      <th>2</th>\n",
       "      <td>2023-01-31 00:00:00.000000</td>\n",
       "      <td>1</td>\n",
       "      <td>0</td>\n",
       "      <td>3</td>\n",
       "      <td>Maine</td>\n",
       "      <td>Citibank</td>\n",
       "      <td>TBH000274025</td>\n",
       "      <td>561150.0</td>\n",
       "      <td>160.0</td>\n",
       "      <td>0.0</td>\n",
       "      <td>...</td>\n",
       "      <td>Restrcited hours</td>\n",
       "      <td>Irregular</td>\n",
       "      <td>Weekly</td>\n",
       "      <td>0</td>\n",
       "      <td>1</td>\n",
       "      <td>1</td>\n",
       "      <td>1</td>\n",
       "      <td>2023</td>\n",
       "      <td>31</td>\n",
       "      <td>31</td>\n",
       "    </tr>\n",
       "    <tr>\n",
       "      <th>3</th>\n",
       "      <td>2023-02-01 00:00:00.000000</td>\n",
       "      <td>1</td>\n",
       "      <td>0</td>\n",
       "      <td>3</td>\n",
       "      <td>Maine</td>\n",
       "      <td>Citibank</td>\n",
       "      <td>TBH000274025</td>\n",
       "      <td>437220.0</td>\n",
       "      <td>129.0</td>\n",
       "      <td>0.0</td>\n",
       "      <td>...</td>\n",
       "      <td>Restrcited hours</td>\n",
       "      <td>Irregular</td>\n",
       "      <td>Weekly</td>\n",
       "      <td>0</td>\n",
       "      <td>2</td>\n",
       "      <td>1</td>\n",
       "      <td>2</td>\n",
       "      <td>2023</td>\n",
       "      <td>32</td>\n",
       "      <td>1</td>\n",
       "    </tr>\n",
       "    <tr>\n",
       "      <th>4</th>\n",
       "      <td>2023-02-02 00:00:00.000000</td>\n",
       "      <td>1</td>\n",
       "      <td>0</td>\n",
       "      <td>3</td>\n",
       "      <td>Maine</td>\n",
       "      <td>Citibank</td>\n",
       "      <td>TBH000274025</td>\n",
       "      <td>360900.0</td>\n",
       "      <td>119.0</td>\n",
       "      <td>0.0</td>\n",
       "      <td>...</td>\n",
       "      <td>Restrcited hours</td>\n",
       "      <td>Irregular</td>\n",
       "      <td>Weekly</td>\n",
       "      <td>0</td>\n",
       "      <td>3</td>\n",
       "      <td>1</td>\n",
       "      <td>2</td>\n",
       "      <td>2023</td>\n",
       "      <td>33</td>\n",
       "      <td>2</td>\n",
       "    </tr>\n",
       "  </tbody>\n",
       "</table>\n",
       "<p>5 rows × 23 columns</p>\n",
       "</div>"
      ],
      "text/plain": [
       "                         DATE  WEEKDAY_FLAG  HOLIDAY_FLAG  BANK_ID  STATE  \\\n",
       "0  2023-01-29 00:00:00.000000             1             0        3  Maine   \n",
       "1  2023-01-30 00:00:00.000000             1             0        3  Maine   \n",
       "2  2023-01-31 00:00:00.000000             1             0        3  Maine   \n",
       "3  2023-02-01 00:00:00.000000             1             0        3  Maine   \n",
       "4  2023-02-02 00:00:00.000000             1             0        3  Maine   \n",
       "\n",
       "  BANK_NAME        ATM_ID  DISPENSED_AMOUNT  TOTAL_TRANSACTION_COUNT  \\\n",
       "0  Citibank  TBH000274025          225180.0                     90.0   \n",
       "1  Citibank  TBH000274025          262440.0                    117.0   \n",
       "2  Citibank  TBH000274025          561150.0                    160.0   \n",
       "3  Citibank  TBH000274025          437220.0                    129.0   \n",
       "4  Citibank  TBH000274025          360900.0                    119.0   \n",
       "\n",
       "   DOWNTIME_IN_MINS  ...  ATM_ACCESSIBILITY ATM_MAINTAINENANCE  \\\n",
       "0               0.0  ...   Restrcited hours          Irregular   \n",
       "1               0.0  ...   Restrcited hours          Irregular   \n",
       "2               0.0  ...   Restrcited hours          Irregular   \n",
       "3               0.0  ...   Restrcited hours          Irregular   \n",
       "4               0.0  ...   Restrcited hours          Irregular   \n",
       "\n",
       "  ATM__REPLENISHMENT HOUR DAYOFWEEK QUARTER  MONTH  YEAR  DAYOFYEAR  \\\n",
       "0             Weekly    0         6       1      1  2023         29   \n",
       "1             Weekly    0         0       1      1  2023         30   \n",
       "2             Weekly    0         1       1      1  2023         31   \n",
       "3             Weekly    0         2       1      2  2023         32   \n",
       "4             Weekly    0         3       1      2  2023         33   \n",
       "\n",
       "   DAYOFMONTH  \n",
       "0          29  \n",
       "1          30  \n",
       "2          31  \n",
       "3           1  \n",
       "4           2  \n",
       "\n",
       "[5 rows x 23 columns]"
      ]
     },
     "execution_count": 53,
     "metadata": {},
     "output_type": "execute_result"
    }
   ],
   "source": [
    "df.head()"
   ]
  },
  {
   "cell_type": "code",
   "execution_count": 54,
   "id": "af29f148",
   "metadata": {},
   "outputs": [
    {
     "name": "stdout",
     "output_type": "stream",
     "text": [
      "<class 'pandas.core.frame.DataFrame'>\n",
      "RangeIndex: 312417 entries, 0 to 312416\n",
      "Data columns (total 23 columns):\n",
      " #   Column                   Non-Null Count   Dtype  \n",
      "---  ------                   --------------   -----  \n",
      " 0   DATE                     312417 non-null  object \n",
      " 1   WEEKDAY_FLAG             312417 non-null  int64  \n",
      " 2   HOLIDAY_FLAG             312417 non-null  int64  \n",
      " 3   BANK_ID                  312417 non-null  int8   \n",
      " 4   STATE                    312417 non-null  object \n",
      " 5   BANK_NAME                312417 non-null  object \n",
      " 6   ATM_ID                   312417 non-null  object \n",
      " 7   DISPENSED_AMOUNT         312417 non-null  float64\n",
      " 8   TOTAL_TRANSACTION_COUNT  312417 non-null  float64\n",
      " 9   DOWNTIME_IN_MINS         312417 non-null  float64\n",
      " 10  ATM_MAX_CAPACITY         312417 non-null  float64\n",
      " 11  LOCATION_TYPE            312417 non-null  object \n",
      " 12  ATM_PLACEMENTS           312417 non-null  object \n",
      " 13  ATM_ACCESSIBILITY        312417 non-null  object \n",
      " 14  ATM_MAINTAINENANCE       312417 non-null  object \n",
      " 15  ATM__REPLENISHMENT       312417 non-null  object \n",
      " 16  HOUR                     312417 non-null  int32  \n",
      " 17  DAYOFWEEK                312417 non-null  int32  \n",
      " 18  QUARTER                  312417 non-null  int32  \n",
      " 19  MONTH                    312417 non-null  int32  \n",
      " 20  YEAR                     312417 non-null  int32  \n",
      " 21  DAYOFYEAR                312417 non-null  int32  \n",
      " 22  DAYOFMONTH               312417 non-null  int32  \n",
      "dtypes: float64(4), int32(7), int64(2), int8(1), object(9)\n",
      "memory usage: 44.4+ MB\n"
     ]
    }
   ],
   "source": [
    "df.info()"
   ]
  },
  {
   "cell_type": "code",
   "execution_count": 55,
   "id": "b2f64a54",
   "metadata": {},
   "outputs": [],
   "source": [
    "# how to understand word labels. \n",
    "label_encoder = preprocessing.LabelEncoder() \n",
    "  \n",
    "# Encode labels in column 'species'. \n",
    "df['STATE']= label_encoder.fit_transform(df['STATE'])"
   ]
  },
  {
   "cell_type": "code",
   "execution_count": 56,
   "id": "bdc55fa5",
   "metadata": {},
   "outputs": [],
   "source": [
    "# how to understand word labels. \n",
    "atm_encoder = preprocessing.LabelEncoder() \n",
    "  \n",
    "# Encode labels in column 'species'. \n",
    "df['ATM_ID']= atm_encoder.fit_transform(df['ATM_ID'])"
   ]
  },
  {
   "cell_type": "code",
   "execution_count": 57,
   "id": "65be5819",
   "metadata": {},
   "outputs": [],
   "source": [
    "df.drop(['DATE','BANK_NAME','TOTAL_TRANSACTION_COUNT','DOWNTIME_IN_MINS','ATM_MAX_CAPACITY'], axis=1,inplace=True)"
   ]
  },
  {
   "cell_type": "code",
   "execution_count": 58,
   "id": "c60a3cd9",
   "metadata": {
    "scrolled": true
   },
   "outputs": [
    {
     "data": {
      "text/plain": [
       "Index(['WEEKDAY_FLAG', 'HOLIDAY_FLAG', 'BANK_ID', 'STATE', 'ATM_ID',\n",
       "       'DISPENSED_AMOUNT', 'LOCATION_TYPE', 'ATM_PLACEMENTS',\n",
       "       'ATM_ACCESSIBILITY', 'ATM_MAINTAINENANCE', 'ATM__REPLENISHMENT', 'HOUR',\n",
       "       'DAYOFWEEK', 'QUARTER', 'MONTH', 'YEAR', 'DAYOFYEAR', 'DAYOFMONTH'],\n",
       "      dtype='object')"
      ]
     },
     "execution_count": 58,
     "metadata": {},
     "output_type": "execute_result"
    }
   ],
   "source": [
    "df.columns"
   ]
  },
  {
   "cell_type": "code",
   "execution_count": 59,
   "id": "3d4c4fd3",
   "metadata": {},
   "outputs": [],
   "source": [
    "features = ['WEEKDAY_FLAG', 'HOLIDAY_FLAG', 'BANK_ID', 'STATE', 'ATM_ID',\n",
    "    'HOUR', 'DAYOFWEEK', 'QUARTER', 'MONTH', 'YEAR',\n",
    "       'DAYOFYEAR', 'DAYOFMONTH']"
   ]
  },
  {
   "cell_type": "code",
   "execution_count": 60,
   "id": "9eb38aef",
   "metadata": {},
   "outputs": [
    {
     "name": "stdout",
     "output_type": "stream",
     "text": [
      "(312417, 18)\n",
      "(257564, 18)\n"
     ]
    }
   ],
   "source": [
    "print (df.shape)\n",
    "df = df[df['DISPENSED_AMOUNT'] > 0]\n",
    "print (df.shape)"
   ]
  },
  {
   "cell_type": "code",
   "execution_count": 61,
   "id": "d3667290",
   "metadata": {},
   "outputs": [],
   "source": [
    "X = df[features]\n",
    "y = df['DISPENSED_AMOUNT']"
   ]
  },
  {
   "cell_type": "code",
   "execution_count": 62,
   "id": "af1229a2",
   "metadata": {},
   "outputs": [
    {
     "data": {
      "text/html": [
       "<div>\n",
       "<style scoped>\n",
       "    .dataframe tbody tr th:only-of-type {\n",
       "        vertical-align: middle;\n",
       "    }\n",
       "\n",
       "    .dataframe tbody tr th {\n",
       "        vertical-align: top;\n",
       "    }\n",
       "\n",
       "    .dataframe thead th {\n",
       "        text-align: right;\n",
       "    }\n",
       "</style>\n",
       "<table border=\"1\" class=\"dataframe\">\n",
       "  <thead>\n",
       "    <tr style=\"text-align: right;\">\n",
       "      <th></th>\n",
       "      <th>WEEKDAY_FLAG</th>\n",
       "      <th>HOLIDAY_FLAG</th>\n",
       "      <th>BANK_ID</th>\n",
       "      <th>STATE</th>\n",
       "      <th>ATM_ID</th>\n",
       "      <th>HOUR</th>\n",
       "      <th>DAYOFWEEK</th>\n",
       "      <th>QUARTER</th>\n",
       "      <th>MONTH</th>\n",
       "      <th>YEAR</th>\n",
       "      <th>DAYOFYEAR</th>\n",
       "      <th>DAYOFMONTH</th>\n",
       "    </tr>\n",
       "  </thead>\n",
       "  <tbody>\n",
       "    <tr>\n",
       "      <th>0</th>\n",
       "      <td>1</td>\n",
       "      <td>0</td>\n",
       "      <td>3</td>\n",
       "      <td>18</td>\n",
       "      <td>299</td>\n",
       "      <td>0</td>\n",
       "      <td>6</td>\n",
       "      <td>1</td>\n",
       "      <td>1</td>\n",
       "      <td>2023</td>\n",
       "      <td>29</td>\n",
       "      <td>29</td>\n",
       "    </tr>\n",
       "    <tr>\n",
       "      <th>1</th>\n",
       "      <td>1</td>\n",
       "      <td>0</td>\n",
       "      <td>3</td>\n",
       "      <td>18</td>\n",
       "      <td>299</td>\n",
       "      <td>0</td>\n",
       "      <td>0</td>\n",
       "      <td>1</td>\n",
       "      <td>1</td>\n",
       "      <td>2023</td>\n",
       "      <td>30</td>\n",
       "      <td>30</td>\n",
       "    </tr>\n",
       "    <tr>\n",
       "      <th>2</th>\n",
       "      <td>1</td>\n",
       "      <td>0</td>\n",
       "      <td>3</td>\n",
       "      <td>18</td>\n",
       "      <td>299</td>\n",
       "      <td>0</td>\n",
       "      <td>1</td>\n",
       "      <td>1</td>\n",
       "      <td>1</td>\n",
       "      <td>2023</td>\n",
       "      <td>31</td>\n",
       "      <td>31</td>\n",
       "    </tr>\n",
       "    <tr>\n",
       "      <th>3</th>\n",
       "      <td>1</td>\n",
       "      <td>0</td>\n",
       "      <td>3</td>\n",
       "      <td>18</td>\n",
       "      <td>299</td>\n",
       "      <td>0</td>\n",
       "      <td>2</td>\n",
       "      <td>1</td>\n",
       "      <td>2</td>\n",
       "      <td>2023</td>\n",
       "      <td>32</td>\n",
       "      <td>1</td>\n",
       "    </tr>\n",
       "    <tr>\n",
       "      <th>4</th>\n",
       "      <td>1</td>\n",
       "      <td>0</td>\n",
       "      <td>3</td>\n",
       "      <td>18</td>\n",
       "      <td>299</td>\n",
       "      <td>0</td>\n",
       "      <td>3</td>\n",
       "      <td>1</td>\n",
       "      <td>2</td>\n",
       "      <td>2023</td>\n",
       "      <td>33</td>\n",
       "      <td>2</td>\n",
       "    </tr>\n",
       "  </tbody>\n",
       "</table>\n",
       "</div>"
      ],
      "text/plain": [
       "   WEEKDAY_FLAG  HOLIDAY_FLAG  BANK_ID  STATE  ATM_ID  HOUR  DAYOFWEEK  \\\n",
       "0             1             0        3     18     299     0          6   \n",
       "1             1             0        3     18     299     0          0   \n",
       "2             1             0        3     18     299     0          1   \n",
       "3             1             0        3     18     299     0          2   \n",
       "4             1             0        3     18     299     0          3   \n",
       "\n",
       "   QUARTER  MONTH  YEAR  DAYOFYEAR  DAYOFMONTH  \n",
       "0        1      1  2023         29          29  \n",
       "1        1      1  2023         30          30  \n",
       "2        1      1  2023         31          31  \n",
       "3        1      2  2023         32           1  \n",
       "4        1      2  2023         33           2  "
      ]
     },
     "execution_count": 62,
     "metadata": {},
     "output_type": "execute_result"
    }
   ],
   "source": [
    "X.head()"
   ]
  },
  {
   "cell_type": "code",
   "execution_count": 63,
   "id": "7b95143a",
   "metadata": {},
   "outputs": [
    {
     "data": {
      "text/plain": [
       "0         225180.0\n",
       "1         262440.0\n",
       "2         561150.0\n",
       "3         437220.0\n",
       "4         360900.0\n",
       "            ...   \n",
       "312412    195300.0\n",
       "312413    245160.0\n",
       "312414    222480.0\n",
       "312415    198360.0\n",
       "312416    314190.0\n",
       "Name: DISPENSED_AMOUNT, Length: 257564, dtype: float64"
      ]
     },
     "execution_count": 63,
     "metadata": {},
     "output_type": "execute_result"
    }
   ],
   "source": [
    "y"
   ]
  },
  {
   "cell_type": "code",
   "execution_count": 64,
   "id": "bdb41821",
   "metadata": {},
   "outputs": [],
   "source": [
    "# Split the data into training and test sets. (0.75, 0.25) split.\n",
    "X_train, X_test, y_train, y_test = train_test_split(X, y, train_size=0.75, test_size=0.25)"
   ]
  },
  {
   "cell_type": "code",
   "execution_count": 65,
   "id": "8e7b13ac",
   "metadata": {},
   "outputs": [
    {
     "name": "stdout",
     "output_type": "stream",
     "text": [
      "Total # of sample in whole dataset: 257564\n",
      "**************************************************\n",
      "Total # of sample in train dataset: 193173\n",
      "Shape of X_train: (193173, 12)\n",
      "**************************************************\n",
      "Total # of sample in test dataset: 64391\n",
      "Shape of X_test: (64391, 12)\n"
     ]
    }
   ],
   "source": [
    "print(f'Total # of sample in whole dataset: {len(X)}')\n",
    "print(\"*****\"*10)\n",
    "print(f'Total # of sample in train dataset: {len(X_train)}')\n",
    "print(f'Shape of X_train: {X_train.shape}')\n",
    "print(\"*****\"*10)\n",
    "print(f'Total # of sample in test dataset: {len(X_test)}')\n",
    "print(f'Shape of X_test: {X_test.shape}')"
   ]
  },
  {
   "cell_type": "markdown",
   "id": "442bc604",
   "metadata": {},
   "source": [
    "# Linear Regression"
   ]
  },
  {
   "cell_type": "code",
   "execution_count": 66,
   "id": "bcf03a55",
   "metadata": {},
   "outputs": [],
   "source": [
    "Lreg = LinearRegression()"
   ]
  },
  {
   "cell_type": "code",
   "execution_count": 67,
   "id": "5a12467d",
   "metadata": {},
   "outputs": [
    {
     "data": {
      "text/html": [
       "<style>#sk-container-id-1 {color: black;}#sk-container-id-1 pre{padding: 0;}#sk-container-id-1 div.sk-toggleable {background-color: white;}#sk-container-id-1 label.sk-toggleable__label {cursor: pointer;display: block;width: 100%;margin-bottom: 0;padding: 0.3em;box-sizing: border-box;text-align: center;}#sk-container-id-1 label.sk-toggleable__label-arrow:before {content: \"▸\";float: left;margin-right: 0.25em;color: #696969;}#sk-container-id-1 label.sk-toggleable__label-arrow:hover:before {color: black;}#sk-container-id-1 div.sk-estimator:hover label.sk-toggleable__label-arrow:before {color: black;}#sk-container-id-1 div.sk-toggleable__content {max-height: 0;max-width: 0;overflow: hidden;text-align: left;background-color: #f0f8ff;}#sk-container-id-1 div.sk-toggleable__content pre {margin: 0.2em;color: black;border-radius: 0.25em;background-color: #f0f8ff;}#sk-container-id-1 input.sk-toggleable__control:checked~div.sk-toggleable__content {max-height: 200px;max-width: 100%;overflow: auto;}#sk-container-id-1 input.sk-toggleable__control:checked~label.sk-toggleable__label-arrow:before {content: \"▾\";}#sk-container-id-1 div.sk-estimator input.sk-toggleable__control:checked~label.sk-toggleable__label {background-color: #d4ebff;}#sk-container-id-1 div.sk-label input.sk-toggleable__control:checked~label.sk-toggleable__label {background-color: #d4ebff;}#sk-container-id-1 input.sk-hidden--visually {border: 0;clip: rect(1px 1px 1px 1px);clip: rect(1px, 1px, 1px, 1px);height: 1px;margin: -1px;overflow: hidden;padding: 0;position: absolute;width: 1px;}#sk-container-id-1 div.sk-estimator {font-family: monospace;background-color: #f0f8ff;border: 1px dotted black;border-radius: 0.25em;box-sizing: border-box;margin-bottom: 0.5em;}#sk-container-id-1 div.sk-estimator:hover {background-color: #d4ebff;}#sk-container-id-1 div.sk-parallel-item::after {content: \"\";width: 100%;border-bottom: 1px solid gray;flex-grow: 1;}#sk-container-id-1 div.sk-label:hover label.sk-toggleable__label {background-color: #d4ebff;}#sk-container-id-1 div.sk-serial::before {content: \"\";position: absolute;border-left: 1px solid gray;box-sizing: border-box;top: 0;bottom: 0;left: 50%;z-index: 0;}#sk-container-id-1 div.sk-serial {display: flex;flex-direction: column;align-items: center;background-color: white;padding-right: 0.2em;padding-left: 0.2em;position: relative;}#sk-container-id-1 div.sk-item {position: relative;z-index: 1;}#sk-container-id-1 div.sk-parallel {display: flex;align-items: stretch;justify-content: center;background-color: white;position: relative;}#sk-container-id-1 div.sk-item::before, #sk-container-id-1 div.sk-parallel-item::before {content: \"\";position: absolute;border-left: 1px solid gray;box-sizing: border-box;top: 0;bottom: 0;left: 50%;z-index: -1;}#sk-container-id-1 div.sk-parallel-item {display: flex;flex-direction: column;z-index: 1;position: relative;background-color: white;}#sk-container-id-1 div.sk-parallel-item:first-child::after {align-self: flex-end;width: 50%;}#sk-container-id-1 div.sk-parallel-item:last-child::after {align-self: flex-start;width: 50%;}#sk-container-id-1 div.sk-parallel-item:only-child::after {width: 0;}#sk-container-id-1 div.sk-dashed-wrapped {border: 1px dashed gray;margin: 0 0.4em 0.5em 0.4em;box-sizing: border-box;padding-bottom: 0.4em;background-color: white;}#sk-container-id-1 div.sk-label label {font-family: monospace;font-weight: bold;display: inline-block;line-height: 1.2em;}#sk-container-id-1 div.sk-label-container {text-align: center;}#sk-container-id-1 div.sk-container {/* jupyter's `normalize.less` sets `[hidden] { display: none; }` but bootstrap.min.css set `[hidden] { display: none !important; }` so we also need the `!important` here to be able to override the default hidden behavior on the sphinx rendered scikit-learn.org. See: https://github.com/scikit-learn/scikit-learn/issues/21755 */display: inline-block !important;position: relative;}#sk-container-id-1 div.sk-text-repr-fallback {display: none;}</style><div id=\"sk-container-id-1\" class=\"sk-top-container\"><div class=\"sk-text-repr-fallback\"><pre>LinearRegression()</pre><b>In a Jupyter environment, please rerun this cell to show the HTML representation or trust the notebook. <br />On GitHub, the HTML representation is unable to render, please try loading this page with nbviewer.org.</b></div><div class=\"sk-container\" hidden><div class=\"sk-item\"><div class=\"sk-estimator sk-toggleable\"><input class=\"sk-toggleable__control sk-hidden--visually\" id=\"sk-estimator-id-1\" type=\"checkbox\" checked><label for=\"sk-estimator-id-1\" class=\"sk-toggleable__label sk-toggleable__label-arrow\">LinearRegression</label><div class=\"sk-toggleable__content\"><pre>LinearRegression()</pre></div></div></div></div></div>"
      ],
      "text/plain": [
       "LinearRegression()"
      ]
     },
     "execution_count": 67,
     "metadata": {},
     "output_type": "execute_result"
    }
   ],
   "source": [
    "Lreg.fit(X_train,  y_train)"
   ]
  },
  {
   "cell_type": "code",
   "execution_count": 68,
   "id": "77d38476",
   "metadata": {},
   "outputs": [],
   "source": [
    "predictions = Lreg.predict(X_test)"
   ]
  },
  {
   "cell_type": "code",
   "execution_count": 69,
   "id": "7a87301e",
   "metadata": {
    "scrolled": true
   },
   "outputs": [
    {
     "name": "stdout",
     "output_type": "stream",
     "text": [
      "Mean Absolute Error: 194804.07995551525\n",
      "Mean Squared Error: 61359397193.44236\n",
      "Root Mean Squared Error: 247708.29052222366\n",
      "r2_score: 0.1159294149693143\n"
     ]
    }
   ],
   "source": [
    "print('Mean Absolute Error:', mean_absolute_error(y_test,predictions))\n",
    "print('Mean Squared Error:', mean_squared_error(y_test,predictions))\n",
    "print('Root Mean Squared Error:', np.sqrt(mean_squared_error(y_test,predictions)))\n",
    "print('r2_score:', r2_score(y_test,predictions))"
   ]
  },
  {
   "cell_type": "markdown",
   "id": "32f4cee6",
   "metadata": {},
   "source": [
    "# Lasso Regression"
   ]
  },
  {
   "cell_type": "code",
   "execution_count": 70,
   "id": "ae92b6b0",
   "metadata": {},
   "outputs": [],
   "source": [
    "Lreg = Lasso()"
   ]
  },
  {
   "cell_type": "code",
   "execution_count": 71,
   "id": "89e0864a",
   "metadata": {},
   "outputs": [
    {
     "name": "stdout",
     "output_type": "stream",
     "text": [
      "Mean Absolute Error: 194834.66575604852\n",
      "Mean Squared Error: 61406024201.596275\n",
      "Root Mean Squared Error: 247802.3894186581\n",
      "r2_score: 0.11525760969966814\n"
     ]
    }
   ],
   "source": [
    "Lreg.fit(X_train,  y_train)\n",
    "predictions = Lreg.predict(X_test)\n",
    "\n",
    "print('Mean Absolute Error:', mean_absolute_error(y_test,predictions))\n",
    "print('Mean Squared Error:', mean_squared_error(y_test,predictions))\n",
    "print('Root Mean Squared Error:', np.sqrt(mean_squared_error(y_test,predictions)))\n",
    "print('r2_score:', r2_score(y_test,predictions))"
   ]
  },
  {
   "cell_type": "markdown",
   "id": "dc1f6554",
   "metadata": {},
   "source": [
    "# Ridge Regression"
   ]
  },
  {
   "cell_type": "code",
   "execution_count": 72,
   "id": "d63cae50",
   "metadata": {},
   "outputs": [],
   "source": [
    "Lreg = Ridge()"
   ]
  },
  {
   "cell_type": "code",
   "execution_count": 73,
   "id": "bea8349f",
   "metadata": {},
   "outputs": [
    {
     "name": "stdout",
     "output_type": "stream",
     "text": [
      "Mean Absolute Error: 194803.7912526467\n",
      "Mean Squared Error: 61359462762.85284\n",
      "Root Mean Squared Error: 247708.42287425924\n",
      "r2_score: 0.11592847024055664\n"
     ]
    }
   ],
   "source": [
    "Lreg.fit(X_train,  y_train)\n",
    "predictions = Lreg.predict(X_test)\n",
    "\n",
    "print('Mean Absolute Error:', mean_absolute_error(y_test,predictions))\n",
    "print('Mean Squared Error:', mean_squared_error(y_test,predictions))\n",
    "print('Root Mean Squared Error:', np.sqrt(mean_squared_error(y_test,predictions)))\n",
    "print('r2_score:', r2_score(y_test,predictions))"
   ]
  },
  {
   "cell_type": "markdown",
   "id": "24ea0209",
   "metadata": {},
   "source": [
    "# K-Nearest Neighbour"
   ]
  },
  {
   "cell_type": "code",
   "execution_count": 74,
   "id": "0d25058d",
   "metadata": {},
   "outputs": [],
   "source": [
    "Lreg = KNeighborsRegressor()"
   ]
  },
  {
   "cell_type": "code",
   "execution_count": 75,
   "id": "e4d20901",
   "metadata": {
    "scrolled": true
   },
   "outputs": [
    {
     "data": {
      "text/html": [
       "<style>#sk-container-id-2 {color: black;}#sk-container-id-2 pre{padding: 0;}#sk-container-id-2 div.sk-toggleable {background-color: white;}#sk-container-id-2 label.sk-toggleable__label {cursor: pointer;display: block;width: 100%;margin-bottom: 0;padding: 0.3em;box-sizing: border-box;text-align: center;}#sk-container-id-2 label.sk-toggleable__label-arrow:before {content: \"▸\";float: left;margin-right: 0.25em;color: #696969;}#sk-container-id-2 label.sk-toggleable__label-arrow:hover:before {color: black;}#sk-container-id-2 div.sk-estimator:hover label.sk-toggleable__label-arrow:before {color: black;}#sk-container-id-2 div.sk-toggleable__content {max-height: 0;max-width: 0;overflow: hidden;text-align: left;background-color: #f0f8ff;}#sk-container-id-2 div.sk-toggleable__content pre {margin: 0.2em;color: black;border-radius: 0.25em;background-color: #f0f8ff;}#sk-container-id-2 input.sk-toggleable__control:checked~div.sk-toggleable__content {max-height: 200px;max-width: 100%;overflow: auto;}#sk-container-id-2 input.sk-toggleable__control:checked~label.sk-toggleable__label-arrow:before {content: \"▾\";}#sk-container-id-2 div.sk-estimator input.sk-toggleable__control:checked~label.sk-toggleable__label {background-color: #d4ebff;}#sk-container-id-2 div.sk-label input.sk-toggleable__control:checked~label.sk-toggleable__label {background-color: #d4ebff;}#sk-container-id-2 input.sk-hidden--visually {border: 0;clip: rect(1px 1px 1px 1px);clip: rect(1px, 1px, 1px, 1px);height: 1px;margin: -1px;overflow: hidden;padding: 0;position: absolute;width: 1px;}#sk-container-id-2 div.sk-estimator {font-family: monospace;background-color: #f0f8ff;border: 1px dotted black;border-radius: 0.25em;box-sizing: border-box;margin-bottom: 0.5em;}#sk-container-id-2 div.sk-estimator:hover {background-color: #d4ebff;}#sk-container-id-2 div.sk-parallel-item::after {content: \"\";width: 100%;border-bottom: 1px solid gray;flex-grow: 1;}#sk-container-id-2 div.sk-label:hover label.sk-toggleable__label {background-color: #d4ebff;}#sk-container-id-2 div.sk-serial::before {content: \"\";position: absolute;border-left: 1px solid gray;box-sizing: border-box;top: 0;bottom: 0;left: 50%;z-index: 0;}#sk-container-id-2 div.sk-serial {display: flex;flex-direction: column;align-items: center;background-color: white;padding-right: 0.2em;padding-left: 0.2em;position: relative;}#sk-container-id-2 div.sk-item {position: relative;z-index: 1;}#sk-container-id-2 div.sk-parallel {display: flex;align-items: stretch;justify-content: center;background-color: white;position: relative;}#sk-container-id-2 div.sk-item::before, #sk-container-id-2 div.sk-parallel-item::before {content: \"\";position: absolute;border-left: 1px solid gray;box-sizing: border-box;top: 0;bottom: 0;left: 50%;z-index: -1;}#sk-container-id-2 div.sk-parallel-item {display: flex;flex-direction: column;z-index: 1;position: relative;background-color: white;}#sk-container-id-2 div.sk-parallel-item:first-child::after {align-self: flex-end;width: 50%;}#sk-container-id-2 div.sk-parallel-item:last-child::after {align-self: flex-start;width: 50%;}#sk-container-id-2 div.sk-parallel-item:only-child::after {width: 0;}#sk-container-id-2 div.sk-dashed-wrapped {border: 1px dashed gray;margin: 0 0.4em 0.5em 0.4em;box-sizing: border-box;padding-bottom: 0.4em;background-color: white;}#sk-container-id-2 div.sk-label label {font-family: monospace;font-weight: bold;display: inline-block;line-height: 1.2em;}#sk-container-id-2 div.sk-label-container {text-align: center;}#sk-container-id-2 div.sk-container {/* jupyter's `normalize.less` sets `[hidden] { display: none; }` but bootstrap.min.css set `[hidden] { display: none !important; }` so we also need the `!important` here to be able to override the default hidden behavior on the sphinx rendered scikit-learn.org. See: https://github.com/scikit-learn/scikit-learn/issues/21755 */display: inline-block !important;position: relative;}#sk-container-id-2 div.sk-text-repr-fallback {display: none;}</style><div id=\"sk-container-id-2\" class=\"sk-top-container\"><div class=\"sk-text-repr-fallback\"><pre>KNeighborsRegressor()</pre><b>In a Jupyter environment, please rerun this cell to show the HTML representation or trust the notebook. <br />On GitHub, the HTML representation is unable to render, please try loading this page with nbviewer.org.</b></div><div class=\"sk-container\" hidden><div class=\"sk-item\"><div class=\"sk-estimator sk-toggleable\"><input class=\"sk-toggleable__control sk-hidden--visually\" id=\"sk-estimator-id-2\" type=\"checkbox\" checked><label for=\"sk-estimator-id-2\" class=\"sk-toggleable__label sk-toggleable__label-arrow\">KNeighborsRegressor</label><div class=\"sk-toggleable__content\"><pre>KNeighborsRegressor()</pre></div></div></div></div></div>"
      ],
      "text/plain": [
       "KNeighborsRegressor()"
      ]
     },
     "execution_count": 75,
     "metadata": {},
     "output_type": "execute_result"
    }
   ],
   "source": [
    "Lreg.fit(X_train,  y_train)"
   ]
  },
  {
   "cell_type": "code",
   "execution_count": 76,
   "id": "0dffbf9f",
   "metadata": {},
   "outputs": [],
   "source": [
    "predictions = Lreg.predict(X_test)"
   ]
  },
  {
   "cell_type": "code",
   "execution_count": 77,
   "id": "716c311e",
   "metadata": {},
   "outputs": [
    {
     "name": "stdout",
     "output_type": "stream",
     "text": [
      "Mean Absolute Error: 132988.27196347315\n",
      "Mean Squared Error: 33767038749.341366\n",
      "Root Mean Squared Error: 183758.09845920088\n",
      "r2_score: 0.5134820896663818\n"
     ]
    }
   ],
   "source": [
    "print('Mean Absolute Error:', mean_absolute_error(y_test,predictions))\n",
    "print('Mean Squared Error:', mean_squared_error(y_test,predictions))\n",
    "print('Root Mean Squared Error:', np.sqrt(mean_squared_error(y_test,predictions)))\n",
    "print('r2_score:', r2_score(y_test,predictions))"
   ]
  },
  {
   "cell_type": "markdown",
   "id": "aa2cff77",
   "metadata": {},
   "source": [
    "# Hyperparameter tunning"
   ]
  },
  {
   "cell_type": "code",
   "execution_count": 78,
   "id": "3c618929",
   "metadata": {},
   "outputs": [
    {
     "name": "stdout",
     "output_type": "stream",
     "text": [
      "--------------- Neighbour:  2 ------------------------\n",
      "Mean Absolute Error: 148112.4518178006\n",
      "Mean Squared Error: 43178332541.14511\n",
      "Root Mean Squared Error: 207793.9665657911\n",
      "r2_score: 0.3778834953355886\n",
      "--------------- Neighbour:  4 ------------------------\n",
      "Mean Absolute Error: 134264.1737199298\n",
      "Mean Squared Error: 34748861342.28328\n",
      "Root Mean Squared Error: 186410.46468018708\n",
      "r2_score: 0.4993359194978251\n",
      "--------------- Neighbour:  6 ------------------------\n",
      "Mean Absolute Error: 132096.04160519328\n",
      "Mean Squared Error: 33210915939.588997\n",
      "Root Mean Squared Error: 182238.62362185738\n",
      "r2_score: 0.5214947468999054\n",
      "--------------- Neighbour:  8 ------------------------\n",
      "Mean Absolute Error: 131684.03878259385\n",
      "Mean Squared Error: 32838775141.698643\n",
      "Root Mean Squared Error: 181214.7210954415\n",
      "r2_score: 0.5268565781426001\n",
      "--------------- Neighbour:  10 ------------------------\n",
      "Mean Absolute Error: 131687.01950583156\n",
      "Mean Squared Error: 32781727008.07226\n",
      "Root Mean Squared Error: 181057.24787500847\n",
      "r2_score: 0.5276785317336854\n",
      "--------------- Neighbour:  12 ------------------------\n",
      "Mean Absolute Error: 132131.8080942989\n",
      "Mean Squared Error: 32919719417.985046\n",
      "Root Mean Squared Error: 181437.92166464278\n",
      "r2_score: 0.5256903272182991\n",
      "--------------- Neighbour:  14 ------------------------\n",
      "Mean Absolute Error: 132534.43384945102\n",
      "Mean Squared Error: 33046579297.66015\n",
      "Root Mean Squared Error: 181787.1813348239\n",
      "r2_score: 0.5238625209951102\n",
      "--------------- Neighbour:  16 ------------------------\n",
      "Mean Absolute Error: 132888.31004138777\n",
      "Mean Squared Error: 33150947612.06501\n",
      "Root Mean Squared Error: 182074.01685046937\n",
      "r2_score: 0.5223587748536075\n",
      "--------------- Neighbour:  18 ------------------------\n",
      "Mean Absolute Error: 133442.07327110932\n",
      "Mean Squared Error: 33387074761.744656\n",
      "Root Mean Squared Error: 182721.30352464283\n",
      "r2_score: 0.5189566379861152\n"
     ]
    }
   ],
   "source": [
    "for i in range(2,20,2):\n",
    "    #Train Model and Predict  \n",
    "    Lreg = KNeighborsRegressor(n_neighbors = i).fit(X_train,y_train)\n",
    "    predictions = Lreg.predict(X_test)\n",
    "    print (\"--------------- Neighbour: \", i,\"------------------------\")\n",
    "    print('Mean Absolute Error:', mean_absolute_error(y_test,predictions))\n",
    "    print('Mean Squared Error:', mean_squared_error(y_test,predictions))\n",
    "    print('Root Mean Squared Error:', np.sqrt(mean_squared_error(y_test,predictions)))\n",
    "    print('r2_score:', r2_score(y_test,predictions))"
   ]
  },
  {
   "cell_type": "code",
   "execution_count": 79,
   "id": "6ff5adf7",
   "metadata": {},
   "outputs": [
    {
     "name": "stdout",
     "output_type": "stream",
     "text": [
      "Mean Absolute Error: 131687.01950583156\n",
      "Mean Squared Error: 32781727008.07226\n",
      "Root Mean Squared Error: 181057.24787500847\n",
      "r2_score: 0.5276785317336854\n"
     ]
    }
   ],
   "source": [
    "tree = KNeighborsRegressor(n_neighbors=10)\n",
    "\n",
    "tree.fit(X_train,  y_train)\n",
    "predictions = tree.predict(X_test)\n",
    "\n",
    "print('Mean Absolute Error:', mean_absolute_error(y_test,predictions))\n",
    "print('Mean Squared Error:', mean_squared_error(y_test,predictions))\n",
    "print('Root Mean Squared Error:', np.sqrt(mean_squared_error(y_test,predictions)))\n",
    "print('r2_score:', r2_score(y_test,predictions))"
   ]
  },
  {
   "cell_type": "code",
   "execution_count": 80,
   "id": "cbe71e8f",
   "metadata": {},
   "outputs": [],
   "source": [
    "y_pred = predictions\n",
    "y_prediction = pd.Series(y_pred)"
   ]
  },
  {
   "cell_type": "code",
   "execution_count": 50,
   "id": "c86110af",
   "metadata": {
    "scrolled": true
   },
   "outputs": [
    {
     "data": {
      "text/plain": [
       "(pandas.core.frame.DataFrame,\n",
       " pandas.core.frame.DataFrame,\n",
       " pandas.core.series.Series,\n",
       " pandas.core.series.Series,\n",
       " numpy.ndarray,\n",
       " pandas.core.series.Series)"
      ]
     },
     "execution_count": 50,
     "metadata": {},
     "output_type": "execute_result"
    }
   ],
   "source": [
    "type(X_train), type(X_test), type(y_train), type(y_test), type(y_pred), type(y_prediction)"
   ]
  },
  {
   "cell_type": "code",
   "execution_count": 51,
   "id": "7caa84ff",
   "metadata": {
    "scrolled": true
   },
   "outputs": [
    {
     "name": "stdout",
     "output_type": "stream",
     "text": [
      "Calculating build time metrics\n",
      "\n",
      "Progress: ██████████████████████████████████████████████████████████████████████ 100.0%\n"
     ]
    },
    {
     "data": {
      "application/vnd.jupyter.widget-view+json": {
       "model_id": "9962a1dede4742c085d3b519afd1938f",
       "version_major": 2,
       "version_minor": 0
      },
      "text/plain": [
       "VBox(children=(HTML(value='<style>.grad_1{background: #2468a4;} .grad_2{ color:white; background: #2468a4;}</s…"
      ]
     },
     "metadata": {},
     "output_type": "display_data"
    }
   ],
   "source": [
    "## registering the model in Fosfor.\n",
    "model_reg = register_model(tree,\n",
    "               score, \n",
    "               name=\"ATM_DispenseAMT_KNN_10_Regression\", \n",
    "               description=\"ATM Dispense Amount KNN_10 Regression\",\n",
    "               flavour=MLModelFlavours.sklearn,\n",
    "               model_type=\"regression\",\n",
    "               #init_script=\"pip install snowflake-ml-python==1.0.11\",\n",
    "               init_script=\"pip install cloudpickle==2.2.1\",\n",
    "               y_true=y_test,\n",
    "               y_pred=y_prediction,\n",
    "               #prob=y_prob,\n",
    "               features=X_train.columns,\n",
    "               input_type=\"json\", \n",
    "               explain_ai=True,\n",
    "               x_train=X_train, \n",
    "               x_test=X_test, \n",
    "               y_train=y_train.tolist(),\n",
    "               y_test=y_test.tolist(),\n",
    "               feature_names=X_train.columns.tolist(),\n",
    "               original_features=X_train.columns.tolist(),\n",
    "               feature_ids=X_train.columns,\n",
    "               kyd=True, kyd_score = True)"
   ]
  }
 ],
 "metadata": {
  "kernelspec": {
   "display_name": "Python 3 (ipykernel)",
   "language": "python",
   "name": "python3"
  },
  "language_info": {
   "codemirror_mode": {
    "name": "ipython",
    "version": 3
   },
   "file_extension": ".py",
   "mimetype": "text/x-python",
   "name": "python",
   "nbconvert_exporter": "python",
   "pygments_lexer": "ipython3",
   "version": "3.9.19"
  }
 },
 "nbformat": 4,
 "nbformat_minor": 5
}
