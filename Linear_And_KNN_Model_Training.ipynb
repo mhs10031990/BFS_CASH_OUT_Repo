{
 "cells": [
  {
   "cell_type": "markdown",
   "id": "c6e9f324",
   "metadata": {},
   "source": [
    "# Use ATM_Payments_distribution Notebook Template"
   ]
  },
  {
   "cell_type": "code",
   "execution_count": 1,
   "id": "e5f545a5",
   "metadata": {
    "scrolled": true
   },
   "outputs": [
    {
     "name": "stdout",
     "output_type": "stream",
     "text": [
      "Connection manager service url initialised to http://fdc-project-manager:80/project-manager\n",
      "If you need to update its value then update the variable CONNECTION_MANAGER_BASE_URL in os env.\n"
     ]
    }
   ],
   "source": [
    "from fosforio import snowflake\n",
    "import pandas as pd\n",
    "import datetime as dt"
   ]
  },
  {
   "cell_type": "code",
   "execution_count": 2,
   "id": "d305964f",
   "metadata": {},
   "outputs": [
    {
     "name": "stderr",
     "output_type": "stream",
     "text": [
      "Matplotlib created a temporary cache directory at /tmp/matplotlib-35tdhwno because the default path (/home/mosaic-ai/.cache/matplotlib) is not a writable directory; it is highly recommended to set the MPLCONFIGDIR environment variable to a writable directory, in particular to speed up the import of Matplotlib and to better support multiprocessing.\n"
     ]
    }
   ],
   "source": [
    "import seaborn as sns\n",
    "import subprocess\n",
    "\n",
    "# create_temp_table warning suppresion\n",
    "import warnings; warnings.simplefilter('ignore')"
   ]
  },
  {
   "cell_type": "code",
   "execution_count": 3,
   "id": "6e183a21",
   "metadata": {},
   "outputs": [],
   "source": [
    "from fosforml import *\n",
    "from fosforml.constants import MLModelFlavours\n",
    "import requests"
   ]
  },
  {
   "cell_type": "code",
   "execution_count": 4,
   "id": "c6a862f7",
   "metadata": {},
   "outputs": [],
   "source": [
    "# Import label encoder \n",
    "from sklearn import preprocessing \n",
    "from sklearn.linear_model import LinearRegression, Lasso, Ridge, ElasticNet\n",
    "from sklearn.model_selection import GridSearchCV\n",
    "from sklearn.ensemble import GradientBoostingRegressor\n",
    "from sklearn.neighbors import KNeighborsRegressor\n",
    "from sklearn.metrics import mean_squared_error, mean_absolute_error, r2_score\n",
    "from sklearn.model_selection import train_test_split\n",
    "from math import sqrt\n",
    "import numpy as np"
   ]
  },
  {
   "cell_type": "code",
   "execution_count": 5,
   "id": "e6c5b943",
   "metadata": {},
   "outputs": [
    {
     "name": "stdout",
     "output_type": "stream",
     "text": [
      "Exception occurred in getting snowflake connection: 'connectionSources'\n"
     ]
    }
   ],
   "source": [
    "# To get snowflake connection object with a default snowflake connection created by the user, if available.\n",
    "#snowflake.get_connection()\n",
    "\n",
    "# To get snowflake connection object with a specific connection name\n",
    "snowflake.get_connection(connection_name=\"FDC_Banking_FS_SNOWFLAKE\")"
   ]
  },
  {
   "cell_type": "code",
   "execution_count": 6,
   "id": "ed2e6957",
   "metadata": {},
   "outputs": [],
   "source": [
    "# To read a specific dataset published from a snowflake connection\n",
    "df_original = snowflake.get_dataframe(\"ATM_TRANSACTION_MASTER_DATA\")\n",
    "df = snowflake.get_dataframe(\"ATM_TRANSACTION_MASTER_DATA\")"
   ]
  },
  {
   "cell_type": "code",
   "execution_count": null,
   "id": "7aa8b1f6",
   "metadata": {},
   "outputs": [],
   "source": [
    "to_drop = ['ATM_STATE_DETAILS_STATE','MALE_POPULATION','FEMALE_POPULATION','TOTAL_POPULATION','NO_OF_VETERANS','FOREIGN_BORN','AVG_HOUSEHOLD_SIZE','LANDAREA_SQ_MILE','POPULATION_RATIO','POPULATION_DENSITY','MEDIAN_HOUSE_INCOME']\n",
    "df.drop(to_drop, inplace=True, axis=1)"
   ]
  },
  {
   "cell_type": "code",
   "execution_count": null,
   "id": "ef55b522",
   "metadata": {},
   "outputs": [],
   "source": [
    "to_drop = ['ATM_STATE_DETAILS_STATE','MALE_POPULATION','FEMALE_POPULATION','TOTAL_POPULATION','NO_OF_VETERANS','FOREIGN_BORN','AVG_HOUSEHOLD_SIZE','LANDAREA_SQ_MILE','POPULATION_RATIO','POPULATION_DENSITY','MEDIAN_HOUSE_INCOME']\n",
    "df_original.drop(to_drop, inplace=True, axis=1)"
   ]
  },
  {
   "cell_type": "code",
   "execution_count": 7,
   "id": "379812bc",
   "metadata": {},
   "outputs": [
    {
     "data": {
      "text/plain": [
       "(328860, 11)"
      ]
     },
     "execution_count": 7,
     "metadata": {},
     "output_type": "execute_result"
    }
   ],
   "source": [
    "df.shape"
   ]
  },
  {
   "cell_type": "code",
   "execution_count": 8,
   "id": "d38c2a39",
   "metadata": {},
   "outputs": [
    {
     "name": "stdout",
     "output_type": "stream",
     "text": [
      "<class 'pandas.core.frame.DataFrame'>\n",
      "RangeIndex: 328860 entries, 0 to 328859\n",
      "Data columns (total 11 columns):\n",
      " #   Column                   Non-Null Count   Dtype  \n",
      "---  ------                   --------------   -----  \n",
      " 0   DATE                     328860 non-null  object \n",
      " 1   WEEKDAY_FLAG             328860 non-null  object \n",
      " 2   HOLIDAY_FLAG             328860 non-null  object \n",
      " 3   BANK_ID                  328860 non-null  int8   \n",
      " 4   STATE                    328860 non-null  object \n",
      " 5   BANK_NAME                328860 non-null  object \n",
      " 6   ATM_ID                   328860 non-null  object \n",
      " 7   DISPENSED_AMOUNT         328860 non-null  float64\n",
      " 8   TOTAL_TRANSACTION_COUNT  328860 non-null  float64\n",
      " 9   DOWNTIME_IN_MINS         328860 non-null  float64\n",
      " 10  ATM_MAX_CAPACITY         328860 non-null  float64\n",
      "dtypes: float64(4), int8(1), object(6)\n",
      "memory usage: 25.4+ MB\n"
     ]
    }
   ],
   "source": [
    "df.info()"
   ]
  },
  {
   "cell_type": "code",
   "execution_count": 9,
   "id": "5fc8fa71",
   "metadata": {},
   "outputs": [
    {
     "data": {
      "text/html": [
       "<div>\n",
       "<style scoped>\n",
       "    .dataframe tbody tr th:only-of-type {\n",
       "        vertical-align: middle;\n",
       "    }\n",
       "\n",
       "    .dataframe tbody tr th {\n",
       "        vertical-align: top;\n",
       "    }\n",
       "\n",
       "    .dataframe thead th {\n",
       "        text-align: right;\n",
       "    }\n",
       "</style>\n",
       "<table border=\"1\" class=\"dataframe\">\n",
       "  <thead>\n",
       "    <tr style=\"text-align: right;\">\n",
       "      <th></th>\n",
       "      <th>DATE</th>\n",
       "      <th>WEEKDAY_FLAG</th>\n",
       "      <th>HOLIDAY_FLAG</th>\n",
       "      <th>BANK_ID</th>\n",
       "      <th>STATE</th>\n",
       "      <th>BANK_NAME</th>\n",
       "      <th>ATM_ID</th>\n",
       "      <th>DISPENSED_AMOUNT</th>\n",
       "      <th>TOTAL_TRANSACTION_COUNT</th>\n",
       "      <th>DOWNTIME_IN_MINS</th>\n",
       "      <th>ATM_MAX_CAPACITY</th>\n",
       "    </tr>\n",
       "  </thead>\n",
       "  <tbody>\n",
       "    <tr>\n",
       "      <th>0</th>\n",
       "      <td>2023-01-29</td>\n",
       "      <td>Y</td>\n",
       "      <td>N</td>\n",
       "      <td>3</td>\n",
       "      <td>Maine</td>\n",
       "      <td>Citibank</td>\n",
       "      <td>TBH000274025</td>\n",
       "      <td>225180.0</td>\n",
       "      <td>90.0</td>\n",
       "      <td>0.0</td>\n",
       "      <td>2860000.0</td>\n",
       "    </tr>\n",
       "    <tr>\n",
       "      <th>1</th>\n",
       "      <td>2023-01-30</td>\n",
       "      <td>Y</td>\n",
       "      <td>N</td>\n",
       "      <td>3</td>\n",
       "      <td>Maine</td>\n",
       "      <td>Citibank</td>\n",
       "      <td>TBH000274025</td>\n",
       "      <td>262440.0</td>\n",
       "      <td>117.0</td>\n",
       "      <td>0.0</td>\n",
       "      <td>2860000.0</td>\n",
       "    </tr>\n",
       "    <tr>\n",
       "      <th>2</th>\n",
       "      <td>2023-01-31</td>\n",
       "      <td>Y</td>\n",
       "      <td>N</td>\n",
       "      <td>3</td>\n",
       "      <td>Maine</td>\n",
       "      <td>Citibank</td>\n",
       "      <td>TBH000274025</td>\n",
       "      <td>561150.0</td>\n",
       "      <td>160.0</td>\n",
       "      <td>0.0</td>\n",
       "      <td>2860000.0</td>\n",
       "    </tr>\n",
       "    <tr>\n",
       "      <th>3</th>\n",
       "      <td>2023-02-01</td>\n",
       "      <td>Y</td>\n",
       "      <td>N</td>\n",
       "      <td>3</td>\n",
       "      <td>Maine</td>\n",
       "      <td>Citibank</td>\n",
       "      <td>TBH000274025</td>\n",
       "      <td>437220.0</td>\n",
       "      <td>129.0</td>\n",
       "      <td>0.0</td>\n",
       "      <td>2860000.0</td>\n",
       "    </tr>\n",
       "    <tr>\n",
       "      <th>4</th>\n",
       "      <td>2023-02-02</td>\n",
       "      <td>Y</td>\n",
       "      <td>N</td>\n",
       "      <td>3</td>\n",
       "      <td>Maine</td>\n",
       "      <td>Citibank</td>\n",
       "      <td>TBH000274025</td>\n",
       "      <td>360900.0</td>\n",
       "      <td>119.0</td>\n",
       "      <td>0.0</td>\n",
       "      <td>2860000.0</td>\n",
       "    </tr>\n",
       "  </tbody>\n",
       "</table>\n",
       "</div>"
      ],
      "text/plain": [
       "         DATE WEEKDAY_FLAG HOLIDAY_FLAG  BANK_ID  STATE BANK_NAME  \\\n",
       "0  2023-01-29            Y            N        3  Maine  Citibank   \n",
       "1  2023-01-30            Y            N        3  Maine  Citibank   \n",
       "2  2023-01-31            Y            N        3  Maine  Citibank   \n",
       "3  2023-02-01            Y            N        3  Maine  Citibank   \n",
       "4  2023-02-02            Y            N        3  Maine  Citibank   \n",
       "\n",
       "         ATM_ID  DISPENSED_AMOUNT  TOTAL_TRANSACTION_COUNT  DOWNTIME_IN_MINS  \\\n",
       "0  TBH000274025          225180.0                     90.0               0.0   \n",
       "1  TBH000274025          262440.0                    117.0               0.0   \n",
       "2  TBH000274025          561150.0                    160.0               0.0   \n",
       "3  TBH000274025          437220.0                    129.0               0.0   \n",
       "4  TBH000274025          360900.0                    119.0               0.0   \n",
       "\n",
       "   ATM_MAX_CAPACITY  \n",
       "0         2860000.0  \n",
       "1         2860000.0  \n",
       "2         2860000.0  \n",
       "3         2860000.0  \n",
       "4         2860000.0  "
      ]
     },
     "execution_count": 9,
     "metadata": {},
     "output_type": "execute_result"
    }
   ],
   "source": [
    "df.head()"
   ]
  },
  {
   "cell_type": "code",
   "execution_count": 10,
   "id": "aaf92191",
   "metadata": {},
   "outputs": [
    {
     "data": {
      "text/plain": [
       "Index(['DATE', 'WEEKDAY_FLAG', 'HOLIDAY_FLAG', 'BANK_ID', 'STATE', 'BANK_NAME',\n",
       "       'ATM_ID', 'DISPENSED_AMOUNT', 'TOTAL_TRANSACTION_COUNT',\n",
       "       'DOWNTIME_IN_MINS', 'ATM_MAX_CAPACITY'],\n",
       "      dtype='object')"
      ]
     },
     "execution_count": 10,
     "metadata": {},
     "output_type": "execute_result"
    }
   ],
   "source": [
    "df.columns"
   ]
  },
  {
   "cell_type": "code",
   "execution_count": 11,
   "id": "0934b554",
   "metadata": {
    "scrolled": false
   },
   "outputs": [
    {
     "data": {
      "text/plain": [
       "DATE                       0\n",
       "WEEKDAY_FLAG               0\n",
       "HOLIDAY_FLAG               0\n",
       "BANK_ID                    0\n",
       "STATE                      0\n",
       "BANK_NAME                  0\n",
       "ATM_ID                     0\n",
       "DISPENSED_AMOUNT           0\n",
       "TOTAL_TRANSACTION_COUNT    0\n",
       "DOWNTIME_IN_MINS           0\n",
       "ATM_MAX_CAPACITY           0\n",
       "dtype: int64"
      ]
     },
     "execution_count": 11,
     "metadata": {},
     "output_type": "execute_result"
    }
   ],
   "source": [
    "df.isnull().sum()"
   ]
  },
  {
   "cell_type": "code",
   "execution_count": 12,
   "id": "4ec2aad5",
   "metadata": {},
   "outputs": [
    {
     "name": "stdout",
     "output_type": "stream",
     "text": [
      "<class 'pandas.core.frame.DataFrame'>\n",
      "RangeIndex: 328860 entries, 0 to 328859\n",
      "Data columns (total 11 columns):\n",
      " #   Column                   Non-Null Count   Dtype  \n",
      "---  ------                   --------------   -----  \n",
      " 0   DATE                     328860 non-null  object \n",
      " 1   WEEKDAY_FLAG             328860 non-null  object \n",
      " 2   HOLIDAY_FLAG             328860 non-null  object \n",
      " 3   BANK_ID                  328860 non-null  int8   \n",
      " 4   STATE                    328860 non-null  object \n",
      " 5   BANK_NAME                328860 non-null  object \n",
      " 6   ATM_ID                   328860 non-null  object \n",
      " 7   DISPENSED_AMOUNT         328860 non-null  float64\n",
      " 8   TOTAL_TRANSACTION_COUNT  328860 non-null  float64\n",
      " 9   DOWNTIME_IN_MINS         328860 non-null  float64\n",
      " 10  ATM_MAX_CAPACITY         328860 non-null  float64\n",
      "dtypes: float64(4), int8(1), object(6)\n",
      "memory usage: 25.4+ MB\n"
     ]
    }
   ],
   "source": [
    "df.info()"
   ]
  },
  {
   "cell_type": "code",
   "execution_count": 13,
   "id": "4a79e15c",
   "metadata": {},
   "outputs": [],
   "source": [
    "df['DATE'] = pd.to_datetime(df['DATE'])\n",
    "df['HOUR'] = df['DATE'].dt.hour\n",
    "df['DAYOFWEEK'] = df['DATE'].dt.dayofweek\n",
    "df['QUARTER'] = df['DATE'].dt.quarter\n",
    "df['MONTH'] = df['DATE'].dt.month\n",
    "df['YEAR'] = df['DATE'].dt.year\n",
    "df['DAYOFYEAR'] = df['DATE'].dt.dayofyear\n",
    "df['DAYOFMONTH'] = df['DATE'].dt.day\n",
    "df['DATE'] = pd.to_datetime(df['DATE']).dt.strftime(\"%Y-%m-%d %H:%M:%S.%f\")"
   ]
  },
  {
   "cell_type": "code",
   "execution_count": 14,
   "id": "f588d4bf",
   "metadata": {},
   "outputs": [],
   "source": [
    "df['WEEKDAY_FLAG'] = df['WEEKDAY_FLAG'].map({'Y': 1, 'N': 0})\n",
    "df['HOLIDAY_FLAG'] = df['HOLIDAY_FLAG'].map({'Y': 1, 'N': 0})"
   ]
  },
  {
   "cell_type": "code",
   "execution_count": 15,
   "id": "b45c8e98",
   "metadata": {},
   "outputs": [
    {
     "data": {
      "text/html": [
       "<div>\n",
       "<style scoped>\n",
       "    .dataframe tbody tr th:only-of-type {\n",
       "        vertical-align: middle;\n",
       "    }\n",
       "\n",
       "    .dataframe tbody tr th {\n",
       "        vertical-align: top;\n",
       "    }\n",
       "\n",
       "    .dataframe thead th {\n",
       "        text-align: right;\n",
       "    }\n",
       "</style>\n",
       "<table border=\"1\" class=\"dataframe\">\n",
       "  <thead>\n",
       "    <tr style=\"text-align: right;\">\n",
       "      <th></th>\n",
       "      <th>DATE</th>\n",
       "      <th>WEEKDAY_FLAG</th>\n",
       "      <th>HOLIDAY_FLAG</th>\n",
       "      <th>BANK_ID</th>\n",
       "      <th>STATE</th>\n",
       "      <th>BANK_NAME</th>\n",
       "      <th>ATM_ID</th>\n",
       "      <th>DISPENSED_AMOUNT</th>\n",
       "      <th>TOTAL_TRANSACTION_COUNT</th>\n",
       "      <th>DOWNTIME_IN_MINS</th>\n",
       "      <th>ATM_MAX_CAPACITY</th>\n",
       "      <th>HOUR</th>\n",
       "      <th>DAYOFWEEK</th>\n",
       "      <th>QUARTER</th>\n",
       "      <th>MONTH</th>\n",
       "      <th>YEAR</th>\n",
       "      <th>DAYOFYEAR</th>\n",
       "      <th>DAYOFMONTH</th>\n",
       "    </tr>\n",
       "  </thead>\n",
       "  <tbody>\n",
       "    <tr>\n",
       "      <th>0</th>\n",
       "      <td>2023-01-29 00:00:00.000000</td>\n",
       "      <td>1</td>\n",
       "      <td>0</td>\n",
       "      <td>3</td>\n",
       "      <td>Maine</td>\n",
       "      <td>Citibank</td>\n",
       "      <td>TBH000274025</td>\n",
       "      <td>225180.0</td>\n",
       "      <td>90.0</td>\n",
       "      <td>0.0</td>\n",
       "      <td>2860000.0</td>\n",
       "      <td>0</td>\n",
       "      <td>6</td>\n",
       "      <td>1</td>\n",
       "      <td>1</td>\n",
       "      <td>2023</td>\n",
       "      <td>29</td>\n",
       "      <td>29</td>\n",
       "    </tr>\n",
       "    <tr>\n",
       "      <th>1</th>\n",
       "      <td>2023-01-30 00:00:00.000000</td>\n",
       "      <td>1</td>\n",
       "      <td>0</td>\n",
       "      <td>3</td>\n",
       "      <td>Maine</td>\n",
       "      <td>Citibank</td>\n",
       "      <td>TBH000274025</td>\n",
       "      <td>262440.0</td>\n",
       "      <td>117.0</td>\n",
       "      <td>0.0</td>\n",
       "      <td>2860000.0</td>\n",
       "      <td>0</td>\n",
       "      <td>0</td>\n",
       "      <td>1</td>\n",
       "      <td>1</td>\n",
       "      <td>2023</td>\n",
       "      <td>30</td>\n",
       "      <td>30</td>\n",
       "    </tr>\n",
       "    <tr>\n",
       "      <th>2</th>\n",
       "      <td>2023-01-31 00:00:00.000000</td>\n",
       "      <td>1</td>\n",
       "      <td>0</td>\n",
       "      <td>3</td>\n",
       "      <td>Maine</td>\n",
       "      <td>Citibank</td>\n",
       "      <td>TBH000274025</td>\n",
       "      <td>561150.0</td>\n",
       "      <td>160.0</td>\n",
       "      <td>0.0</td>\n",
       "      <td>2860000.0</td>\n",
       "      <td>0</td>\n",
       "      <td>1</td>\n",
       "      <td>1</td>\n",
       "      <td>1</td>\n",
       "      <td>2023</td>\n",
       "      <td>31</td>\n",
       "      <td>31</td>\n",
       "    </tr>\n",
       "    <tr>\n",
       "      <th>3</th>\n",
       "      <td>2023-02-01 00:00:00.000000</td>\n",
       "      <td>1</td>\n",
       "      <td>0</td>\n",
       "      <td>3</td>\n",
       "      <td>Maine</td>\n",
       "      <td>Citibank</td>\n",
       "      <td>TBH000274025</td>\n",
       "      <td>437220.0</td>\n",
       "      <td>129.0</td>\n",
       "      <td>0.0</td>\n",
       "      <td>2860000.0</td>\n",
       "      <td>0</td>\n",
       "      <td>2</td>\n",
       "      <td>1</td>\n",
       "      <td>2</td>\n",
       "      <td>2023</td>\n",
       "      <td>32</td>\n",
       "      <td>1</td>\n",
       "    </tr>\n",
       "    <tr>\n",
       "      <th>4</th>\n",
       "      <td>2023-02-02 00:00:00.000000</td>\n",
       "      <td>1</td>\n",
       "      <td>0</td>\n",
       "      <td>3</td>\n",
       "      <td>Maine</td>\n",
       "      <td>Citibank</td>\n",
       "      <td>TBH000274025</td>\n",
       "      <td>360900.0</td>\n",
       "      <td>119.0</td>\n",
       "      <td>0.0</td>\n",
       "      <td>2860000.0</td>\n",
       "      <td>0</td>\n",
       "      <td>3</td>\n",
       "      <td>1</td>\n",
       "      <td>2</td>\n",
       "      <td>2023</td>\n",
       "      <td>33</td>\n",
       "      <td>2</td>\n",
       "    </tr>\n",
       "  </tbody>\n",
       "</table>\n",
       "</div>"
      ],
      "text/plain": [
       "                         DATE  WEEKDAY_FLAG  HOLIDAY_FLAG  BANK_ID  STATE  \\\n",
       "0  2023-01-29 00:00:00.000000             1             0        3  Maine   \n",
       "1  2023-01-30 00:00:00.000000             1             0        3  Maine   \n",
       "2  2023-01-31 00:00:00.000000             1             0        3  Maine   \n",
       "3  2023-02-01 00:00:00.000000             1             0        3  Maine   \n",
       "4  2023-02-02 00:00:00.000000             1             0        3  Maine   \n",
       "\n",
       "  BANK_NAME        ATM_ID  DISPENSED_AMOUNT  TOTAL_TRANSACTION_COUNT  \\\n",
       "0  Citibank  TBH000274025          225180.0                     90.0   \n",
       "1  Citibank  TBH000274025          262440.0                    117.0   \n",
       "2  Citibank  TBH000274025          561150.0                    160.0   \n",
       "3  Citibank  TBH000274025          437220.0                    129.0   \n",
       "4  Citibank  TBH000274025          360900.0                    119.0   \n",
       "\n",
       "   DOWNTIME_IN_MINS  ATM_MAX_CAPACITY  HOUR  DAYOFWEEK  QUARTER  MONTH  YEAR  \\\n",
       "0               0.0         2860000.0     0          6        1      1  2023   \n",
       "1               0.0         2860000.0     0          0        1      1  2023   \n",
       "2               0.0         2860000.0     0          1        1      1  2023   \n",
       "3               0.0         2860000.0     0          2        1      2  2023   \n",
       "4               0.0         2860000.0     0          3        1      2  2023   \n",
       "\n",
       "   DAYOFYEAR  DAYOFMONTH  \n",
       "0         29          29  \n",
       "1         30          30  \n",
       "2         31          31  \n",
       "3         32           1  \n",
       "4         33           2  "
      ]
     },
     "execution_count": 15,
     "metadata": {},
     "output_type": "execute_result"
    }
   ],
   "source": [
    "df.head()"
   ]
  },
  {
   "cell_type": "code",
   "execution_count": 16,
   "id": "af29f148",
   "metadata": {},
   "outputs": [
    {
     "name": "stdout",
     "output_type": "stream",
     "text": [
      "<class 'pandas.core.frame.DataFrame'>\n",
      "RangeIndex: 328860 entries, 0 to 328859\n",
      "Data columns (total 18 columns):\n",
      " #   Column                   Non-Null Count   Dtype  \n",
      "---  ------                   --------------   -----  \n",
      " 0   DATE                     328860 non-null  object \n",
      " 1   WEEKDAY_FLAG             328860 non-null  int64  \n",
      " 2   HOLIDAY_FLAG             328860 non-null  int64  \n",
      " 3   BANK_ID                  328860 non-null  int8   \n",
      " 4   STATE                    328860 non-null  object \n",
      " 5   BANK_NAME                328860 non-null  object \n",
      " 6   ATM_ID                   328860 non-null  object \n",
      " 7   DISPENSED_AMOUNT         328860 non-null  float64\n",
      " 8   TOTAL_TRANSACTION_COUNT  328860 non-null  float64\n",
      " 9   DOWNTIME_IN_MINS         328860 non-null  float64\n",
      " 10  ATM_MAX_CAPACITY         328860 non-null  float64\n",
      " 11  HOUR                     328860 non-null  int32  \n",
      " 12  DAYOFWEEK                328860 non-null  int32  \n",
      " 13  QUARTER                  328860 non-null  int32  \n",
      " 14  MONTH                    328860 non-null  int32  \n",
      " 15  YEAR                     328860 non-null  int32  \n",
      " 16  DAYOFYEAR                328860 non-null  int32  \n",
      " 17  DAYOFMONTH               328860 non-null  int32  \n",
      "dtypes: float64(4), int32(7), int64(2), int8(1), object(4)\n",
      "memory usage: 34.2+ MB\n"
     ]
    }
   ],
   "source": [
    "df.info()"
   ]
  },
  {
   "cell_type": "code",
   "execution_count": 17,
   "id": "b2f64a54",
   "metadata": {},
   "outputs": [],
   "source": [
    "# how to understand word labels. \n",
    "label_encoder = preprocessing.LabelEncoder() \n",
    "  \n",
    "# Encode labels in column 'species'. \n",
    "df['STATE']= label_encoder.fit_transform(df['STATE'])"
   ]
  },
  {
   "cell_type": "code",
   "execution_count": 18,
   "id": "bdc55fa5",
   "metadata": {},
   "outputs": [],
   "source": [
    "# how to understand word labels. \n",
    "atm_encoder = preprocessing.LabelEncoder() \n",
    "  \n",
    "# Encode labels in column 'species'. \n",
    "df['ATM_ID']= atm_encoder.fit_transform(df['ATM_ID'])"
   ]
  },
  {
   "cell_type": "code",
   "execution_count": 19,
   "id": "65be5819",
   "metadata": {},
   "outputs": [],
   "source": [
    "df.drop(['DATE','BANK_NAME','TOTAL_TRANSACTION_COUNT','DOWNTIME_IN_MINS','ATM_MAX_CAPACITY'], axis=1,inplace=True)"
   ]
  },
  {
   "cell_type": "code",
   "execution_count": 20,
   "id": "c60a3cd9",
   "metadata": {
    "scrolled": true
   },
   "outputs": [
    {
     "data": {
      "text/plain": [
       "Index(['WEEKDAY_FLAG', 'HOLIDAY_FLAG', 'BANK_ID', 'STATE', 'ATM_ID',\n",
       "       'DISPENSED_AMOUNT', 'HOUR', 'DAYOFWEEK', 'QUARTER', 'MONTH', 'YEAR',\n",
       "       'DAYOFYEAR', 'DAYOFMONTH'],\n",
       "      dtype='object')"
      ]
     },
     "execution_count": 20,
     "metadata": {},
     "output_type": "execute_result"
    }
   ],
   "source": [
    "df.columns"
   ]
  },
  {
   "cell_type": "code",
   "execution_count": 21,
   "id": "3d4c4fd3",
   "metadata": {},
   "outputs": [],
   "source": [
    "features = ['WEEKDAY_FLAG', 'HOLIDAY_FLAG', 'BANK_ID', 'STATE', 'ATM_ID',\n",
    "    'HOUR', 'DAYOFWEEK', 'QUARTER', 'MONTH', 'YEAR',\n",
    "       'DAYOFYEAR', 'DAYOFMONTH']"
   ]
  },
  {
   "cell_type": "code",
   "execution_count": 22,
   "id": "9eb38aef",
   "metadata": {},
   "outputs": [
    {
     "name": "stdout",
     "output_type": "stream",
     "text": [
      "(328860, 13)\n",
      "(271800, 13)\n"
     ]
    }
   ],
   "source": [
    "print (df.shape)\n",
    "df = df[df['DISPENSED_AMOUNT'] > 0]\n",
    "print (df.shape)"
   ]
  },
  {
   "cell_type": "code",
   "execution_count": 23,
   "id": "d3667290",
   "metadata": {},
   "outputs": [],
   "source": [
    "X = df[features]\n",
    "y = df['DISPENSED_AMOUNT']"
   ]
  },
  {
   "cell_type": "code",
   "execution_count": 24,
   "id": "af1229a2",
   "metadata": {},
   "outputs": [
    {
     "data": {
      "text/html": [
       "<div>\n",
       "<style scoped>\n",
       "    .dataframe tbody tr th:only-of-type {\n",
       "        vertical-align: middle;\n",
       "    }\n",
       "\n",
       "    .dataframe tbody tr th {\n",
       "        vertical-align: top;\n",
       "    }\n",
       "\n",
       "    .dataframe thead th {\n",
       "        text-align: right;\n",
       "    }\n",
       "</style>\n",
       "<table border=\"1\" class=\"dataframe\">\n",
       "  <thead>\n",
       "    <tr style=\"text-align: right;\">\n",
       "      <th></th>\n",
       "      <th>WEEKDAY_FLAG</th>\n",
       "      <th>HOLIDAY_FLAG</th>\n",
       "      <th>BANK_ID</th>\n",
       "      <th>STATE</th>\n",
       "      <th>ATM_ID</th>\n",
       "      <th>HOUR</th>\n",
       "      <th>DAYOFWEEK</th>\n",
       "      <th>QUARTER</th>\n",
       "      <th>MONTH</th>\n",
       "      <th>YEAR</th>\n",
       "      <th>DAYOFYEAR</th>\n",
       "      <th>DAYOFMONTH</th>\n",
       "    </tr>\n",
       "  </thead>\n",
       "  <tbody>\n",
       "    <tr>\n",
       "      <th>0</th>\n",
       "      <td>1</td>\n",
       "      <td>0</td>\n",
       "      <td>3</td>\n",
       "      <td>18</td>\n",
       "      <td>315</td>\n",
       "      <td>0</td>\n",
       "      <td>6</td>\n",
       "      <td>1</td>\n",
       "      <td>1</td>\n",
       "      <td>2023</td>\n",
       "      <td>29</td>\n",
       "      <td>29</td>\n",
       "    </tr>\n",
       "    <tr>\n",
       "      <th>1</th>\n",
       "      <td>1</td>\n",
       "      <td>0</td>\n",
       "      <td>3</td>\n",
       "      <td>18</td>\n",
       "      <td>315</td>\n",
       "      <td>0</td>\n",
       "      <td>0</td>\n",
       "      <td>1</td>\n",
       "      <td>1</td>\n",
       "      <td>2023</td>\n",
       "      <td>30</td>\n",
       "      <td>30</td>\n",
       "    </tr>\n",
       "    <tr>\n",
       "      <th>2</th>\n",
       "      <td>1</td>\n",
       "      <td>0</td>\n",
       "      <td>3</td>\n",
       "      <td>18</td>\n",
       "      <td>315</td>\n",
       "      <td>0</td>\n",
       "      <td>1</td>\n",
       "      <td>1</td>\n",
       "      <td>1</td>\n",
       "      <td>2023</td>\n",
       "      <td>31</td>\n",
       "      <td>31</td>\n",
       "    </tr>\n",
       "    <tr>\n",
       "      <th>3</th>\n",
       "      <td>1</td>\n",
       "      <td>0</td>\n",
       "      <td>3</td>\n",
       "      <td>18</td>\n",
       "      <td>315</td>\n",
       "      <td>0</td>\n",
       "      <td>2</td>\n",
       "      <td>1</td>\n",
       "      <td>2</td>\n",
       "      <td>2023</td>\n",
       "      <td>32</td>\n",
       "      <td>1</td>\n",
       "    </tr>\n",
       "    <tr>\n",
       "      <th>4</th>\n",
       "      <td>1</td>\n",
       "      <td>0</td>\n",
       "      <td>3</td>\n",
       "      <td>18</td>\n",
       "      <td>315</td>\n",
       "      <td>0</td>\n",
       "      <td>3</td>\n",
       "      <td>1</td>\n",
       "      <td>2</td>\n",
       "      <td>2023</td>\n",
       "      <td>33</td>\n",
       "      <td>2</td>\n",
       "    </tr>\n",
       "  </tbody>\n",
       "</table>\n",
       "</div>"
      ],
      "text/plain": [
       "   WEEKDAY_FLAG  HOLIDAY_FLAG  BANK_ID  STATE  ATM_ID  HOUR  DAYOFWEEK  \\\n",
       "0             1             0        3     18     315     0          6   \n",
       "1             1             0        3     18     315     0          0   \n",
       "2             1             0        3     18     315     0          1   \n",
       "3             1             0        3     18     315     0          2   \n",
       "4             1             0        3     18     315     0          3   \n",
       "\n",
       "   QUARTER  MONTH  YEAR  DAYOFYEAR  DAYOFMONTH  \n",
       "0        1      1  2023         29          29  \n",
       "1        1      1  2023         30          30  \n",
       "2        1      1  2023         31          31  \n",
       "3        1      2  2023         32           1  \n",
       "4        1      2  2023         33           2  "
      ]
     },
     "execution_count": 24,
     "metadata": {},
     "output_type": "execute_result"
    }
   ],
   "source": [
    "X.head()"
   ]
  },
  {
   "cell_type": "code",
   "execution_count": 25,
   "id": "7b95143a",
   "metadata": {},
   "outputs": [
    {
     "data": {
      "text/plain": [
       "0         225180.0\n",
       "1         262440.0\n",
       "2         561150.0\n",
       "3         437220.0\n",
       "4         360900.0\n",
       "            ...   \n",
       "328855    195300.0\n",
       "328856    245160.0\n",
       "328857    222480.0\n",
       "328858    198360.0\n",
       "328859    314190.0\n",
       "Name: DISPENSED_AMOUNT, Length: 271800, dtype: float64"
      ]
     },
     "execution_count": 25,
     "metadata": {},
     "output_type": "execute_result"
    }
   ],
   "source": [
    "y"
   ]
  },
  {
   "cell_type": "code",
   "execution_count": 26,
   "id": "bdb41821",
   "metadata": {},
   "outputs": [],
   "source": [
    "# Split the data into training and test sets. (0.75, 0.25) split.\n",
    "X_train, X_test, y_train, y_test = train_test_split(X, y, train_size=0.75, test_size=0.25)"
   ]
  },
  {
   "cell_type": "code",
   "execution_count": 27,
   "id": "8e7b13ac",
   "metadata": {},
   "outputs": [
    {
     "name": "stdout",
     "output_type": "stream",
     "text": [
      "Total # of sample in whole dataset: 271800\n",
      "**************************************************\n",
      "Total # of sample in train dataset: 203850\n",
      "Shape of X_train: (203850, 12)\n",
      "**************************************************\n",
      "Total # of sample in test dataset: 67950\n",
      "Shape of X_test: (67950, 12)\n"
     ]
    }
   ],
   "source": [
    "print(f'Total # of sample in whole dataset: {len(X)}')\n",
    "print(\"*****\"*10)\n",
    "print(f'Total # of sample in train dataset: {len(X_train)}')\n",
    "print(f'Shape of X_train: {X_train.shape}')\n",
    "print(\"*****\"*10)\n",
    "print(f'Total # of sample in test dataset: {len(X_test)}')\n",
    "print(f'Shape of X_test: {X_test.shape}')"
   ]
  },
  {
   "cell_type": "markdown",
   "id": "442bc604",
   "metadata": {},
   "source": [
    "# Linear Regression"
   ]
  },
  {
   "cell_type": "code",
   "execution_count": 28,
   "id": "bcf03a55",
   "metadata": {},
   "outputs": [],
   "source": [
    "Lreg = LinearRegression()"
   ]
  },
  {
   "cell_type": "code",
   "execution_count": 29,
   "id": "5a12467d",
   "metadata": {},
   "outputs": [
    {
     "data": {
      "text/html": [
       "<style>#sk-container-id-1 {color: black;background-color: white;}#sk-container-id-1 pre{padding: 0;}#sk-container-id-1 div.sk-toggleable {background-color: white;}#sk-container-id-1 label.sk-toggleable__label {cursor: pointer;display: block;width: 100%;margin-bottom: 0;padding: 0.3em;box-sizing: border-box;text-align: center;}#sk-container-id-1 label.sk-toggleable__label-arrow:before {content: \"▸\";float: left;margin-right: 0.25em;color: #696969;}#sk-container-id-1 label.sk-toggleable__label-arrow:hover:before {color: black;}#sk-container-id-1 div.sk-estimator:hover label.sk-toggleable__label-arrow:before {color: black;}#sk-container-id-1 div.sk-toggleable__content {max-height: 0;max-width: 0;overflow: hidden;text-align: left;background-color: #f0f8ff;}#sk-container-id-1 div.sk-toggleable__content pre {margin: 0.2em;color: black;border-radius: 0.25em;background-color: #f0f8ff;}#sk-container-id-1 input.sk-toggleable__control:checked~div.sk-toggleable__content {max-height: 200px;max-width: 100%;overflow: auto;}#sk-container-id-1 input.sk-toggleable__control:checked~label.sk-toggleable__label-arrow:before {content: \"▾\";}#sk-container-id-1 div.sk-estimator input.sk-toggleable__control:checked~label.sk-toggleable__label {background-color: #d4ebff;}#sk-container-id-1 div.sk-label input.sk-toggleable__control:checked~label.sk-toggleable__label {background-color: #d4ebff;}#sk-container-id-1 input.sk-hidden--visually {border: 0;clip: rect(1px 1px 1px 1px);clip: rect(1px, 1px, 1px, 1px);height: 1px;margin: -1px;overflow: hidden;padding: 0;position: absolute;width: 1px;}#sk-container-id-1 div.sk-estimator {font-family: monospace;background-color: #f0f8ff;border: 1px dotted black;border-radius: 0.25em;box-sizing: border-box;margin-bottom: 0.5em;}#sk-container-id-1 div.sk-estimator:hover {background-color: #d4ebff;}#sk-container-id-1 div.sk-parallel-item::after {content: \"\";width: 100%;border-bottom: 1px solid gray;flex-grow: 1;}#sk-container-id-1 div.sk-label:hover label.sk-toggleable__label {background-color: #d4ebff;}#sk-container-id-1 div.sk-serial::before {content: \"\";position: absolute;border-left: 1px solid gray;box-sizing: border-box;top: 0;bottom: 0;left: 50%;z-index: 0;}#sk-container-id-1 div.sk-serial {display: flex;flex-direction: column;align-items: center;background-color: white;padding-right: 0.2em;padding-left: 0.2em;position: relative;}#sk-container-id-1 div.sk-item {position: relative;z-index: 1;}#sk-container-id-1 div.sk-parallel {display: flex;align-items: stretch;justify-content: center;background-color: white;position: relative;}#sk-container-id-1 div.sk-item::before, #sk-container-id-1 div.sk-parallel-item::before {content: \"\";position: absolute;border-left: 1px solid gray;box-sizing: border-box;top: 0;bottom: 0;left: 50%;z-index: -1;}#sk-container-id-1 div.sk-parallel-item {display: flex;flex-direction: column;z-index: 1;position: relative;background-color: white;}#sk-container-id-1 div.sk-parallel-item:first-child::after {align-self: flex-end;width: 50%;}#sk-container-id-1 div.sk-parallel-item:last-child::after {align-self: flex-start;width: 50%;}#sk-container-id-1 div.sk-parallel-item:only-child::after {width: 0;}#sk-container-id-1 div.sk-dashed-wrapped {border: 1px dashed gray;margin: 0 0.4em 0.5em 0.4em;box-sizing: border-box;padding-bottom: 0.4em;background-color: white;}#sk-container-id-1 div.sk-label label {font-family: monospace;font-weight: bold;display: inline-block;line-height: 1.2em;}#sk-container-id-1 div.sk-label-container {text-align: center;}#sk-container-id-1 div.sk-container {/* jupyter's `normalize.less` sets `[hidden] { display: none; }` but bootstrap.min.css set `[hidden] { display: none !important; }` so we also need the `!important` here to be able to override the default hidden behavior on the sphinx rendered scikit-learn.org. See: https://github.com/scikit-learn/scikit-learn/issues/21755 */display: inline-block !important;position: relative;}#sk-container-id-1 div.sk-text-repr-fallback {display: none;}</style><div id=\"sk-container-id-1\" class=\"sk-top-container\"><div class=\"sk-text-repr-fallback\"><pre>LinearRegression()</pre><b>In a Jupyter environment, please rerun this cell to show the HTML representation or trust the notebook. <br />On GitHub, the HTML representation is unable to render, please try loading this page with nbviewer.org.</b></div><div class=\"sk-container\" hidden><div class=\"sk-item\"><div class=\"sk-estimator sk-toggleable\"><input class=\"sk-toggleable__control sk-hidden--visually\" id=\"sk-estimator-id-1\" type=\"checkbox\" checked><label for=\"sk-estimator-id-1\" class=\"sk-toggleable__label sk-toggleable__label-arrow\">LinearRegression</label><div class=\"sk-toggleable__content\"><pre>LinearRegression()</pre></div></div></div></div></div>"
      ],
      "text/plain": [
       "LinearRegression()"
      ]
     },
     "execution_count": 29,
     "metadata": {},
     "output_type": "execute_result"
    }
   ],
   "source": [
    "Lreg.fit(X_train,  y_train)"
   ]
  },
  {
   "cell_type": "code",
   "execution_count": 30,
   "id": "77d38476",
   "metadata": {},
   "outputs": [],
   "source": [
    "predictions = Lreg.predict(X_test)"
   ]
  },
  {
   "cell_type": "code",
   "execution_count": 31,
   "id": "7a87301e",
   "metadata": {
    "scrolled": true
   },
   "outputs": [
    {
     "name": "stdout",
     "output_type": "stream",
     "text": [
      "Mean Absolute Error: 194868.91041966254\n",
      "Mean Squared Error: 61738284433.95972\n",
      "Root Mean Squared Error: 248471.89868063494\n",
      "r2_score: 0.11653710781042681\n"
     ]
    }
   ],
   "source": [
    "print('Mean Absolute Error:', mean_absolute_error(y_test,predictions))\n",
    "print('Mean Squared Error:', mean_squared_error(y_test,predictions))\n",
    "print('Root Mean Squared Error:', np.sqrt(mean_squared_error(y_test,predictions)))\n",
    "print('r2_score:', r2_score(y_test,predictions))"
   ]
  },
  {
   "cell_type": "markdown",
   "id": "32f4cee6",
   "metadata": {},
   "source": [
    "# Lasso Regression"
   ]
  },
  {
   "cell_type": "code",
   "execution_count": 32,
   "id": "ae92b6b0",
   "metadata": {},
   "outputs": [],
   "source": [
    "Lreg = Lasso()"
   ]
  },
  {
   "cell_type": "code",
   "execution_count": 33,
   "id": "89e0864a",
   "metadata": {},
   "outputs": [
    {
     "name": "stdout",
     "output_type": "stream",
     "text": [
      "Mean Absolute Error: 194909.5509135623\n",
      "Mean Squared Error: 61781379380.64443\n",
      "Root Mean Squared Error: 248558.603513627\n",
      "r2_score: 0.1159204274704092\n"
     ]
    }
   ],
   "source": [
    "Lreg.fit(X_train,  y_train)\n",
    "predictions = Lreg.predict(X_test)\n",
    "\n",
    "print('Mean Absolute Error:', mean_absolute_error(y_test,predictions))\n",
    "print('Mean Squared Error:', mean_squared_error(y_test,predictions))\n",
    "print('Root Mean Squared Error:', np.sqrt(mean_squared_error(y_test,predictions)))\n",
    "print('r2_score:', r2_score(y_test,predictions))"
   ]
  },
  {
   "cell_type": "markdown",
   "id": "dc1f6554",
   "metadata": {},
   "source": [
    "# Ridge Regression"
   ]
  },
  {
   "cell_type": "code",
   "execution_count": 34,
   "id": "d63cae50",
   "metadata": {},
   "outputs": [],
   "source": [
    "Lreg = Ridge()"
   ]
  },
  {
   "cell_type": "code",
   "execution_count": 35,
   "id": "bea8349f",
   "metadata": {},
   "outputs": [
    {
     "name": "stdout",
     "output_type": "stream",
     "text": [
      "Mean Absolute Error: 194868.66723210082\n",
      "Mean Squared Error: 61738282604.24956\n",
      "Root Mean Squared Error: 248471.89499870918\n",
      "r2_score: 0.11653713399322474\n"
     ]
    }
   ],
   "source": [
    "Lreg.fit(X_train,  y_train)\n",
    "predictions = Lreg.predict(X_test)\n",
    "\n",
    "print('Mean Absolute Error:', mean_absolute_error(y_test,predictions))\n",
    "print('Mean Squared Error:', mean_squared_error(y_test,predictions))\n",
    "print('Root Mean Squared Error:', np.sqrt(mean_squared_error(y_test,predictions)))\n",
    "print('r2_score:', r2_score(y_test,predictions))"
   ]
  },
  {
   "cell_type": "markdown",
   "id": "24ea0209",
   "metadata": {},
   "source": [
    "# K-Nearest Neighbour"
   ]
  },
  {
   "cell_type": "code",
   "execution_count": 36,
   "id": "0d25058d",
   "metadata": {},
   "outputs": [],
   "source": [
    "Lreg = KNeighborsRegressor()"
   ]
  },
  {
   "cell_type": "code",
   "execution_count": 37,
   "id": "e4d20901",
   "metadata": {
    "scrolled": true
   },
   "outputs": [
    {
     "data": {
      "text/html": [
       "<style>#sk-container-id-2 {color: black;background-color: white;}#sk-container-id-2 pre{padding: 0;}#sk-container-id-2 div.sk-toggleable {background-color: white;}#sk-container-id-2 label.sk-toggleable__label {cursor: pointer;display: block;width: 100%;margin-bottom: 0;padding: 0.3em;box-sizing: border-box;text-align: center;}#sk-container-id-2 label.sk-toggleable__label-arrow:before {content: \"▸\";float: left;margin-right: 0.25em;color: #696969;}#sk-container-id-2 label.sk-toggleable__label-arrow:hover:before {color: black;}#sk-container-id-2 div.sk-estimator:hover label.sk-toggleable__label-arrow:before {color: black;}#sk-container-id-2 div.sk-toggleable__content {max-height: 0;max-width: 0;overflow: hidden;text-align: left;background-color: #f0f8ff;}#sk-container-id-2 div.sk-toggleable__content pre {margin: 0.2em;color: black;border-radius: 0.25em;background-color: #f0f8ff;}#sk-container-id-2 input.sk-toggleable__control:checked~div.sk-toggleable__content {max-height: 200px;max-width: 100%;overflow: auto;}#sk-container-id-2 input.sk-toggleable__control:checked~label.sk-toggleable__label-arrow:before {content: \"▾\";}#sk-container-id-2 div.sk-estimator input.sk-toggleable__control:checked~label.sk-toggleable__label {background-color: #d4ebff;}#sk-container-id-2 div.sk-label input.sk-toggleable__control:checked~label.sk-toggleable__label {background-color: #d4ebff;}#sk-container-id-2 input.sk-hidden--visually {border: 0;clip: rect(1px 1px 1px 1px);clip: rect(1px, 1px, 1px, 1px);height: 1px;margin: -1px;overflow: hidden;padding: 0;position: absolute;width: 1px;}#sk-container-id-2 div.sk-estimator {font-family: monospace;background-color: #f0f8ff;border: 1px dotted black;border-radius: 0.25em;box-sizing: border-box;margin-bottom: 0.5em;}#sk-container-id-2 div.sk-estimator:hover {background-color: #d4ebff;}#sk-container-id-2 div.sk-parallel-item::after {content: \"\";width: 100%;border-bottom: 1px solid gray;flex-grow: 1;}#sk-container-id-2 div.sk-label:hover label.sk-toggleable__label {background-color: #d4ebff;}#sk-container-id-2 div.sk-serial::before {content: \"\";position: absolute;border-left: 1px solid gray;box-sizing: border-box;top: 0;bottom: 0;left: 50%;z-index: 0;}#sk-container-id-2 div.sk-serial {display: flex;flex-direction: column;align-items: center;background-color: white;padding-right: 0.2em;padding-left: 0.2em;position: relative;}#sk-container-id-2 div.sk-item {position: relative;z-index: 1;}#sk-container-id-2 div.sk-parallel {display: flex;align-items: stretch;justify-content: center;background-color: white;position: relative;}#sk-container-id-2 div.sk-item::before, #sk-container-id-2 div.sk-parallel-item::before {content: \"\";position: absolute;border-left: 1px solid gray;box-sizing: border-box;top: 0;bottom: 0;left: 50%;z-index: -1;}#sk-container-id-2 div.sk-parallel-item {display: flex;flex-direction: column;z-index: 1;position: relative;background-color: white;}#sk-container-id-2 div.sk-parallel-item:first-child::after {align-self: flex-end;width: 50%;}#sk-container-id-2 div.sk-parallel-item:last-child::after {align-self: flex-start;width: 50%;}#sk-container-id-2 div.sk-parallel-item:only-child::after {width: 0;}#sk-container-id-2 div.sk-dashed-wrapped {border: 1px dashed gray;margin: 0 0.4em 0.5em 0.4em;box-sizing: border-box;padding-bottom: 0.4em;background-color: white;}#sk-container-id-2 div.sk-label label {font-family: monospace;font-weight: bold;display: inline-block;line-height: 1.2em;}#sk-container-id-2 div.sk-label-container {text-align: center;}#sk-container-id-2 div.sk-container {/* jupyter's `normalize.less` sets `[hidden] { display: none; }` but bootstrap.min.css set `[hidden] { display: none !important; }` so we also need the `!important` here to be able to override the default hidden behavior on the sphinx rendered scikit-learn.org. See: https://github.com/scikit-learn/scikit-learn/issues/21755 */display: inline-block !important;position: relative;}#sk-container-id-2 div.sk-text-repr-fallback {display: none;}</style><div id=\"sk-container-id-2\" class=\"sk-top-container\"><div class=\"sk-text-repr-fallback\"><pre>KNeighborsRegressor()</pre><b>In a Jupyter environment, please rerun this cell to show the HTML representation or trust the notebook. <br />On GitHub, the HTML representation is unable to render, please try loading this page with nbviewer.org.</b></div><div class=\"sk-container\" hidden><div class=\"sk-item\"><div class=\"sk-estimator sk-toggleable\"><input class=\"sk-toggleable__control sk-hidden--visually\" id=\"sk-estimator-id-2\" type=\"checkbox\" checked><label for=\"sk-estimator-id-2\" class=\"sk-toggleable__label sk-toggleable__label-arrow\">KNeighborsRegressor</label><div class=\"sk-toggleable__content\"><pre>KNeighborsRegressor()</pre></div></div></div></div></div>"
      ],
      "text/plain": [
       "KNeighborsRegressor()"
      ]
     },
     "execution_count": 37,
     "metadata": {},
     "output_type": "execute_result"
    }
   ],
   "source": [
    "Lreg.fit(X_train,  y_train)"
   ]
  },
  {
   "cell_type": "code",
   "execution_count": 38,
   "id": "0dffbf9f",
   "metadata": {},
   "outputs": [],
   "source": [
    "predictions = Lreg.predict(X_test)"
   ]
  },
  {
   "cell_type": "code",
   "execution_count": 39,
   "id": "716c311e",
   "metadata": {},
   "outputs": [
    {
     "name": "stdout",
     "output_type": "stream",
     "text": [
      "Mean Absolute Error: 132665.680794702\n",
      "Mean Squared Error: 34046021694.731125\n",
      "Root Mean Squared Error: 184515.64078617055\n",
      "r2_score: 0.5128080239069419\n"
     ]
    }
   ],
   "source": [
    "print('Mean Absolute Error:', mean_absolute_error(y_test,predictions))\n",
    "print('Mean Squared Error:', mean_squared_error(y_test,predictions))\n",
    "print('Root Mean Squared Error:', np.sqrt(mean_squared_error(y_test,predictions)))\n",
    "print('r2_score:', r2_score(y_test,predictions))"
   ]
  },
  {
   "cell_type": "markdown",
   "id": "aa2cff77",
   "metadata": {},
   "source": [
    "# Hyperparameter tunning"
   ]
  },
  {
   "cell_type": "code",
   "execution_count": 40,
   "id": "3c618929",
   "metadata": {},
   "outputs": [
    {
     "name": "stdout",
     "output_type": "stream",
     "text": [
      "--------------- Neighbour:  2 ------------------------\n",
      "Mean Absolute Error: 148198.78476821192\n",
      "Mean Squared Error: 43543654105.5596\n",
      "Root Mean Squared Error: 208671.16261131916\n",
      "r2_score: 0.3768987437001128\n",
      "--------------- Neighbour:  4 ------------------------\n",
      "Mean Absolute Error: 134085.67384105962\n",
      "Mean Squared Error: 35004660176.98759\n",
      "Root Mean Squared Error: 187095.3237710328\n",
      "r2_score: 0.4990900929041061\n",
      "--------------- Neighbour:  6 ------------------------\n",
      "Mean Absolute Error: 131779.38145695365\n",
      "Mean Squared Error: 33504410735.198677\n",
      "Root Mean Squared Error: 183042.10099099792\n",
      "r2_score: 0.5205583718334695\n",
      "--------------- Neighbour:  8 ------------------------\n",
      "Mean Absolute Error: 130909.26854304636\n",
      "Mean Squared Error: 32874629063.222687\n",
      "Root Mean Squared Error: 181313.62073275875\n",
      "r2_score: 0.5295704255773188\n",
      "--------------- Neighbour:  10 ------------------------\n",
      "Mean Absolute Error: 130931.14225165563\n",
      "Mean Squared Error: 32745460668.031788\n",
      "Root Mean Squared Error: 180957.0685771401\n",
      "r2_score: 0.5314188002939324\n",
      "--------------- Neighbour:  12 ------------------------\n",
      "Mean Absolute Error: 131217.12229580575\n",
      "Mean Squared Error: 32865377217.22682\n",
      "Root Mean Squared Error: 181288.1055591536\n",
      "r2_score: 0.5297028177015337\n",
      "--------------- Neighbour:  14 ------------------------\n",
      "Mean Absolute Error: 131488.56348155154\n",
      "Mean Squared Error: 32965263708.30815\n",
      "Root Mean Squared Error: 181563.38757664815\n",
      "r2_score: 0.5282734613611291\n",
      "--------------- Neighbour:  16 ------------------------\n",
      "Mean Absolute Error: 131936.7405629139\n",
      "Mean Squared Error: 33116999018.221752\n",
      "Root Mean Squared Error: 181980.76551718797\n",
      "r2_score: 0.5261021584658091\n",
      "--------------- Neighbour:  18 ------------------------\n",
      "Mean Absolute Error: 132492.18543046358\n",
      "Mean Squared Error: 33335490909.777042\n",
      "Root Mean Squared Error: 182580.09450588265\n",
      "r2_score: 0.5229755818172486\n"
     ]
    }
   ],
   "source": [
    "for i in range(2,20,2):\n",
    "    #Train Model and Predict  \n",
    "    Lreg = KNeighborsRegressor(n_neighbors = i).fit(X_train,y_train)\n",
    "    predictions = Lreg.predict(X_test)\n",
    "    print (\"--------------- Neighbour: \", i,\"------------------------\")\n",
    "    print('Mean Absolute Error:', mean_absolute_error(y_test,predictions))\n",
    "    print('Mean Squared Error:', mean_squared_error(y_test,predictions))\n",
    "    print('Root Mean Squared Error:', np.sqrt(mean_squared_error(y_test,predictions)))\n",
    "    print('r2_score:', r2_score(y_test,predictions))"
   ]
  },
  {
   "cell_type": "code",
   "execution_count": 41,
   "id": "6ff5adf7",
   "metadata": {},
   "outputs": [
    {
     "name": "stdout",
     "output_type": "stream",
     "text": [
      "Mean Absolute Error: 130931.14225165563\n",
      "Mean Squared Error: 32745460668.031788\n",
      "Root Mean Squared Error: 180957.0685771401\n",
      "r2_score: 0.5314188002939324\n"
     ]
    }
   ],
   "source": [
    "tree = KNeighborsRegressor(n_neighbors=10)\n",
    "\n",
    "tree.fit(X_train,  y_train)\n",
    "predictions = tree.predict(X_test)\n",
    "\n",
    "print('Mean Absolute Error:', mean_absolute_error(y_test,predictions))\n",
    "print('Mean Squared Error:', mean_squared_error(y_test,predictions))\n",
    "print('Root Mean Squared Error:', np.sqrt(mean_squared_error(y_test,predictions)))\n",
    "print('r2_score:', r2_score(y_test,predictions))"
   ]
  },
  {
   "cell_type": "code",
   "execution_count": 42,
   "id": "c863f004",
   "metadata": {},
   "outputs": [],
   "source": [
    "@scoring_func\n",
    "def score(model, request):\n",
    "    payload_dict = request.json[\"payload\"]\n",
    "    df = pd.DataFrame(payload_dict,index=[0])\n",
    "    \n",
    "    df['DATE'] = pd.to_datetime(df['DATE'])\n",
    "    df['HOUR'] = df['DATE'].dt.hour\n",
    "    df['DAYOFWEEK'] = df['DATE'].dt.dayofweek\n",
    "    df['QUARTER'] = df['DATE'].dt.quarter\n",
    "    df['MONTH'] = df['DATE'].dt.month\n",
    "    df['YEAR'] = df['DATE'].dt.year\n",
    "    df['DAYOFYEAR'] = df['DATE'].dt.dayofyear\n",
    "    df['DAYOFMONTH'] = df['DATE'].dt.day\n",
    "    df['DATE'] = pd.to_datetime(df['DATE']).dt.strftime(\"%Y-%m-%d %H:%M:%S.%f\")\n",
    "    df['WEEKDAY_FLAG'] = df['WEEKDAY_FLAG'].map({'Y': 1, 'N': 0})\n",
    "    df['HOLIDAY_FLAG'] = df['HOLIDAY_FLAG'].map({'Y': 1, 'N': 0})\n",
    "\n",
    "    df['STATE']= label_encoder.transform(df['STATE'])\n",
    "    df['ATM_ID']= atm_encoder.transform(df['ATM_ID'])\n",
    "    \n",
    "    if 'TOTAL_TRANSACTION_COUNT' in df.columns:\n",
    "        df.drop(['TOTAL_TRANSACTION_COUNT'] ,axis=1, inplace=True)\n",
    "    \n",
    "    if 'DOWNTIME_IN_MINS' in df.columns:\n",
    "        df.drop(['DOWNTIME_IN_MINS'] ,axis=1, inplace=True)\n",
    "        \n",
    "    if 'ATM_MAX_CAPACITY' in df.columns:\n",
    "        df.drop(['ATM_MAX_CAPACITY'] ,axis=1, inplace=True)\n",
    "\n",
    "    df.drop(['DATE','BANK_NAME'], axis=1,inplace=True)\n",
    "    \n",
    "    features = ['WEEKDAY_FLAG', 'HOLIDAY_FLAG', 'BANK_ID', 'STATE', 'ATM_ID','HOUR', 'DAYOFWEEK', \n",
    "                'QUARTER', 'MONTH', 'YEAR','DAYOFYEAR', 'DAYOFMONTH']\n",
    "\n",
    "    data = df[features]\n",
    "\n",
    "    y_pred = model.predict(data)[0]\n",
    "    return y_pred"
   ]
  },
  {
   "cell_type": "code",
   "execution_count": 43,
   "id": "8d1cab94",
   "metadata": {},
   "outputs": [
    {
     "data": {
      "text/plain": [
       "{'DATE': '2023-01-29',\n",
       " 'WEEKDAY_FLAG': 'Y',\n",
       " 'HOLIDAY_FLAG': 'N',\n",
       " 'BANK_ID': 3,\n",
       " 'STATE': 'Maine',\n",
       " 'BANK_NAME': 'Citibank',\n",
       " 'ATM_ID': 'TBH000274025',\n",
       " 'DISPENSED_AMOUNT': 225180.0,\n",
       " 'TOTAL_TRANSACTION_COUNT': 90.0,\n",
       " 'DOWNTIME_IN_MINS': 0.0,\n",
       " 'ATM_MAX_CAPACITY': 2860000.0}"
      ]
     },
     "execution_count": 43,
     "metadata": {},
     "output_type": "execute_result"
    }
   ],
   "source": [
    "df_original_1 = df_original.copy()\n",
    "\n",
    "payload  = df_original.iloc[0].to_dict()\n",
    "#payload1  = df_original.iloc[0].to_dict()\n",
    "payload"
   ]
  },
  {
   "cell_type": "code",
   "execution_count": 44,
   "id": "612fb774",
   "metadata": {
    "scrolled": true
   },
   "outputs": [
    {
     "name": "stdout",
     "output_type": "stream",
     "text": [
      "{ \"payload\":  {'DATE': '2023-01-29', 'WEEKDAY_FLAG': 'Y', 'HOLIDAY_FLAG': 'N', 'BANK_ID': 3, 'STATE': 'Maine', 'BANK_NAME': 'Citibank', 'ATM_ID': 'TBH000274025', 'DISPENSED_AMOUNT': 225180.0, 'TOTAL_TRANSACTION_COUNT': 90.0, 'DOWNTIME_IN_MINS': 0.0, 'ATM_MAX_CAPACITY': 2860000.0} }\n"
     ]
    }
   ],
   "source": [
    "print ('{ \"payload\": ', payload, \"}\")"
   ]
  },
  {
   "cell_type": "code",
   "execution_count": 45,
   "id": "068e0720",
   "metadata": {},
   "outputs": [],
   "source": [
    "df_original_1.drop(['TOTAL_TRANSACTION_COUNT','DOWNTIME_IN_MINS','ATM_MAX_CAPACITY'], inplace=True, axis=1)\n",
    "payload1  = df_original_1.iloc[0].to_dict()"
   ]
  },
  {
   "cell_type": "code",
   "execution_count": 46,
   "id": "bc25c825",
   "metadata": {
    "scrolled": true
   },
   "outputs": [
    {
     "name": "stdout",
     "output_type": "stream",
     "text": [
      "{ \"payload\":  {'DATE': '2023-01-29', 'WEEKDAY_FLAG': 'Y', 'HOLIDAY_FLAG': 'N', 'BANK_ID': 3, 'STATE': 'Maine', 'BANK_NAME': 'Citibank', 'ATM_ID': 'TBH000274025', 'DISPENSED_AMOUNT': 225180.0} }\n"
     ]
    }
   ],
   "source": [
    "print ('{ \"payload\": ', payload1, \"}\")"
   ]
  },
  {
   "cell_type": "code",
   "execution_count": 47,
   "id": "745e4aa2",
   "metadata": {},
   "outputs": [
    {
     "data": {
      "text/plain": [
       "228852.0"
      ]
     },
     "execution_count": 47,
     "metadata": {},
     "output_type": "execute_result"
    }
   ],
   "source": [
    "req = requests.Request()\n",
    "req.json = {\"payload\":payload1}\n",
    "#req.json = {\"payload\":payload}\n",
    "y_req = req\n",
    "score(tree, y_req)"
   ]
  },
  {
   "cell_type": "code",
   "execution_count": 48,
   "id": "d13e3484",
   "metadata": {},
   "outputs": [
    {
     "data": {
      "text/plain": [
       "228852.0"
      ]
     },
     "execution_count": 48,
     "metadata": {},
     "output_type": "execute_result"
    }
   ],
   "source": [
    "req = requests.Request()\n",
    "req.json = {\"payload\":payload}\n",
    "y_req = req\n",
    "score(tree, y_req)"
   ]
  },
  {
   "cell_type": "code",
   "execution_count": 49,
   "id": "cbe71e8f",
   "metadata": {},
   "outputs": [],
   "source": [
    "y_pred = predictions\n",
    "y_prediction = pd.Series(y_pred)"
   ]
  },
  {
   "cell_type": "code",
   "execution_count": 50,
   "id": "c86110af",
   "metadata": {
    "scrolled": false
   },
   "outputs": [
    {
     "data": {
      "text/plain": [
       "(pandas.core.frame.DataFrame,\n",
       " pandas.core.frame.DataFrame,\n",
       " pandas.core.series.Series,\n",
       " pandas.core.series.Series,\n",
       " numpy.ndarray,\n",
       " pandas.core.series.Series)"
      ]
     },
     "execution_count": 50,
     "metadata": {},
     "output_type": "execute_result"
    }
   ],
   "source": [
    "type(X_train), type(X_test), type(y_train), type(y_test), type(y_pred), type(y_prediction)"
   ]
  },
  {
   "cell_type": "code",
   "execution_count": 51,
   "id": "7caa84ff",
   "metadata": {
    "scrolled": true
   },
   "outputs": [
    {
     "name": "stdout",
     "output_type": "stream",
     "text": [
      "Calculating build time metrics\n",
      "\n",
      "Progress: ██████████████████████████████████████████████████████████████████████ 100.0%\n"
     ]
    },
    {
     "data": {
      "application/vnd.jupyter.widget-view+json": {
       "model_id": "9962a1dede4742c085d3b519afd1938f",
       "version_major": 2,
       "version_minor": 0
      },
      "text/plain": [
       "VBox(children=(HTML(value='<style>.grad_1{background: #2468a4;} .grad_2{ color:white; background: #2468a4;}</s…"
      ]
     },
     "metadata": {},
     "output_type": "display_data"
    }
   ],
   "source": [
    "## registering the model in Fosfor.\n",
    "model_reg = register_model(tree,\n",
    "               score, \n",
    "               name=\"ATM_DispenseAMT_KNN_10_Regression\", \n",
    "               description=\"ATM Dispense Amount KNN_10 Regression\",\n",
    "               flavour=MLModelFlavours.sklearn,\n",
    "               model_type=\"regression\",\n",
    "               #init_script=\"pip install snowflake-ml-python==1.0.11\",\n",
    "               init_script=\"pip install cloudpickle==2.2.1\",\n",
    "               y_true=y_test,\n",
    "               y_pred=y_prediction,\n",
    "               #prob=y_prob,\n",
    "               features=X_train.columns,\n",
    "               input_type=\"json\", \n",
    "               explain_ai=True,\n",
    "               x_train=X_train, \n",
    "               x_test=X_test, \n",
    "               y_train=y_train.tolist(),\n",
    "               y_test=y_test.tolist(),\n",
    "               feature_names=X_train.columns.tolist(),\n",
    "               original_features=X_train.columns.tolist(),\n",
    "               feature_ids=X_train.columns,\n",
    "               kyd=True, kyd_score = True)"
   ]
  }
 ],
 "metadata": {
  "kernelspec": {
   "display_name": "Python 3",
   "language": "python",
   "name": "python3"
  },
  "language_info": {
   "codemirror_mode": {
    "name": "ipython",
    "version": 3
   },
   "file_extension": ".py",
   "mimetype": "text/x-python",
   "name": "python",
   "nbconvert_exporter": "python",
   "pygments_lexer": "ipython3",
   "version": "3.8.18"
  }
 },
 "nbformat": 4,
 "nbformat_minor": 5
}
