{
 "cells": [
  {
   "cell_type": "markdown",
   "id": "c6e9f324",
   "metadata": {},
   "source": [
    "# Use CASH_OUT_Template Customized Notebook Template"
   ]
  },
  {
   "cell_type": "code",
   "execution_count": 1,
   "id": "e5f545a5",
   "metadata": {
    "scrolled": true
   },
   "outputs": [],
   "source": [
    "from fosforml.model_manager.snowflakesession import get_session\n",
    "my_session = get_session()\n",
    "\n",
    "import pandas as pd\n",
    "import datetime as dt"
   ]
  },
  {
   "cell_type": "code",
   "execution_count": 10,
   "id": "02cf9f86",
   "metadata": {},
   "outputs": [
    {
     "name": "stdout",
     "output_type": "stream",
     "text": [
      "pandas==2.0.3\r\n"
     ]
    }
   ],
   "source": [
    "#!pip freeze | grep pandas"
   ]
  },
  {
   "cell_type": "code",
   "execution_count": 2,
   "id": "d305964f",
   "metadata": {},
   "outputs": [],
   "source": [
    "#import seaborn as sns\n",
    "import subprocess\n",
    "\n",
    "# create_temp_table warning suppresion\n",
    "import warnings; warnings.simplefilter('ignore')"
   ]
  },
  {
   "cell_type": "code",
   "execution_count": 3,
   "id": "6e183a21",
   "metadata": {},
   "outputs": [],
   "source": [
    "from fosforml import register_model\n",
    "import requests"
   ]
  },
  {
   "cell_type": "code",
   "execution_count": 4,
   "id": "c6a862f7",
   "metadata": {},
   "outputs": [],
   "source": [
    "# Import label encoder \n",
    "from sklearn import preprocessing \n",
    "from sklearn.linear_model import LinearRegression, Lasso, Ridge, ElasticNet\n",
    "from sklearn.model_selection import GridSearchCV\n",
    "from sklearn.tree import DecisionTreeRegressor\n",
    "from sklearn.metrics import mean_squared_error, mean_absolute_error, r2_score\n",
    "from sklearn.model_selection import train_test_split\n",
    "from math import sqrt\n",
    "import numpy as np"
   ]
  },
  {
   "cell_type": "code",
   "execution_count": 5,
   "id": "e6c5b943",
   "metadata": {},
   "outputs": [],
   "source": [
    "table_name = 'ATM_TRANSACTION_MASTER_DATA'\n",
    "\n",
    "sf_df = my_session.sql(\"select * from {}\".format(table_name))\n",
    "df = sf_df.to_pandas()\n",
    "df_original = sf_df.to_pandas()"
   ]
  },
  {
   "cell_type": "code",
   "execution_count": 15,
   "id": "ed2e6957",
   "metadata": {},
   "outputs": [],
   "source": [
    "# To read a specific dataset published from a snowflake connection\n",
    "#df_original = snowflake.get_dataframe(\"ATM_TRANSACTION_MASTER_DATA\")\n",
    "#df = snowflake.get_dataframe(\"ATM_TRANSACTION_MASTER_DATA\")"
   ]
  },
  {
   "cell_type": "code",
   "execution_count": 6,
   "id": "f6d892c3",
   "metadata": {},
   "outputs": [],
   "source": [
    "to_drop = ['MALE_POPULATION','FEMALE_POPULATION','TOTAL_POPULATION','NO_OF_VETERANS','FOREIGN_BORN','AVG_HOUSEHOLD_SIZE','LANDAREA_SQ_MILE','POPULATION_RATIO','POPULATION_DENSITY','MEDIAN_HOUSE_INCOME','LOCATION_TYPE','ATM_PLACEMENTS','ATM_ACCESSIBILITY','ATM_MAINTAINENANCE','ATM__REPLENISHMENT']\n",
    "df.drop(to_drop, inplace=True, axis=1)"
   ]
  },
  {
   "cell_type": "code",
   "execution_count": 7,
   "id": "379812bc",
   "metadata": {},
   "outputs": [
    {
     "data": {
      "text/plain": [
       "(312417, 11)"
      ]
     },
     "execution_count": 7,
     "metadata": {},
     "output_type": "execute_result"
    }
   ],
   "source": [
    "df.shape"
   ]
  },
  {
   "cell_type": "code",
   "execution_count": 8,
   "id": "d38c2a39",
   "metadata": {},
   "outputs": [
    {
     "name": "stdout",
     "output_type": "stream",
     "text": [
      "<class 'pandas.core.frame.DataFrame'>\n",
      "RangeIndex: 312417 entries, 0 to 312416\n",
      "Data columns (total 11 columns):\n",
      " #   Column                   Non-Null Count   Dtype  \n",
      "---  ------                   --------------   -----  \n",
      " 0   DATE                     312417 non-null  object \n",
      " 1   WEEKDAY_FLAG             312417 non-null  object \n",
      " 2   HOLIDAY_FLAG             312417 non-null  object \n",
      " 3   BANK_ID                  312417 non-null  int8   \n",
      " 4   STATE                    312417 non-null  object \n",
      " 5   BANK_NAME                312417 non-null  object \n",
      " 6   ATM_ID                   312417 non-null  object \n",
      " 7   DISPENSED_AMOUNT         312417 non-null  float64\n",
      " 8   TOTAL_TRANSACTION_COUNT  312417 non-null  float64\n",
      " 9   DOWNTIME_IN_MINS         312417 non-null  float64\n",
      " 10  ATM_MAX_CAPACITY         312417 non-null  float64\n",
      "dtypes: float64(4), int8(1), object(6)\n",
      "memory usage: 24.1+ MB\n"
     ]
    }
   ],
   "source": [
    "df.info()"
   ]
  },
  {
   "cell_type": "code",
   "execution_count": 9,
   "id": "5fc8fa71",
   "metadata": {},
   "outputs": [
    {
     "data": {
      "text/html": [
       "<div>\n",
       "<style scoped>\n",
       "    .dataframe tbody tr th:only-of-type {\n",
       "        vertical-align: middle;\n",
       "    }\n",
       "\n",
       "    .dataframe tbody tr th {\n",
       "        vertical-align: top;\n",
       "    }\n",
       "\n",
       "    .dataframe thead th {\n",
       "        text-align: right;\n",
       "    }\n",
       "</style>\n",
       "<table border=\"1\" class=\"dataframe\">\n",
       "  <thead>\n",
       "    <tr style=\"text-align: right;\">\n",
       "      <th></th>\n",
       "      <th>DATE</th>\n",
       "      <th>WEEKDAY_FLAG</th>\n",
       "      <th>HOLIDAY_FLAG</th>\n",
       "      <th>BANK_ID</th>\n",
       "      <th>STATE</th>\n",
       "      <th>BANK_NAME</th>\n",
       "      <th>ATM_ID</th>\n",
       "      <th>DISPENSED_AMOUNT</th>\n",
       "      <th>TOTAL_TRANSACTION_COUNT</th>\n",
       "      <th>DOWNTIME_IN_MINS</th>\n",
       "      <th>ATM_MAX_CAPACITY</th>\n",
       "    </tr>\n",
       "  </thead>\n",
       "  <tbody>\n",
       "    <tr>\n",
       "      <th>0</th>\n",
       "      <td>2023-01-29</td>\n",
       "      <td>Y</td>\n",
       "      <td>N</td>\n",
       "      <td>3</td>\n",
       "      <td>Maine</td>\n",
       "      <td>Citibank</td>\n",
       "      <td>TBH000274025</td>\n",
       "      <td>225180.0</td>\n",
       "      <td>90.0</td>\n",
       "      <td>0.0</td>\n",
       "      <td>2860000.0</td>\n",
       "    </tr>\n",
       "    <tr>\n",
       "      <th>1</th>\n",
       "      <td>2023-01-30</td>\n",
       "      <td>Y</td>\n",
       "      <td>N</td>\n",
       "      <td>3</td>\n",
       "      <td>Maine</td>\n",
       "      <td>Citibank</td>\n",
       "      <td>TBH000274025</td>\n",
       "      <td>262440.0</td>\n",
       "      <td>117.0</td>\n",
       "      <td>0.0</td>\n",
       "      <td>2860000.0</td>\n",
       "    </tr>\n",
       "    <tr>\n",
       "      <th>2</th>\n",
       "      <td>2023-01-31</td>\n",
       "      <td>Y</td>\n",
       "      <td>N</td>\n",
       "      <td>3</td>\n",
       "      <td>Maine</td>\n",
       "      <td>Citibank</td>\n",
       "      <td>TBH000274025</td>\n",
       "      <td>561150.0</td>\n",
       "      <td>160.0</td>\n",
       "      <td>0.0</td>\n",
       "      <td>2860000.0</td>\n",
       "    </tr>\n",
       "    <tr>\n",
       "      <th>3</th>\n",
       "      <td>2023-02-01</td>\n",
       "      <td>Y</td>\n",
       "      <td>N</td>\n",
       "      <td>3</td>\n",
       "      <td>Maine</td>\n",
       "      <td>Citibank</td>\n",
       "      <td>TBH000274025</td>\n",
       "      <td>437220.0</td>\n",
       "      <td>129.0</td>\n",
       "      <td>0.0</td>\n",
       "      <td>2860000.0</td>\n",
       "    </tr>\n",
       "    <tr>\n",
       "      <th>4</th>\n",
       "      <td>2023-02-02</td>\n",
       "      <td>Y</td>\n",
       "      <td>N</td>\n",
       "      <td>3</td>\n",
       "      <td>Maine</td>\n",
       "      <td>Citibank</td>\n",
       "      <td>TBH000274025</td>\n",
       "      <td>360900.0</td>\n",
       "      <td>119.0</td>\n",
       "      <td>0.0</td>\n",
       "      <td>2860000.0</td>\n",
       "    </tr>\n",
       "  </tbody>\n",
       "</table>\n",
       "</div>"
      ],
      "text/plain": [
       "         DATE WEEKDAY_FLAG HOLIDAY_FLAG  BANK_ID  STATE BANK_NAME  \\\n",
       "0  2023-01-29            Y            N        3  Maine  Citibank   \n",
       "1  2023-01-30            Y            N        3  Maine  Citibank   \n",
       "2  2023-01-31            Y            N        3  Maine  Citibank   \n",
       "3  2023-02-01            Y            N        3  Maine  Citibank   \n",
       "4  2023-02-02            Y            N        3  Maine  Citibank   \n",
       "\n",
       "         ATM_ID  DISPENSED_AMOUNT  TOTAL_TRANSACTION_COUNT  DOWNTIME_IN_MINS  \\\n",
       "0  TBH000274025          225180.0                     90.0               0.0   \n",
       "1  TBH000274025          262440.0                    117.0               0.0   \n",
       "2  TBH000274025          561150.0                    160.0               0.0   \n",
       "3  TBH000274025          437220.0                    129.0               0.0   \n",
       "4  TBH000274025          360900.0                    119.0               0.0   \n",
       "\n",
       "   ATM_MAX_CAPACITY  \n",
       "0         2860000.0  \n",
       "1         2860000.0  \n",
       "2         2860000.0  \n",
       "3         2860000.0  \n",
       "4         2860000.0  "
      ]
     },
     "execution_count": 9,
     "metadata": {},
     "output_type": "execute_result"
    }
   ],
   "source": [
    "df.head()"
   ]
  },
  {
   "cell_type": "code",
   "execution_count": 10,
   "id": "aaf92191",
   "metadata": {},
   "outputs": [
    {
     "data": {
      "text/plain": [
       "Index(['DATE', 'WEEKDAY_FLAG', 'HOLIDAY_FLAG', 'BANK_ID', 'STATE', 'BANK_NAME',\n",
       "       'ATM_ID', 'DISPENSED_AMOUNT', 'TOTAL_TRANSACTION_COUNT',\n",
       "       'DOWNTIME_IN_MINS', 'ATM_MAX_CAPACITY'],\n",
       "      dtype='object')"
      ]
     },
     "execution_count": 10,
     "metadata": {},
     "output_type": "execute_result"
    }
   ],
   "source": [
    "df.columns"
   ]
  },
  {
   "cell_type": "code",
   "execution_count": 11,
   "id": "0934b554",
   "metadata": {},
   "outputs": [
    {
     "data": {
      "text/plain": [
       "DATE                       0\n",
       "WEEKDAY_FLAG               0\n",
       "HOLIDAY_FLAG               0\n",
       "BANK_ID                    0\n",
       "STATE                      0\n",
       "BANK_NAME                  0\n",
       "ATM_ID                     0\n",
       "DISPENSED_AMOUNT           0\n",
       "TOTAL_TRANSACTION_COUNT    0\n",
       "DOWNTIME_IN_MINS           0\n",
       "ATM_MAX_CAPACITY           0\n",
       "dtype: int64"
      ]
     },
     "execution_count": 11,
     "metadata": {},
     "output_type": "execute_result"
    }
   ],
   "source": [
    "df.isnull().sum()"
   ]
  },
  {
   "cell_type": "code",
   "execution_count": 12,
   "id": "4ec2aad5",
   "metadata": {},
   "outputs": [
    {
     "name": "stdout",
     "output_type": "stream",
     "text": [
      "<class 'pandas.core.frame.DataFrame'>\n",
      "RangeIndex: 312417 entries, 0 to 312416\n",
      "Data columns (total 11 columns):\n",
      " #   Column                   Non-Null Count   Dtype  \n",
      "---  ------                   --------------   -----  \n",
      " 0   DATE                     312417 non-null  object \n",
      " 1   WEEKDAY_FLAG             312417 non-null  object \n",
      " 2   HOLIDAY_FLAG             312417 non-null  object \n",
      " 3   BANK_ID                  312417 non-null  int8   \n",
      " 4   STATE                    312417 non-null  object \n",
      " 5   BANK_NAME                312417 non-null  object \n",
      " 6   ATM_ID                   312417 non-null  object \n",
      " 7   DISPENSED_AMOUNT         312417 non-null  float64\n",
      " 8   TOTAL_TRANSACTION_COUNT  312417 non-null  float64\n",
      " 9   DOWNTIME_IN_MINS         312417 non-null  float64\n",
      " 10  ATM_MAX_CAPACITY         312417 non-null  float64\n",
      "dtypes: float64(4), int8(1), object(6)\n",
      "memory usage: 24.1+ MB\n"
     ]
    }
   ],
   "source": [
    "df.info()"
   ]
  },
  {
   "cell_type": "code",
   "execution_count": 13,
   "id": "4a79e15c",
   "metadata": {},
   "outputs": [],
   "source": [
    "df['DATE'] = pd.to_datetime(df['DATE'])\n",
    "df['HOUR'] = df['DATE'].dt.hour\n",
    "df['DAYOFWEEK'] = df['DATE'].dt.dayofweek\n",
    "df['QUARTER'] = df['DATE'].dt.quarter\n",
    "df['MONTH'] = df['DATE'].dt.month\n",
    "df['YEAR'] = df['DATE'].dt.year\n",
    "df['DAYOFYEAR'] = df['DATE'].dt.dayofyear\n",
    "df['DAYOFMONTH'] = df['DATE'].dt.day\n",
    "df['DATE'] = pd.to_datetime(df['DATE']).dt.strftime(\"%Y-%m-%d %H:%M:%S.%f\")"
   ]
  },
  {
   "cell_type": "code",
   "execution_count": 14,
   "id": "f588d4bf",
   "metadata": {},
   "outputs": [],
   "source": [
    "df['WEEKDAY_FLAG'] = df['WEEKDAY_FLAG'].map({'Y': 1, 'N': 0})\n",
    "df['HOLIDAY_FLAG'] = df['HOLIDAY_FLAG'].map({'Y': 1, 'N': 0})"
   ]
  },
  {
   "cell_type": "code",
   "execution_count": 15,
   "id": "b45c8e98",
   "metadata": {},
   "outputs": [
    {
     "data": {
      "text/html": [
       "<div>\n",
       "<style scoped>\n",
       "    .dataframe tbody tr th:only-of-type {\n",
       "        vertical-align: middle;\n",
       "    }\n",
       "\n",
       "    .dataframe tbody tr th {\n",
       "        vertical-align: top;\n",
       "    }\n",
       "\n",
       "    .dataframe thead th {\n",
       "        text-align: right;\n",
       "    }\n",
       "</style>\n",
       "<table border=\"1\" class=\"dataframe\">\n",
       "  <thead>\n",
       "    <tr style=\"text-align: right;\">\n",
       "      <th></th>\n",
       "      <th>DATE</th>\n",
       "      <th>WEEKDAY_FLAG</th>\n",
       "      <th>HOLIDAY_FLAG</th>\n",
       "      <th>BANK_ID</th>\n",
       "      <th>STATE</th>\n",
       "      <th>BANK_NAME</th>\n",
       "      <th>ATM_ID</th>\n",
       "      <th>DISPENSED_AMOUNT</th>\n",
       "      <th>TOTAL_TRANSACTION_COUNT</th>\n",
       "      <th>DOWNTIME_IN_MINS</th>\n",
       "      <th>ATM_MAX_CAPACITY</th>\n",
       "      <th>HOUR</th>\n",
       "      <th>DAYOFWEEK</th>\n",
       "      <th>QUARTER</th>\n",
       "      <th>MONTH</th>\n",
       "      <th>YEAR</th>\n",
       "      <th>DAYOFYEAR</th>\n",
       "      <th>DAYOFMONTH</th>\n",
       "    </tr>\n",
       "  </thead>\n",
       "  <tbody>\n",
       "    <tr>\n",
       "      <th>0</th>\n",
       "      <td>2023-01-29 00:00:00.000000</td>\n",
       "      <td>1</td>\n",
       "      <td>0</td>\n",
       "      <td>3</td>\n",
       "      <td>Maine</td>\n",
       "      <td>Citibank</td>\n",
       "      <td>TBH000274025</td>\n",
       "      <td>225180.0</td>\n",
       "      <td>90.0</td>\n",
       "      <td>0.0</td>\n",
       "      <td>2860000.0</td>\n",
       "      <td>0</td>\n",
       "      <td>6</td>\n",
       "      <td>1</td>\n",
       "      <td>1</td>\n",
       "      <td>2023</td>\n",
       "      <td>29</td>\n",
       "      <td>29</td>\n",
       "    </tr>\n",
       "    <tr>\n",
       "      <th>1</th>\n",
       "      <td>2023-01-30 00:00:00.000000</td>\n",
       "      <td>1</td>\n",
       "      <td>0</td>\n",
       "      <td>3</td>\n",
       "      <td>Maine</td>\n",
       "      <td>Citibank</td>\n",
       "      <td>TBH000274025</td>\n",
       "      <td>262440.0</td>\n",
       "      <td>117.0</td>\n",
       "      <td>0.0</td>\n",
       "      <td>2860000.0</td>\n",
       "      <td>0</td>\n",
       "      <td>0</td>\n",
       "      <td>1</td>\n",
       "      <td>1</td>\n",
       "      <td>2023</td>\n",
       "      <td>30</td>\n",
       "      <td>30</td>\n",
       "    </tr>\n",
       "    <tr>\n",
       "      <th>2</th>\n",
       "      <td>2023-01-31 00:00:00.000000</td>\n",
       "      <td>1</td>\n",
       "      <td>0</td>\n",
       "      <td>3</td>\n",
       "      <td>Maine</td>\n",
       "      <td>Citibank</td>\n",
       "      <td>TBH000274025</td>\n",
       "      <td>561150.0</td>\n",
       "      <td>160.0</td>\n",
       "      <td>0.0</td>\n",
       "      <td>2860000.0</td>\n",
       "      <td>0</td>\n",
       "      <td>1</td>\n",
       "      <td>1</td>\n",
       "      <td>1</td>\n",
       "      <td>2023</td>\n",
       "      <td>31</td>\n",
       "      <td>31</td>\n",
       "    </tr>\n",
       "    <tr>\n",
       "      <th>3</th>\n",
       "      <td>2023-02-01 00:00:00.000000</td>\n",
       "      <td>1</td>\n",
       "      <td>0</td>\n",
       "      <td>3</td>\n",
       "      <td>Maine</td>\n",
       "      <td>Citibank</td>\n",
       "      <td>TBH000274025</td>\n",
       "      <td>437220.0</td>\n",
       "      <td>129.0</td>\n",
       "      <td>0.0</td>\n",
       "      <td>2860000.0</td>\n",
       "      <td>0</td>\n",
       "      <td>2</td>\n",
       "      <td>1</td>\n",
       "      <td>2</td>\n",
       "      <td>2023</td>\n",
       "      <td>32</td>\n",
       "      <td>1</td>\n",
       "    </tr>\n",
       "    <tr>\n",
       "      <th>4</th>\n",
       "      <td>2023-02-02 00:00:00.000000</td>\n",
       "      <td>1</td>\n",
       "      <td>0</td>\n",
       "      <td>3</td>\n",
       "      <td>Maine</td>\n",
       "      <td>Citibank</td>\n",
       "      <td>TBH000274025</td>\n",
       "      <td>360900.0</td>\n",
       "      <td>119.0</td>\n",
       "      <td>0.0</td>\n",
       "      <td>2860000.0</td>\n",
       "      <td>0</td>\n",
       "      <td>3</td>\n",
       "      <td>1</td>\n",
       "      <td>2</td>\n",
       "      <td>2023</td>\n",
       "      <td>33</td>\n",
       "      <td>2</td>\n",
       "    </tr>\n",
       "  </tbody>\n",
       "</table>\n",
       "</div>"
      ],
      "text/plain": [
       "                         DATE  WEEKDAY_FLAG  HOLIDAY_FLAG  BANK_ID  STATE  \\\n",
       "0  2023-01-29 00:00:00.000000             1             0        3  Maine   \n",
       "1  2023-01-30 00:00:00.000000             1             0        3  Maine   \n",
       "2  2023-01-31 00:00:00.000000             1             0        3  Maine   \n",
       "3  2023-02-01 00:00:00.000000             1             0        3  Maine   \n",
       "4  2023-02-02 00:00:00.000000             1             0        3  Maine   \n",
       "\n",
       "  BANK_NAME        ATM_ID  DISPENSED_AMOUNT  TOTAL_TRANSACTION_COUNT  \\\n",
       "0  Citibank  TBH000274025          225180.0                     90.0   \n",
       "1  Citibank  TBH000274025          262440.0                    117.0   \n",
       "2  Citibank  TBH000274025          561150.0                    160.0   \n",
       "3  Citibank  TBH000274025          437220.0                    129.0   \n",
       "4  Citibank  TBH000274025          360900.0                    119.0   \n",
       "\n",
       "   DOWNTIME_IN_MINS  ATM_MAX_CAPACITY  HOUR  DAYOFWEEK  QUARTER  MONTH  YEAR  \\\n",
       "0               0.0         2860000.0     0          6        1      1  2023   \n",
       "1               0.0         2860000.0     0          0        1      1  2023   \n",
       "2               0.0         2860000.0     0          1        1      1  2023   \n",
       "3               0.0         2860000.0     0          2        1      2  2023   \n",
       "4               0.0         2860000.0     0          3        1      2  2023   \n",
       "\n",
       "   DAYOFYEAR  DAYOFMONTH  \n",
       "0         29          29  \n",
       "1         30          30  \n",
       "2         31          31  \n",
       "3         32           1  \n",
       "4         33           2  "
      ]
     },
     "execution_count": 15,
     "metadata": {},
     "output_type": "execute_result"
    }
   ],
   "source": [
    "df.head()"
   ]
  },
  {
   "cell_type": "code",
   "execution_count": 16,
   "id": "af29f148",
   "metadata": {},
   "outputs": [
    {
     "name": "stdout",
     "output_type": "stream",
     "text": [
      "<class 'pandas.core.frame.DataFrame'>\n",
      "RangeIndex: 312417 entries, 0 to 312416\n",
      "Data columns (total 18 columns):\n",
      " #   Column                   Non-Null Count   Dtype  \n",
      "---  ------                   --------------   -----  \n",
      " 0   DATE                     312417 non-null  object \n",
      " 1   WEEKDAY_FLAG             312417 non-null  int64  \n",
      " 2   HOLIDAY_FLAG             312417 non-null  int64  \n",
      " 3   BANK_ID                  312417 non-null  int8   \n",
      " 4   STATE                    312417 non-null  object \n",
      " 5   BANK_NAME                312417 non-null  object \n",
      " 6   ATM_ID                   312417 non-null  object \n",
      " 7   DISPENSED_AMOUNT         312417 non-null  float64\n",
      " 8   TOTAL_TRANSACTION_COUNT  312417 non-null  float64\n",
      " 9   DOWNTIME_IN_MINS         312417 non-null  float64\n",
      " 10  ATM_MAX_CAPACITY         312417 non-null  float64\n",
      " 11  HOUR                     312417 non-null  int32  \n",
      " 12  DAYOFWEEK                312417 non-null  int32  \n",
      " 13  QUARTER                  312417 non-null  int32  \n",
      " 14  MONTH                    312417 non-null  int32  \n",
      " 15  YEAR                     312417 non-null  int32  \n",
      " 16  DAYOFYEAR                312417 non-null  int32  \n",
      " 17  DAYOFMONTH               312417 non-null  int32  \n",
      "dtypes: float64(4), int32(7), int64(2), int8(1), object(4)\n",
      "memory usage: 32.5+ MB\n"
     ]
    }
   ],
   "source": [
    "df.info()"
   ]
  },
  {
   "cell_type": "code",
   "execution_count": 17,
   "id": "b2f64a54",
   "metadata": {},
   "outputs": [],
   "source": [
    "# how to understand word labels. \n",
    "label_encoder = preprocessing.LabelEncoder() \n",
    "  \n",
    "# Encode labels in column 'species'. \n",
    "df['STATE']= label_encoder.fit_transform(df['STATE'])"
   ]
  },
  {
   "cell_type": "code",
   "execution_count": 18,
   "id": "bdc55fa5",
   "metadata": {},
   "outputs": [],
   "source": [
    "# how to understand word labels. \n",
    "atm_encoder = preprocessing.LabelEncoder() \n",
    "  \n",
    "# Encode labels in column 'species'. \n",
    "df['ATM_ID']= atm_encoder.fit_transform(df['ATM_ID'])"
   ]
  },
  {
   "cell_type": "code",
   "execution_count": 19,
   "id": "65be5819",
   "metadata": {},
   "outputs": [],
   "source": [
    "df.drop(['DATE','BANK_NAME','TOTAL_TRANSACTION_COUNT','DOWNTIME_IN_MINS','ATM_MAX_CAPACITY'], axis=1,inplace=True)"
   ]
  },
  {
   "cell_type": "code",
   "execution_count": 20,
   "id": "c60a3cd9",
   "metadata": {
    "scrolled": true
   },
   "outputs": [
    {
     "data": {
      "text/plain": [
       "Index(['WEEKDAY_FLAG', 'HOLIDAY_FLAG', 'BANK_ID', 'STATE', 'ATM_ID',\n",
       "       'DISPENSED_AMOUNT', 'HOUR', 'DAYOFWEEK', 'QUARTER', 'MONTH', 'YEAR',\n",
       "       'DAYOFYEAR', 'DAYOFMONTH'],\n",
       "      dtype='object')"
      ]
     },
     "execution_count": 20,
     "metadata": {},
     "output_type": "execute_result"
    }
   ],
   "source": [
    "df.columns"
   ]
  },
  {
   "cell_type": "code",
   "execution_count": 21,
   "id": "3d4c4fd3",
   "metadata": {},
   "outputs": [],
   "source": [
    "features = ['WEEKDAY_FLAG', 'HOLIDAY_FLAG', 'BANK_ID', 'STATE', 'ATM_ID',\n",
    "    'HOUR', 'DAYOFWEEK', 'QUARTER', 'MONTH', 'YEAR',\n",
    "       'DAYOFYEAR', 'DAYOFMONTH']"
   ]
  },
  {
   "cell_type": "code",
   "execution_count": 22,
   "id": "9eb38aef",
   "metadata": {},
   "outputs": [
    {
     "name": "stdout",
     "output_type": "stream",
     "text": [
      "(312417, 13)\n",
      "(257564, 13)\n"
     ]
    }
   ],
   "source": [
    "print (df.shape)\n",
    "df = df[df['DISPENSED_AMOUNT'] > 0]\n",
    "print (df.shape)"
   ]
  },
  {
   "cell_type": "code",
   "execution_count": 23,
   "id": "5282eef1",
   "metadata": {},
   "outputs": [],
   "source": [
    "#To be used for Experimentation\n",
    "#df.to_csv('/data/Output/transaction_processed.csv',index=False)"
   ]
  },
  {
   "cell_type": "code",
   "execution_count": 24,
   "id": "d3667290",
   "metadata": {},
   "outputs": [],
   "source": [
    "X = df[features]\n",
    "y = df['DISPENSED_AMOUNT']"
   ]
  },
  {
   "cell_type": "code",
   "execution_count": 25,
   "id": "af1229a2",
   "metadata": {},
   "outputs": [
    {
     "data": {
      "text/html": [
       "<div>\n",
       "<style scoped>\n",
       "    .dataframe tbody tr th:only-of-type {\n",
       "        vertical-align: middle;\n",
       "    }\n",
       "\n",
       "    .dataframe tbody tr th {\n",
       "        vertical-align: top;\n",
       "    }\n",
       "\n",
       "    .dataframe thead th {\n",
       "        text-align: right;\n",
       "    }\n",
       "</style>\n",
       "<table border=\"1\" class=\"dataframe\">\n",
       "  <thead>\n",
       "    <tr style=\"text-align: right;\">\n",
       "      <th></th>\n",
       "      <th>WEEKDAY_FLAG</th>\n",
       "      <th>HOLIDAY_FLAG</th>\n",
       "      <th>BANK_ID</th>\n",
       "      <th>STATE</th>\n",
       "      <th>ATM_ID</th>\n",
       "      <th>HOUR</th>\n",
       "      <th>DAYOFWEEK</th>\n",
       "      <th>QUARTER</th>\n",
       "      <th>MONTH</th>\n",
       "      <th>YEAR</th>\n",
       "      <th>DAYOFYEAR</th>\n",
       "      <th>DAYOFMONTH</th>\n",
       "    </tr>\n",
       "  </thead>\n",
       "  <tbody>\n",
       "    <tr>\n",
       "      <th>0</th>\n",
       "      <td>1</td>\n",
       "      <td>0</td>\n",
       "      <td>3</td>\n",
       "      <td>18</td>\n",
       "      <td>299</td>\n",
       "      <td>0</td>\n",
       "      <td>6</td>\n",
       "      <td>1</td>\n",
       "      <td>1</td>\n",
       "      <td>2023</td>\n",
       "      <td>29</td>\n",
       "      <td>29</td>\n",
       "    </tr>\n",
       "    <tr>\n",
       "      <th>1</th>\n",
       "      <td>1</td>\n",
       "      <td>0</td>\n",
       "      <td>3</td>\n",
       "      <td>18</td>\n",
       "      <td>299</td>\n",
       "      <td>0</td>\n",
       "      <td>0</td>\n",
       "      <td>1</td>\n",
       "      <td>1</td>\n",
       "      <td>2023</td>\n",
       "      <td>30</td>\n",
       "      <td>30</td>\n",
       "    </tr>\n",
       "    <tr>\n",
       "      <th>2</th>\n",
       "      <td>1</td>\n",
       "      <td>0</td>\n",
       "      <td>3</td>\n",
       "      <td>18</td>\n",
       "      <td>299</td>\n",
       "      <td>0</td>\n",
       "      <td>1</td>\n",
       "      <td>1</td>\n",
       "      <td>1</td>\n",
       "      <td>2023</td>\n",
       "      <td>31</td>\n",
       "      <td>31</td>\n",
       "    </tr>\n",
       "    <tr>\n",
       "      <th>3</th>\n",
       "      <td>1</td>\n",
       "      <td>0</td>\n",
       "      <td>3</td>\n",
       "      <td>18</td>\n",
       "      <td>299</td>\n",
       "      <td>0</td>\n",
       "      <td>2</td>\n",
       "      <td>1</td>\n",
       "      <td>2</td>\n",
       "      <td>2023</td>\n",
       "      <td>32</td>\n",
       "      <td>1</td>\n",
       "    </tr>\n",
       "    <tr>\n",
       "      <th>4</th>\n",
       "      <td>1</td>\n",
       "      <td>0</td>\n",
       "      <td>3</td>\n",
       "      <td>18</td>\n",
       "      <td>299</td>\n",
       "      <td>0</td>\n",
       "      <td>3</td>\n",
       "      <td>1</td>\n",
       "      <td>2</td>\n",
       "      <td>2023</td>\n",
       "      <td>33</td>\n",
       "      <td>2</td>\n",
       "    </tr>\n",
       "  </tbody>\n",
       "</table>\n",
       "</div>"
      ],
      "text/plain": [
       "   WEEKDAY_FLAG  HOLIDAY_FLAG  BANK_ID  STATE  ATM_ID  HOUR  DAYOFWEEK  \\\n",
       "0             1             0        3     18     299     0          6   \n",
       "1             1             0        3     18     299     0          0   \n",
       "2             1             0        3     18     299     0          1   \n",
       "3             1             0        3     18     299     0          2   \n",
       "4             1             0        3     18     299     0          3   \n",
       "\n",
       "   QUARTER  MONTH  YEAR  DAYOFYEAR  DAYOFMONTH  \n",
       "0        1      1  2023         29          29  \n",
       "1        1      1  2023         30          30  \n",
       "2        1      1  2023         31          31  \n",
       "3        1      2  2023         32           1  \n",
       "4        1      2  2023         33           2  "
      ]
     },
     "execution_count": 25,
     "metadata": {},
     "output_type": "execute_result"
    }
   ],
   "source": [
    "X.head()"
   ]
  },
  {
   "cell_type": "code",
   "execution_count": 26,
   "id": "7b95143a",
   "metadata": {},
   "outputs": [
    {
     "data": {
      "text/plain": [
       "0         225180.0\n",
       "1         262440.0\n",
       "2         561150.0\n",
       "3         437220.0\n",
       "4         360900.0\n",
       "            ...   \n",
       "312412    195300.0\n",
       "312413    245160.0\n",
       "312414    222480.0\n",
       "312415    198360.0\n",
       "312416    314190.0\n",
       "Name: DISPENSED_AMOUNT, Length: 257564, dtype: float64"
      ]
     },
     "execution_count": 26,
     "metadata": {},
     "output_type": "execute_result"
    }
   ],
   "source": [
    "y"
   ]
  },
  {
   "cell_type": "code",
   "execution_count": 27,
   "id": "bdb41821",
   "metadata": {},
   "outputs": [],
   "source": [
    "# Split the data into training and test sets. (0.75, 0.25) split.\n",
    "X_train, X_test, y_train, y_test = train_test_split(X, y, train_size=0.75, test_size=0.25)"
   ]
  },
  {
   "cell_type": "code",
   "execution_count": 28,
   "id": "8e7b13ac",
   "metadata": {},
   "outputs": [
    {
     "name": "stdout",
     "output_type": "stream",
     "text": [
      "Total # of sample in whole dataset: 257564\n",
      "**************************************************\n",
      "Total # of sample in train dataset: 193173\n",
      "Shape of X_train: (193173, 12)\n",
      "**************************************************\n",
      "Total # of sample in test dataset: 64391\n",
      "Shape of X_test: (64391, 12)\n"
     ]
    }
   ],
   "source": [
    "print(f'Total # of sample in whole dataset: {len(X)}')\n",
    "print(\"*****\"*10)\n",
    "print(f'Total # of sample in train dataset: {len(X_train)}')\n",
    "print(f'Shape of X_train: {X_train.shape}')\n",
    "print(\"*****\"*10)\n",
    "print(f'Total # of sample in test dataset: {len(X_test)}')\n",
    "print(f'Shape of X_test: {X_test.shape}')"
   ]
  },
  {
   "cell_type": "markdown",
   "id": "aa2cff77",
   "metadata": {},
   "source": [
    "# Decision Tree"
   ]
  },
  {
   "cell_type": "code",
   "execution_count": 29,
   "id": "3c618929",
   "metadata": {},
   "outputs": [],
   "source": [
    "tree = DecisionTreeRegressor(max_depth=4,max_features=4)"
   ]
  },
  {
   "cell_type": "code",
   "execution_count": 30,
   "id": "78f800ab",
   "metadata": {},
   "outputs": [
    {
     "data": {
      "text/html": [
       "<style>#sk-container-id-1 {color: black;}#sk-container-id-1 pre{padding: 0;}#sk-container-id-1 div.sk-toggleable {background-color: white;}#sk-container-id-1 label.sk-toggleable__label {cursor: pointer;display: block;width: 100%;margin-bottom: 0;padding: 0.3em;box-sizing: border-box;text-align: center;}#sk-container-id-1 label.sk-toggleable__label-arrow:before {content: \"▸\";float: left;margin-right: 0.25em;color: #696969;}#sk-container-id-1 label.sk-toggleable__label-arrow:hover:before {color: black;}#sk-container-id-1 div.sk-estimator:hover label.sk-toggleable__label-arrow:before {color: black;}#sk-container-id-1 div.sk-toggleable__content {max-height: 0;max-width: 0;overflow: hidden;text-align: left;background-color: #f0f8ff;}#sk-container-id-1 div.sk-toggleable__content pre {margin: 0.2em;color: black;border-radius: 0.25em;background-color: #f0f8ff;}#sk-container-id-1 input.sk-toggleable__control:checked~div.sk-toggleable__content {max-height: 200px;max-width: 100%;overflow: auto;}#sk-container-id-1 input.sk-toggleable__control:checked~label.sk-toggleable__label-arrow:before {content: \"▾\";}#sk-container-id-1 div.sk-estimator input.sk-toggleable__control:checked~label.sk-toggleable__label {background-color: #d4ebff;}#sk-container-id-1 div.sk-label input.sk-toggleable__control:checked~label.sk-toggleable__label {background-color: #d4ebff;}#sk-container-id-1 input.sk-hidden--visually {border: 0;clip: rect(1px 1px 1px 1px);clip: rect(1px, 1px, 1px, 1px);height: 1px;margin: -1px;overflow: hidden;padding: 0;position: absolute;width: 1px;}#sk-container-id-1 div.sk-estimator {font-family: monospace;background-color: #f0f8ff;border: 1px dotted black;border-radius: 0.25em;box-sizing: border-box;margin-bottom: 0.5em;}#sk-container-id-1 div.sk-estimator:hover {background-color: #d4ebff;}#sk-container-id-1 div.sk-parallel-item::after {content: \"\";width: 100%;border-bottom: 1px solid gray;flex-grow: 1;}#sk-container-id-1 div.sk-label:hover label.sk-toggleable__label {background-color: #d4ebff;}#sk-container-id-1 div.sk-serial::before {content: \"\";position: absolute;border-left: 1px solid gray;box-sizing: border-box;top: 0;bottom: 0;left: 50%;z-index: 0;}#sk-container-id-1 div.sk-serial {display: flex;flex-direction: column;align-items: center;background-color: white;padding-right: 0.2em;padding-left: 0.2em;position: relative;}#sk-container-id-1 div.sk-item {position: relative;z-index: 1;}#sk-container-id-1 div.sk-parallel {display: flex;align-items: stretch;justify-content: center;background-color: white;position: relative;}#sk-container-id-1 div.sk-item::before, #sk-container-id-1 div.sk-parallel-item::before {content: \"\";position: absolute;border-left: 1px solid gray;box-sizing: border-box;top: 0;bottom: 0;left: 50%;z-index: -1;}#sk-container-id-1 div.sk-parallel-item {display: flex;flex-direction: column;z-index: 1;position: relative;background-color: white;}#sk-container-id-1 div.sk-parallel-item:first-child::after {align-self: flex-end;width: 50%;}#sk-container-id-1 div.sk-parallel-item:last-child::after {align-self: flex-start;width: 50%;}#sk-container-id-1 div.sk-parallel-item:only-child::after {width: 0;}#sk-container-id-1 div.sk-dashed-wrapped {border: 1px dashed gray;margin: 0 0.4em 0.5em 0.4em;box-sizing: border-box;padding-bottom: 0.4em;background-color: white;}#sk-container-id-1 div.sk-label label {font-family: monospace;font-weight: bold;display: inline-block;line-height: 1.2em;}#sk-container-id-1 div.sk-label-container {text-align: center;}#sk-container-id-1 div.sk-container {/* jupyter's `normalize.less` sets `[hidden] { display: none; }` but bootstrap.min.css set `[hidden] { display: none !important; }` so we also need the `!important` here to be able to override the default hidden behavior on the sphinx rendered scikit-learn.org. See: https://github.com/scikit-learn/scikit-learn/issues/21755 */display: inline-block !important;position: relative;}#sk-container-id-1 div.sk-text-repr-fallback {display: none;}</style><div id=\"sk-container-id-1\" class=\"sk-top-container\"><div class=\"sk-text-repr-fallback\"><pre>DecisionTreeRegressor(max_depth=4, max_features=4)</pre><b>In a Jupyter environment, please rerun this cell to show the HTML representation or trust the notebook. <br />On GitHub, the HTML representation is unable to render, please try loading this page with nbviewer.org.</b></div><div class=\"sk-container\" hidden><div class=\"sk-item\"><div class=\"sk-estimator sk-toggleable\"><input class=\"sk-toggleable__control sk-hidden--visually\" id=\"sk-estimator-id-1\" type=\"checkbox\" checked><label for=\"sk-estimator-id-1\" class=\"sk-toggleable__label sk-toggleable__label-arrow\">DecisionTreeRegressor</label><div class=\"sk-toggleable__content\"><pre>DecisionTreeRegressor(max_depth=4, max_features=4)</pre></div></div></div></div></div>"
      ],
      "text/plain": [
       "DecisionTreeRegressor(max_depth=4, max_features=4)"
      ]
     },
     "execution_count": 30,
     "metadata": {},
     "output_type": "execute_result"
    }
   ],
   "source": [
    "tree.fit(X_train, y_train)"
   ]
  },
  {
   "cell_type": "code",
   "execution_count": 31,
   "id": "88027da0",
   "metadata": {},
   "outputs": [],
   "source": [
    "predictions = tree.predict(X_test)"
   ]
  },
  {
   "cell_type": "code",
   "execution_count": 32,
   "id": "45b8dba0",
   "metadata": {
    "scrolled": true
   },
   "outputs": [
    {
     "name": "stdout",
     "output_type": "stream",
     "text": [
      "Mean Absolute Error: 193277.72660576506\n",
      "Mean Squared Error: 60136801657.95109\n",
      "Root Mean Squared Error: 245228.06050277175\n",
      "r2_score: 0.13345750728022598\n"
     ]
    }
   ],
   "source": [
    "print('Mean Absolute Error:', mean_absolute_error(y_test,predictions))\n",
    "print('Mean Squared Error:', mean_squared_error(y_test,predictions))\n",
    "print('Root Mean Squared Error:', np.sqrt(mean_squared_error(y_test,predictions)))\n",
    "print('r2_score:', r2_score(y_test,predictions))"
   ]
  },
  {
   "cell_type": "code",
   "execution_count": 33,
   "id": "92439759",
   "metadata": {
    "scrolled": true
   },
   "outputs": [
    {
     "data": {
      "text/plain": [
       "array([0.        , 0.        , 0.12827561, 0.03926546, 0.43079182,\n",
       "       0.        , 0.        , 0.07454589, 0.00949336, 0.        ,\n",
       "       0.010811  , 0.30681687])"
      ]
     },
     "execution_count": 33,
     "metadata": {},
     "output_type": "execute_result"
    }
   ],
   "source": [
    "tree.feature_importances_"
   ]
  },
  {
   "cell_type": "code",
   "execution_count": 34,
   "id": "1f1900db",
   "metadata": {
    "scrolled": true
   },
   "outputs": [
    {
     "data": {
      "text/plain": [
       "ATM_ID          0.430792\n",
       "DAYOFMONTH      0.306817\n",
       "BANK_ID         0.128276\n",
       "QUARTER         0.074546\n",
       "STATE           0.039265\n",
       "DAYOFYEAR       0.010811\n",
       "MONTH           0.009493\n",
       "HOLIDAY_FLAG    0.000000\n",
       "WEEKDAY_FLAG    0.000000\n",
       "HOUR            0.000000\n",
       "DAYOFWEEK       0.000000\n",
       "YEAR            0.000000\n",
       "dtype: float64"
      ]
     },
     "execution_count": 34,
     "metadata": {},
     "output_type": "execute_result"
    }
   ],
   "source": [
    "pd.Series(tree.feature_importances_,index=features).sort_values(ascending=False)"
   ]
  },
  {
   "cell_type": "code",
   "execution_count": 35,
   "id": "80eb9149",
   "metadata": {},
   "outputs": [],
   "source": [
    "param_grid = [{\"max_depth\":[3,4,5, None], \"max_features\":[3,4,5,6,7]}]"
   ]
  },
  {
   "cell_type": "code",
   "execution_count": 36,
   "id": "9d449123",
   "metadata": {},
   "outputs": [],
   "source": [
    "gs = GridSearchCV(estimator=DecisionTreeRegressor(random_state=123),param_grid = param_grid,cv=10)"
   ]
  },
  {
   "cell_type": "code",
   "execution_count": 37,
   "id": "d0690cf3",
   "metadata": {},
   "outputs": [
    {
     "data": {
      "text/html": [
       "<style>#sk-container-id-2 {color: black;}#sk-container-id-2 pre{padding: 0;}#sk-container-id-2 div.sk-toggleable {background-color: white;}#sk-container-id-2 label.sk-toggleable__label {cursor: pointer;display: block;width: 100%;margin-bottom: 0;padding: 0.3em;box-sizing: border-box;text-align: center;}#sk-container-id-2 label.sk-toggleable__label-arrow:before {content: \"▸\";float: left;margin-right: 0.25em;color: #696969;}#sk-container-id-2 label.sk-toggleable__label-arrow:hover:before {color: black;}#sk-container-id-2 div.sk-estimator:hover label.sk-toggleable__label-arrow:before {color: black;}#sk-container-id-2 div.sk-toggleable__content {max-height: 0;max-width: 0;overflow: hidden;text-align: left;background-color: #f0f8ff;}#sk-container-id-2 div.sk-toggleable__content pre {margin: 0.2em;color: black;border-radius: 0.25em;background-color: #f0f8ff;}#sk-container-id-2 input.sk-toggleable__control:checked~div.sk-toggleable__content {max-height: 200px;max-width: 100%;overflow: auto;}#sk-container-id-2 input.sk-toggleable__control:checked~label.sk-toggleable__label-arrow:before {content: \"▾\";}#sk-container-id-2 div.sk-estimator input.sk-toggleable__control:checked~label.sk-toggleable__label {background-color: #d4ebff;}#sk-container-id-2 div.sk-label input.sk-toggleable__control:checked~label.sk-toggleable__label {background-color: #d4ebff;}#sk-container-id-2 input.sk-hidden--visually {border: 0;clip: rect(1px 1px 1px 1px);clip: rect(1px, 1px, 1px, 1px);height: 1px;margin: -1px;overflow: hidden;padding: 0;position: absolute;width: 1px;}#sk-container-id-2 div.sk-estimator {font-family: monospace;background-color: #f0f8ff;border: 1px dotted black;border-radius: 0.25em;box-sizing: border-box;margin-bottom: 0.5em;}#sk-container-id-2 div.sk-estimator:hover {background-color: #d4ebff;}#sk-container-id-2 div.sk-parallel-item::after {content: \"\";width: 100%;border-bottom: 1px solid gray;flex-grow: 1;}#sk-container-id-2 div.sk-label:hover label.sk-toggleable__label {background-color: #d4ebff;}#sk-container-id-2 div.sk-serial::before {content: \"\";position: absolute;border-left: 1px solid gray;box-sizing: border-box;top: 0;bottom: 0;left: 50%;z-index: 0;}#sk-container-id-2 div.sk-serial {display: flex;flex-direction: column;align-items: center;background-color: white;padding-right: 0.2em;padding-left: 0.2em;position: relative;}#sk-container-id-2 div.sk-item {position: relative;z-index: 1;}#sk-container-id-2 div.sk-parallel {display: flex;align-items: stretch;justify-content: center;background-color: white;position: relative;}#sk-container-id-2 div.sk-item::before, #sk-container-id-2 div.sk-parallel-item::before {content: \"\";position: absolute;border-left: 1px solid gray;box-sizing: border-box;top: 0;bottom: 0;left: 50%;z-index: -1;}#sk-container-id-2 div.sk-parallel-item {display: flex;flex-direction: column;z-index: 1;position: relative;background-color: white;}#sk-container-id-2 div.sk-parallel-item:first-child::after {align-self: flex-end;width: 50%;}#sk-container-id-2 div.sk-parallel-item:last-child::after {align-self: flex-start;width: 50%;}#sk-container-id-2 div.sk-parallel-item:only-child::after {width: 0;}#sk-container-id-2 div.sk-dashed-wrapped {border: 1px dashed gray;margin: 0 0.4em 0.5em 0.4em;box-sizing: border-box;padding-bottom: 0.4em;background-color: white;}#sk-container-id-2 div.sk-label label {font-family: monospace;font-weight: bold;display: inline-block;line-height: 1.2em;}#sk-container-id-2 div.sk-label-container {text-align: center;}#sk-container-id-2 div.sk-container {/* jupyter's `normalize.less` sets `[hidden] { display: none; }` but bootstrap.min.css set `[hidden] { display: none !important; }` so we also need the `!important` here to be able to override the default hidden behavior on the sphinx rendered scikit-learn.org. See: https://github.com/scikit-learn/scikit-learn/issues/21755 */display: inline-block !important;position: relative;}#sk-container-id-2 div.sk-text-repr-fallback {display: none;}</style><div id=\"sk-container-id-2\" class=\"sk-top-container\"><div class=\"sk-text-repr-fallback\"><pre>GridSearchCV(cv=10, estimator=DecisionTreeRegressor(random_state=123),\n",
       "             param_grid=[{&#x27;max_depth&#x27;: [3, 4, 5, None],\n",
       "                          &#x27;max_features&#x27;: [3, 4, 5, 6, 7]}])</pre><b>In a Jupyter environment, please rerun this cell to show the HTML representation or trust the notebook. <br />On GitHub, the HTML representation is unable to render, please try loading this page with nbviewer.org.</b></div><div class=\"sk-container\" hidden><div class=\"sk-item sk-dashed-wrapped\"><div class=\"sk-label-container\"><div class=\"sk-label sk-toggleable\"><input class=\"sk-toggleable__control sk-hidden--visually\" id=\"sk-estimator-id-2\" type=\"checkbox\" ><label for=\"sk-estimator-id-2\" class=\"sk-toggleable__label sk-toggleable__label-arrow\">GridSearchCV</label><div class=\"sk-toggleable__content\"><pre>GridSearchCV(cv=10, estimator=DecisionTreeRegressor(random_state=123),\n",
       "             param_grid=[{&#x27;max_depth&#x27;: [3, 4, 5, None],\n",
       "                          &#x27;max_features&#x27;: [3, 4, 5, 6, 7]}])</pre></div></div></div><div class=\"sk-parallel\"><div class=\"sk-parallel-item\"><div class=\"sk-item\"><div class=\"sk-label-container\"><div class=\"sk-label sk-toggleable\"><input class=\"sk-toggleable__control sk-hidden--visually\" id=\"sk-estimator-id-3\" type=\"checkbox\" ><label for=\"sk-estimator-id-3\" class=\"sk-toggleable__label sk-toggleable__label-arrow\">estimator: DecisionTreeRegressor</label><div class=\"sk-toggleable__content\"><pre>DecisionTreeRegressor(random_state=123)</pre></div></div></div><div class=\"sk-serial\"><div class=\"sk-item\"><div class=\"sk-estimator sk-toggleable\"><input class=\"sk-toggleable__control sk-hidden--visually\" id=\"sk-estimator-id-4\" type=\"checkbox\" ><label for=\"sk-estimator-id-4\" class=\"sk-toggleable__label sk-toggleable__label-arrow\">DecisionTreeRegressor</label><div class=\"sk-toggleable__content\"><pre>DecisionTreeRegressor(random_state=123)</pre></div></div></div></div></div></div></div></div></div></div>"
      ],
      "text/plain": [
       "GridSearchCV(cv=10, estimator=DecisionTreeRegressor(random_state=123),\n",
       "             param_grid=[{'max_depth': [3, 4, 5, None],\n",
       "                          'max_features': [3, 4, 5, 6, 7]}])"
      ]
     },
     "execution_count": 37,
     "metadata": {},
     "output_type": "execute_result"
    }
   ],
   "source": [
    "gs.fit(X_train, y_train)"
   ]
  },
  {
   "cell_type": "code",
   "execution_count": 38,
   "id": "4e9021bf",
   "metadata": {},
   "outputs": [
    {
     "data": {
      "text/plain": [
       "[{'max_depth': 3, 'max_features': 3},\n",
       " {'max_depth': 3, 'max_features': 4},\n",
       " {'max_depth': 3, 'max_features': 5},\n",
       " {'max_depth': 3, 'max_features': 6},\n",
       " {'max_depth': 3, 'max_features': 7},\n",
       " {'max_depth': 4, 'max_features': 3},\n",
       " {'max_depth': 4, 'max_features': 4},\n",
       " {'max_depth': 4, 'max_features': 5},\n",
       " {'max_depth': 4, 'max_features': 6},\n",
       " {'max_depth': 4, 'max_features': 7},\n",
       " {'max_depth': 5, 'max_features': 3},\n",
       " {'max_depth': 5, 'max_features': 4},\n",
       " {'max_depth': 5, 'max_features': 5},\n",
       " {'max_depth': 5, 'max_features': 6},\n",
       " {'max_depth': 5, 'max_features': 7},\n",
       " {'max_depth': None, 'max_features': 3},\n",
       " {'max_depth': None, 'max_features': 4},\n",
       " {'max_depth': None, 'max_features': 5},\n",
       " {'max_depth': None, 'max_features': 6},\n",
       " {'max_depth': None, 'max_features': 7}]"
      ]
     },
     "execution_count": 38,
     "metadata": {},
     "output_type": "execute_result"
    }
   ],
   "source": [
    "gs.cv_results_['params']"
   ]
  },
  {
   "cell_type": "code",
   "execution_count": 39,
   "id": "9ff5c785",
   "metadata": {},
   "outputs": [
    {
     "data": {
      "text/plain": [
       "array([18, 19, 15, 10, 20, 14, 17, 16,  7, 11, 13,  8, 12,  6,  9,  5,  4,\n",
       "        3,  1,  2], dtype=int32)"
      ]
     },
     "execution_count": 39,
     "metadata": {},
     "output_type": "execute_result"
    }
   ],
   "source": [
    "gs.cv_results_['rank_test_score']"
   ]
  },
  {
   "cell_type": "code",
   "execution_count": 40,
   "id": "dde1a5a5",
   "metadata": {},
   "outputs": [
    {
     "data": {
      "text/html": [
       "<style>#sk-container-id-3 {color: black;}#sk-container-id-3 pre{padding: 0;}#sk-container-id-3 div.sk-toggleable {background-color: white;}#sk-container-id-3 label.sk-toggleable__label {cursor: pointer;display: block;width: 100%;margin-bottom: 0;padding: 0.3em;box-sizing: border-box;text-align: center;}#sk-container-id-3 label.sk-toggleable__label-arrow:before {content: \"▸\";float: left;margin-right: 0.25em;color: #696969;}#sk-container-id-3 label.sk-toggleable__label-arrow:hover:before {color: black;}#sk-container-id-3 div.sk-estimator:hover label.sk-toggleable__label-arrow:before {color: black;}#sk-container-id-3 div.sk-toggleable__content {max-height: 0;max-width: 0;overflow: hidden;text-align: left;background-color: #f0f8ff;}#sk-container-id-3 div.sk-toggleable__content pre {margin: 0.2em;color: black;border-radius: 0.25em;background-color: #f0f8ff;}#sk-container-id-3 input.sk-toggleable__control:checked~div.sk-toggleable__content {max-height: 200px;max-width: 100%;overflow: auto;}#sk-container-id-3 input.sk-toggleable__control:checked~label.sk-toggleable__label-arrow:before {content: \"▾\";}#sk-container-id-3 div.sk-estimator input.sk-toggleable__control:checked~label.sk-toggleable__label {background-color: #d4ebff;}#sk-container-id-3 div.sk-label input.sk-toggleable__control:checked~label.sk-toggleable__label {background-color: #d4ebff;}#sk-container-id-3 input.sk-hidden--visually {border: 0;clip: rect(1px 1px 1px 1px);clip: rect(1px, 1px, 1px, 1px);height: 1px;margin: -1px;overflow: hidden;padding: 0;position: absolute;width: 1px;}#sk-container-id-3 div.sk-estimator {font-family: monospace;background-color: #f0f8ff;border: 1px dotted black;border-radius: 0.25em;box-sizing: border-box;margin-bottom: 0.5em;}#sk-container-id-3 div.sk-estimator:hover {background-color: #d4ebff;}#sk-container-id-3 div.sk-parallel-item::after {content: \"\";width: 100%;border-bottom: 1px solid gray;flex-grow: 1;}#sk-container-id-3 div.sk-label:hover label.sk-toggleable__label {background-color: #d4ebff;}#sk-container-id-3 div.sk-serial::before {content: \"\";position: absolute;border-left: 1px solid gray;box-sizing: border-box;top: 0;bottom: 0;left: 50%;z-index: 0;}#sk-container-id-3 div.sk-serial {display: flex;flex-direction: column;align-items: center;background-color: white;padding-right: 0.2em;padding-left: 0.2em;position: relative;}#sk-container-id-3 div.sk-item {position: relative;z-index: 1;}#sk-container-id-3 div.sk-parallel {display: flex;align-items: stretch;justify-content: center;background-color: white;position: relative;}#sk-container-id-3 div.sk-item::before, #sk-container-id-3 div.sk-parallel-item::before {content: \"\";position: absolute;border-left: 1px solid gray;box-sizing: border-box;top: 0;bottom: 0;left: 50%;z-index: -1;}#sk-container-id-3 div.sk-parallel-item {display: flex;flex-direction: column;z-index: 1;position: relative;background-color: white;}#sk-container-id-3 div.sk-parallel-item:first-child::after {align-self: flex-end;width: 50%;}#sk-container-id-3 div.sk-parallel-item:last-child::after {align-self: flex-start;width: 50%;}#sk-container-id-3 div.sk-parallel-item:only-child::after {width: 0;}#sk-container-id-3 div.sk-dashed-wrapped {border: 1px dashed gray;margin: 0 0.4em 0.5em 0.4em;box-sizing: border-box;padding-bottom: 0.4em;background-color: white;}#sk-container-id-3 div.sk-label label {font-family: monospace;font-weight: bold;display: inline-block;line-height: 1.2em;}#sk-container-id-3 div.sk-label-container {text-align: center;}#sk-container-id-3 div.sk-container {/* jupyter's `normalize.less` sets `[hidden] { display: none; }` but bootstrap.min.css set `[hidden] { display: none !important; }` so we also need the `!important` here to be able to override the default hidden behavior on the sphinx rendered scikit-learn.org. See: https://github.com/scikit-learn/scikit-learn/issues/21755 */display: inline-block !important;position: relative;}#sk-container-id-3 div.sk-text-repr-fallback {display: none;}</style><div id=\"sk-container-id-3\" class=\"sk-top-container\"><div class=\"sk-text-repr-fallback\"><pre>DecisionTreeRegressor(max_features=6, random_state=123)</pre><b>In a Jupyter environment, please rerun this cell to show the HTML representation or trust the notebook. <br />On GitHub, the HTML representation is unable to render, please try loading this page with nbviewer.org.</b></div><div class=\"sk-container\" hidden><div class=\"sk-item\"><div class=\"sk-estimator sk-toggleable\"><input class=\"sk-toggleable__control sk-hidden--visually\" id=\"sk-estimator-id-5\" type=\"checkbox\" checked><label for=\"sk-estimator-id-5\" class=\"sk-toggleable__label sk-toggleable__label-arrow\">DecisionTreeRegressor</label><div class=\"sk-toggleable__content\"><pre>DecisionTreeRegressor(max_features=6, random_state=123)</pre></div></div></div></div></div>"
      ],
      "text/plain": [
       "DecisionTreeRegressor(max_features=6, random_state=123)"
      ]
     },
     "execution_count": 40,
     "metadata": {},
     "output_type": "execute_result"
    }
   ],
   "source": [
    "gs.best_estimator_"
   ]
  },
  {
   "cell_type": "code",
   "execution_count": 44,
   "id": "9f8ae52d",
   "metadata": {},
   "outputs": [],
   "source": [
    "#Build Tree using Best parameters\n",
    "\n",
    "tree1 = DecisionTreeRegressor(max_features=7, random_state=123)\n",
    "tree1.fit(X_train, y_train)\n",
    "predictions = tree1.predict(X_test)\n",
    "y_pred = predictions"
   ]
  },
  {
   "cell_type": "code",
   "execution_count": 45,
   "id": "35ebbaec",
   "metadata": {},
   "outputs": [
    {
     "data": {
      "text/plain": [
       "Index(['WEEKDAY_FLAG', 'HOLIDAY_FLAG', 'BANK_ID', 'STATE', 'ATM_ID', 'HOUR',\n",
       "       'DAYOFWEEK', 'QUARTER', 'MONTH', 'YEAR', 'DAYOFYEAR', 'DAYOFMONTH'],\n",
       "      dtype='object')"
      ]
     },
     "execution_count": 45,
     "metadata": {},
     "output_type": "execute_result"
    }
   ],
   "source": [
    "X_train.columns"
   ]
  },
  {
   "cell_type": "code",
   "execution_count": 46,
   "id": "a6c88402",
   "metadata": {
    "scrolled": true
   },
   "outputs": [
    {
     "name": "stdout",
     "output_type": "stream",
     "text": [
      "Mean Absolute Error: 3077.3148421363235\n",
      "Mean Squared Error: 849635679.3930829\n",
      "Root Mean Squared Error: 29148.51075772282\n",
      "r2_score: 0.987757157028194\n"
     ]
    }
   ],
   "source": [
    "print('Mean Absolute Error:', mean_absolute_error(y_test,predictions))\n",
    "print('Mean Squared Error:', mean_squared_error(y_test,predictions))\n",
    "print('Root Mean Squared Error:', np.sqrt(mean_squared_error(y_test,predictions)))\n",
    "print('r2_score:', r2_score(y_test,predictions))"
   ]
  },
  {
   "cell_type": "code",
   "execution_count": 49,
   "id": "d62a995c-02aa-43f5-989a-684885ca8527",
   "metadata": {},
   "outputs": [],
   "source": [
    "y_train_df = pd.DataFrame(y_train)\n",
    "y_test_df = pd.DataFrame(y_test)\n",
    "y_pred_df = pd.DataFrame(y_pred, columns=['PREDICTION'])"
   ]
  },
  {
   "cell_type": "code",
   "execution_count": 51,
   "id": "7e9f91db-ae96-4808-87ab-9a9c437d7ad0",
   "metadata": {},
   "outputs": [
    {
     "data": {
      "text/plain": [
       "(pandas.core.frame.DataFrame,\n",
       " pandas.core.frame.DataFrame,\n",
       " pandas.core.frame.DataFrame,\n",
       " pandas.core.frame.DataFrame,\n",
       " pandas.core.frame.DataFrame)"
      ]
     },
     "execution_count": 51,
     "metadata": {},
     "output_type": "execute_result"
    }
   ],
   "source": [
    "type(X_train),type(X_test),type(y_train_df),type(y_test_df),type(y_pred_df)"
   ]
  },
  {
   "cell_type": "code",
   "execution_count": 52,
   "id": "51bd549a-9830-4250-b5a9-b3af45cda827",
   "metadata": {},
   "outputs": [
    {
     "name": "stderr",
     "output_type": "stream",
     "text": [
      "Got error object of type 'NoneType' has no len() when trying to read default values from function: <function explained_variance_score.<locals>.explained_variance_score_anon_sproc at 0x7f1921acfa60>. Proceeding without creating optional arguments\n"
     ]
    },
    {
     "name": "stdout",
     "output_type": "stream",
     "text": [
      "Calculating build time metrics\n",
      "\n",
      "Progress: ██████████████████                                                     25.0%\n"
     ]
    },
    {
     "name": "stderr",
     "output_type": "stream",
     "text": [
      "The version of package 'scikit-learn' in the local environment is 1.3.2, which does not fit the criteria for the requirement 'scikit-learn==1.3.*'. Your UDF might not work when the package version is different between the server and your local environment.\n"
     ]
    },
    {
     "name": "stdout",
     "output_type": "stream",
     "text": [
      "Calculating build time metrics\n",
      "\n",
      "Progress: ███████████████████████████████████                                    50.0%\n",
      "Calculating build time metrics\n",
      "\n",
      "Progress: ████████████████████████████████████████████████████                   75.0%\n",
      "Calculating build time metrics\n",
      "\n",
      "Progress: ██████████████████████████████████████████████████████████████████████ 100.0%\n"
     ]
    },
    {
     "data": {
      "text/plain": [
       "\"Model 'MODEL_887009E5_7B9A_4FDE_8EA6_AAED690C9D23_FDC_DTREE_DISPENSE_AMOUNT_REGRESSOR' registered successfully.\""
      ]
     },
     "execution_count": 52,
     "metadata": {},
     "output_type": "execute_result"
    }
   ],
   "source": [
    "## registering the model in Fosfor Insight Designer.\n",
    "register_model(\n",
    "    model_obj=tree1, \n",
    "    session=my_session,\n",
    "    x_train=X_train,\n",
    "    y_train=y_train_df,\n",
    "    x_test=X_test,\n",
    "    y_test=y_test_df,\n",
    "    y_pred=y_pred_df,\n",
    "    source=\"Notebook\",\n",
    "    dataset_name=\"ATM_TRANSACTION_MASTER_DATA\",\n",
    "    dataset_source=\"Snowflake\",\n",
    "    #dataset_source=\"InMemory\",\n",
    "    name=\"Dtree_Dispense_Amount_Regressor\",\n",
    "    description=\"ATM Dispense Amount DTree Regression\",\n",
    "    flavour=\"sklearn\",\n",
    "    model_type=\"regression\",\n",
    "    conda_dependencies=[\"scikit-learn==1.3.2\"]\n",
    ")"
   ]
  },
  {
   "cell_type": "markdown",
   "id": "c342aa36",
   "metadata": {},
   "source": [
    "# 2nd Version of Dtree model"
   ]
  },
  {
   "cell_type": "code",
   "execution_count": 53,
   "id": "4fdb3a66",
   "metadata": {},
   "outputs": [
    {
     "name": "stdout",
     "output_type": "stream",
     "text": [
      "Mean Absolute Error: 2012.7190135267351\n",
      "Mean Squared Error: 629459630.5989968\n",
      "Root Mean Squared Error: 25089.03407066515\n",
      "r2_score: 0.9909297883770377\n"
     ]
    }
   ],
   "source": [
    "tree2 = DecisionTreeRegressor(max_features=8, random_state=123)\n",
    "tree2.fit(X_train, y_train)\n",
    "predictions = tree2.predict(X_test)\n",
    "y_pred = predictions\n",
    "y_prediction = pd.Series(y_pred)\n",
    "\n",
    "\n",
    "print('Mean Absolute Error:', mean_absolute_error(y_test,predictions))\n",
    "print('Mean Squared Error:', mean_squared_error(y_test,predictions))\n",
    "print('Root Mean Squared Error:', np.sqrt(mean_squared_error(y_test,predictions)))\n",
    "print('r2_score:', r2_score(y_test,predictions))"
   ]
  },
  {
   "cell_type": "code",
   "execution_count": 54,
   "id": "18197905-b18a-4a98-b3b9-fa57cdabf5c0",
   "metadata": {},
   "outputs": [],
   "source": [
    "y_train_df = pd.DataFrame(y_train)\n",
    "y_test_df = pd.DataFrame(y_test)\n",
    "y_pred_df = pd.DataFrame(y_pred, columns=['PREDICTION'])"
   ]
  },
  {
   "cell_type": "code",
   "execution_count": 55,
   "id": "0996398c-1837-4420-902d-541e3284bef4",
   "metadata": {},
   "outputs": [
    {
     "data": {
      "text/plain": [
       "(pandas.core.frame.DataFrame,\n",
       " pandas.core.frame.DataFrame,\n",
       " pandas.core.frame.DataFrame,\n",
       " pandas.core.frame.DataFrame,\n",
       " pandas.core.frame.DataFrame)"
      ]
     },
     "execution_count": 55,
     "metadata": {},
     "output_type": "execute_result"
    }
   ],
   "source": [
    "type(X_train),type(X_test),type(y_train_df),type(y_test_df),type(y_pred_df)"
   ]
  },
  {
   "cell_type": "code",
   "execution_count": 56,
   "id": "c0eb59bb-8c21-4738-a637-0239c601cfa8",
   "metadata": {},
   "outputs": [
    {
     "name": "stderr",
     "output_type": "stream",
     "text": [
      "WARNING:snowflake.snowpark._internal.udf_utils:Got error object of type 'NoneType' has no len() when trying to read default values from function: <function explained_variance_score.<locals>.explained_variance_score_anon_sproc at 0x7f18d4abd550>. Proceeding without creating optional arguments\n"
     ]
    },
    {
     "name": "stdout",
     "output_type": "stream",
     "text": [
      "Calculating build time metrics\n",
      "\n",
      "Progress: ██████████████████                                                     25.0%\n"
     ]
    },
    {
     "name": "stderr",
     "output_type": "stream",
     "text": [
      "WARNING:snowflake.snowpark.session:The version of package 'scikit-learn' in the local environment is 1.3.2, which does not fit the criteria for the requirement 'scikit-learn==1.3.*'. Your UDF might not work when the package version is different between the server and your local environment.\n"
     ]
    },
    {
     "name": "stdout",
     "output_type": "stream",
     "text": [
      "Calculating build time metrics\n",
      "\n",
      "Progress: ███████████████████████████████████                                    50.0%\n",
      "Calculating build time metrics\n",
      "\n",
      "Progress: ████████████████████████████████████████████████████                   75.0%\n",
      "Calculating build time metrics\n",
      "\n",
      "Progress: ██████████████████████████████████████████████████████████████████████ 100.0%\n"
     ]
    },
    {
     "data": {
      "text/plain": [
       "\"Model 'MODEL_887009E5_7B9A_4FDE_8EA6_AAED690C9D23_FDC_DTREE_DISPENSE_AMOUNT_REGRESSOR' registered successfully.\""
      ]
     },
     "execution_count": 56,
     "metadata": {},
     "output_type": "execute_result"
    }
   ],
   "source": [
    "## registering the model in Fosfor Insight Designer.\n",
    "register_model(\n",
    "    model_obj=tree2, \n",
    "    session=my_session,\n",
    "    x_train=X_train,\n",
    "    y_train=y_train_df,\n",
    "    x_test=X_test,\n",
    "    y_test=y_test_df,\n",
    "    y_pred=y_pred_df,\n",
    "    source=\"Notebook\",\n",
    "    dataset_name=\"ATM_TRANSACTION_MASTER_DATA\",\n",
    "    dataset_source=\"Snowflake\",\n",
    "    #dataset_source=\"InMemory\",\n",
    "    name=\"Dtree_Dispense_Amount_Regressor\",\n",
    "    description=\"ATM Dispense Amount DTree Regression\",\n",
    "    flavour=\"sklearn\",\n",
    "    model_type=\"regression\",\n",
    "    conda_dependencies=[\"scikit-learn==1.3.2\"]\n",
    ")"
   ]
  },
  {
   "cell_type": "markdown",
   "id": "e9404522",
   "metadata": {},
   "source": [
    "# Use Snowflake Data for Model Prediction"
   ]
  },
  {
   "cell_type": "code",
   "execution_count": 54,
   "id": "cf903e12",
   "metadata": {},
   "outputs": [],
   "source": [
    "table_name = 'ATM_TRANSACTION_MASTER_DATA'\n",
    "\n",
    "sf_df = my_session.sql(\"select * from {}\".format(table_name))\n",
    "df = sf_df.to_pandas()"
   ]
  },
  {
   "cell_type": "code",
   "execution_count": 55,
   "id": "29ea9995",
   "metadata": {},
   "outputs": [],
   "source": [
    "df = df[df['DISPENSED_AMOUNT'] > 0]"
   ]
  },
  {
   "cell_type": "code",
   "execution_count": 56,
   "id": "265a9cc7",
   "metadata": {},
   "outputs": [
    {
     "data": {
      "text/plain": [
       "Index(['DATE', 'WEEKDAY_FLAG', 'HOLIDAY_FLAG', 'BANK_ID', 'STATE', 'BANK_NAME',\n",
       "       'ATM_ID', 'DISPENSED_AMOUNT', 'TOTAL_TRANSACTION_COUNT',\n",
       "       'DOWNTIME_IN_MINS', 'ATM_MAX_CAPACITY', 'MALE_POPULATION',\n",
       "       'FEMALE_POPULATION', 'TOTAL_POPULATION', 'NO_OF_VETERANS',\n",
       "       'FOREIGN_BORN', 'AVG_HOUSEHOLD_SIZE', 'LANDAREA_SQ_MILE',\n",
       "       'POPULATION_RATIO', 'POPULATION_DENSITY', 'MEDIAN_HOUSE_INCOME',\n",
       "       'LOCATION_TYPE', 'ATM_PLACEMENTS', 'ATM_ACCESSIBILITY',\n",
       "       'ATM_MAINTAINENANCE', 'ATM__REPLENISHMENT'],\n",
       "      dtype='object')"
      ]
     },
     "execution_count": 56,
     "metadata": {},
     "output_type": "execute_result"
    }
   ],
   "source": [
    "df.columns"
   ]
  },
  {
   "cell_type": "code",
   "execution_count": 57,
   "id": "142447a5",
   "metadata": {},
   "outputs": [],
   "source": [
    "df_train = df.sample(frac = 0.7)\n",
    "df_test = df.drop(df_train.index)"
   ]
  },
  {
   "cell_type": "code",
   "execution_count": 58,
   "id": "ada5f8e1",
   "metadata": {},
   "outputs": [
    {
     "data": {
      "text/plain": [
       "((180295, 26), (77269, 26))"
      ]
     },
     "execution_count": 58,
     "metadata": {},
     "output_type": "execute_result"
    }
   ],
   "source": [
    "df_train.shape, df_test.shape"
   ]
  },
  {
   "cell_type": "code",
   "execution_count": 59,
   "id": "25b02c9c",
   "metadata": {},
   "outputs": [],
   "source": [
    "def get_prediction(data):\n",
    "    df = data.copy()\n",
    "    to_drop = ['MALE_POPULATION','FEMALE_POPULATION','TOTAL_POPULATION','NO_OF_VETERANS','FOREIGN_BORN','AVG_HOUSEHOLD_SIZE','LANDAREA_SQ_MILE','POPULATION_RATIO','POPULATION_DENSITY','MEDIAN_HOUSE_INCOME','LOCATION_TYPE','ATM_PLACEMENTS','ATM_ACCESSIBILITY','ATM_MAINTAINENANCE','ATM__REPLENISHMENT']\n",
    "    df.drop(to_drop, inplace=True, axis=1)\n",
    "    df['DATE'] = pd.to_datetime(df['DATE'])\n",
    "    df['HOUR'] = df['DATE'].dt.hour\n",
    "    df['DAYOFWEEK'] = df['DATE'].dt.dayofweek\n",
    "    df['QUARTER'] = df['DATE'].dt.quarter\n",
    "    df['MONTH'] = df['DATE'].dt.month\n",
    "    df['YEAR'] = df['DATE'].dt.year\n",
    "    df['DAYOFYEAR'] = df['DATE'].dt.dayofyear\n",
    "    df['DAYOFMONTH'] = df['DATE'].dt.day\n",
    "    df['DATE'] = pd.to_datetime(df['DATE']).dt.strftime(\"%Y-%m-%d %H:%M:%S.%f\")\n",
    "    \n",
    "    df['WEEKDAY_FLAG'] = df['WEEKDAY_FLAG'].map({'Y': 1, 'N': 0})\n",
    "    df['HOLIDAY_FLAG'] = df['HOLIDAY_FLAG'].map({'Y': 1, 'N': 0})\n",
    "    \n",
    "    df['STATE']= label_encoder.transform(df['STATE'])\n",
    "    df['ATM_ID']= atm_encoder.transform(df['ATM_ID'])\n",
    "    \n",
    "    df.drop(['DATE','BANK_NAME'], axis=1,inplace=True)\n",
    "    \n",
    "    features = ['WEEKDAY_FLAG', 'HOLIDAY_FLAG', 'BANK_ID', 'STATE', 'ATM_ID','HOUR', 'DAYOFWEEK', \n",
    "                'QUARTER', 'MONTH', 'YEAR','DAYOFYEAR', 'DAYOFMONTH']\n",
    "    \n",
    "    X_feat = df[features]\n",
    "    return tree1.predict(X_feat)"
   ]
  },
  {
   "cell_type": "code",
   "execution_count": 60,
   "id": "f8b6874e",
   "metadata": {},
   "outputs": [],
   "source": [
    "df_train_y  = get_prediction(df_train)\n",
    "df_test_y  = get_prediction(df_test)"
   ]
  },
  {
   "cell_type": "code",
   "execution_count": 61,
   "id": "0c6b3c62",
   "metadata": {},
   "outputs": [],
   "source": [
    "df_train['PREDICTED_DISPENSE_AMOUNT'] = df_train_y\n",
    "df_test['PREDICTED_DISPENSE_AMOUNT'] = df_test_y"
   ]
  },
  {
   "cell_type": "code",
   "execution_count": 62,
   "id": "bf347e52",
   "metadata": {},
   "outputs": [],
   "source": [
    "df_train['DATE'] = pd.to_datetime(df_train['DATE']).dt.strftime(\"%Y-%m-%d %H:%M:%S.%f\")\n",
    "df_test['DATE'] = pd.to_datetime(df_test['DATE']).dt.strftime(\"%Y-%m-%d %H:%M:%S.%f\")"
   ]
  },
  {
   "cell_type": "code",
   "execution_count": 63,
   "id": "bc9ef985",
   "metadata": {
    "scrolled": true
   },
   "outputs": [
    {
     "data": {
      "text/html": [
       "<div>\n",
       "<style scoped>\n",
       "    .dataframe tbody tr th:only-of-type {\n",
       "        vertical-align: middle;\n",
       "    }\n",
       "\n",
       "    .dataframe tbody tr th {\n",
       "        vertical-align: top;\n",
       "    }\n",
       "\n",
       "    .dataframe thead th {\n",
       "        text-align: right;\n",
       "    }\n",
       "</style>\n",
       "<table border=\"1\" class=\"dataframe\">\n",
       "  <thead>\n",
       "    <tr style=\"text-align: right;\">\n",
       "      <th></th>\n",
       "      <th>DATE</th>\n",
       "      <th>WEEKDAY_FLAG</th>\n",
       "      <th>HOLIDAY_FLAG</th>\n",
       "      <th>BANK_ID</th>\n",
       "      <th>STATE</th>\n",
       "      <th>BANK_NAME</th>\n",
       "      <th>ATM_ID</th>\n",
       "      <th>DISPENSED_AMOUNT</th>\n",
       "      <th>TOTAL_TRANSACTION_COUNT</th>\n",
       "      <th>DOWNTIME_IN_MINS</th>\n",
       "      <th>...</th>\n",
       "      <th>LANDAREA_SQ_MILE</th>\n",
       "      <th>POPULATION_RATIO</th>\n",
       "      <th>POPULATION_DENSITY</th>\n",
       "      <th>MEDIAN_HOUSE_INCOME</th>\n",
       "      <th>LOCATION_TYPE</th>\n",
       "      <th>ATM_PLACEMENTS</th>\n",
       "      <th>ATM_ACCESSIBILITY</th>\n",
       "      <th>ATM_MAINTAINENANCE</th>\n",
       "      <th>ATM__REPLENISHMENT</th>\n",
       "      <th>PREDICTED_DISPENSE_AMOUNT</th>\n",
       "    </tr>\n",
       "  </thead>\n",
       "  <tbody>\n",
       "    <tr>\n",
       "      <th>9069</th>\n",
       "      <td>2022-03-08 00:00:00.000000</td>\n",
       "      <td>Y</td>\n",
       "      <td>N</td>\n",
       "      <td>3</td>\n",
       "      <td>North Dakota</td>\n",
       "      <td>Citibank</td>\n",
       "      <td>TBH0002740218</td>\n",
       "      <td>211500.0</td>\n",
       "      <td>100.0</td>\n",
       "      <td>0.0</td>\n",
       "      <td>...</td>\n",
       "      <td>69001</td>\n",
       "      <td>0.50</td>\n",
       "      <td>2.746192</td>\n",
       "      <td>66519</td>\n",
       "      <td>Urban</td>\n",
       "      <td>Outdoor</td>\n",
       "      <td>24 by 7</td>\n",
       "      <td>Regular</td>\n",
       "      <td>Weekly</td>\n",
       "      <td>211500.0</td>\n",
       "    </tr>\n",
       "    <tr>\n",
       "      <th>148974</th>\n",
       "      <td>2021-06-29 00:00:00.000000</td>\n",
       "      <td>Y</td>\n",
       "      <td>N</td>\n",
       "      <td>1</td>\n",
       "      <td>North Carolina</td>\n",
       "      <td>Wells Fargo</td>\n",
       "      <td>APAN35711</td>\n",
       "      <td>13950.0</td>\n",
       "      <td>5.0</td>\n",
       "      <td>0.0</td>\n",
       "      <td>...</td>\n",
       "      <td>48618</td>\n",
       "      <td>0.48</td>\n",
       "      <td>62.943745</td>\n",
       "      <td>61972</td>\n",
       "      <td>Rural</td>\n",
       "      <td>Outdoor</td>\n",
       "      <td>24 by 7</td>\n",
       "      <td>Irregular</td>\n",
       "      <td>Daily</td>\n",
       "      <td>13950.0</td>\n",
       "    </tr>\n",
       "    <tr>\n",
       "      <th>218511</th>\n",
       "      <td>2021-01-30 00:00:00.000000</td>\n",
       "      <td>N</td>\n",
       "      <td>N</td>\n",
       "      <td>2</td>\n",
       "      <td>Washington</td>\n",
       "      <td>BNY Mellon</td>\n",
       "      <td>SPCNG392</td>\n",
       "      <td>273600.0</td>\n",
       "      <td>74.0</td>\n",
       "      <td>542.0</td>\n",
       "      <td>...</td>\n",
       "      <td>66456</td>\n",
       "      <td>0.50</td>\n",
       "      <td>37.620486</td>\n",
       "      <td>84247</td>\n",
       "      <td>Urban</td>\n",
       "      <td>Outdoor</td>\n",
       "      <td>24 by 7</td>\n",
       "      <td>Regular</td>\n",
       "      <td>Monthly</td>\n",
       "      <td>273600.0</td>\n",
       "    </tr>\n",
       "    <tr>\n",
       "      <th>32052</th>\n",
       "      <td>2022-12-09 00:00:00.000000</td>\n",
       "      <td>N</td>\n",
       "      <td>N</td>\n",
       "      <td>3</td>\n",
       "      <td>Oklahoma</td>\n",
       "      <td>Citibank</td>\n",
       "      <td>TBH0072520909</td>\n",
       "      <td>689940.0</td>\n",
       "      <td>239.0</td>\n",
       "      <td>0.0</td>\n",
       "      <td>...</td>\n",
       "      <td>68595</td>\n",
       "      <td>0.49</td>\n",
       "      <td>21.123916</td>\n",
       "      <td>55826</td>\n",
       "      <td>Rural</td>\n",
       "      <td>Indoor</td>\n",
       "      <td>24 by 7</td>\n",
       "      <td>Irregular</td>\n",
       "      <td>Daily</td>\n",
       "      <td>689940.0</td>\n",
       "    </tr>\n",
       "    <tr>\n",
       "      <th>275877</th>\n",
       "      <td>2021-08-25 00:00:00.000000</td>\n",
       "      <td>Y</td>\n",
       "      <td>N</td>\n",
       "      <td>3</td>\n",
       "      <td>Maryland</td>\n",
       "      <td>Citibank</td>\n",
       "      <td>TNY000660816</td>\n",
       "      <td>419130.0</td>\n",
       "      <td>119.0</td>\n",
       "      <td>70.0</td>\n",
       "      <td>...</td>\n",
       "      <td>9707</td>\n",
       "      <td>0.48</td>\n",
       "      <td>135.173483</td>\n",
       "      <td>90203</td>\n",
       "      <td>Sub-Urban</td>\n",
       "      <td>Drive-Thru</td>\n",
       "      <td>Restrcited hours</td>\n",
       "      <td>Regular</td>\n",
       "      <td>Monthly</td>\n",
       "      <td>419130.0</td>\n",
       "    </tr>\n",
       "  </tbody>\n",
       "</table>\n",
       "<p>5 rows × 27 columns</p>\n",
       "</div>"
      ],
      "text/plain": [
       "                              DATE WEEKDAY_FLAG HOLIDAY_FLAG  BANK_ID  \\\n",
       "9069    2022-03-08 00:00:00.000000            Y            N        3   \n",
       "148974  2021-06-29 00:00:00.000000            Y            N        1   \n",
       "218511  2021-01-30 00:00:00.000000            N            N        2   \n",
       "32052   2022-12-09 00:00:00.000000            N            N        3   \n",
       "275877  2021-08-25 00:00:00.000000            Y            N        3   \n",
       "\n",
       "                 STATE    BANK_NAME         ATM_ID  DISPENSED_AMOUNT  \\\n",
       "9069      North Dakota     Citibank  TBH0002740218          211500.0   \n",
       "148974  North Carolina  Wells Fargo      APAN35711           13950.0   \n",
       "218511      Washington   BNY Mellon       SPCNG392          273600.0   \n",
       "32052         Oklahoma     Citibank  TBH0072520909          689940.0   \n",
       "275877        Maryland     Citibank   TNY000660816          419130.0   \n",
       "\n",
       "        TOTAL_TRANSACTION_COUNT  DOWNTIME_IN_MINS  ...  LANDAREA_SQ_MILE  \\\n",
       "9069                      100.0               0.0  ...             69001   \n",
       "148974                      5.0               0.0  ...             48618   \n",
       "218511                     74.0             542.0  ...             66456   \n",
       "32052                     239.0               0.0  ...             68595   \n",
       "275877                    119.0              70.0  ...              9707   \n",
       "\n",
       "        POPULATION_RATIO  POPULATION_DENSITY  MEDIAN_HOUSE_INCOME  \\\n",
       "9069                0.50            2.746192                66519   \n",
       "148974              0.48           62.943745                61972   \n",
       "218511              0.50           37.620486                84247   \n",
       "32052               0.49           21.123916                55826   \n",
       "275877              0.48          135.173483                90203   \n",
       "\n",
       "        LOCATION_TYPE  ATM_PLACEMENTS  ATM_ACCESSIBILITY  ATM_MAINTAINENANCE  \\\n",
       "9069            Urban         Outdoor            24 by 7             Regular   \n",
       "148974          Rural         Outdoor            24 by 7           Irregular   \n",
       "218511          Urban         Outdoor            24 by 7             Regular   \n",
       "32052           Rural          Indoor            24 by 7           Irregular   \n",
       "275877      Sub-Urban      Drive-Thru   Restrcited hours             Regular   \n",
       "\n",
       "        ATM__REPLENISHMENT  PREDICTED_DISPENSE_AMOUNT  \n",
       "9069                Weekly                   211500.0  \n",
       "148974               Daily                    13950.0  \n",
       "218511             Monthly                   273600.0  \n",
       "32052                Daily                   689940.0  \n",
       "275877             Monthly                   419130.0  \n",
       "\n",
       "[5 rows x 27 columns]"
      ]
     },
     "execution_count": 63,
     "metadata": {},
     "output_type": "execute_result"
    }
   ],
   "source": [
    "df_train.head()"
   ]
  },
  {
   "cell_type": "code",
   "execution_count": 64,
   "id": "66cee309",
   "metadata": {},
   "outputs": [],
   "source": [
    "#df_train.to_csv('/data/Output/transaction_train_output.csv',index=True)\n",
    "#df_test.to_csv('/data/Output/transaction_test_output.csv',index=True)"
   ]
  },
  {
   "cell_type": "markdown",
   "id": "4fafba2d",
   "metadata": {},
   "source": [
    "# Push the output to Snowflake tables"
   ]
  },
  {
   "cell_type": "code",
   "execution_count": 68,
   "id": "b4f332cc",
   "metadata": {},
   "outputs": [],
   "source": [
    "df_train_sf=my_session.createDataFrame(\n",
    "        df_train.values.tolist(),\n",
    "        schema=df_train.columns.tolist())\n",
    "df_train_sf.write.mode(\"overwrite\").save_as_table(\"FDC_BANKING_FS.PUBLIC.ATM_TRANSACTION_TRAIN_OUTPUT\")"
   ]
  },
  {
   "cell_type": "code",
   "execution_count": 69,
   "id": "3abe013f",
   "metadata": {},
   "outputs": [],
   "source": [
    "df_test_sf=my_session.createDataFrame(\n",
    "        df_test.values.tolist(),\n",
    "        schema=df_test.columns.tolist())\n",
    "df_test_sf.write.mode(\"overwrite\").save_as_table(\"FDC_BANKING_FS.PUBLIC.ATM_TRANSACTION_TEST_OUTPUT\")"
   ]
  },
  {
   "cell_type": "markdown",
   "id": "7f951741",
   "metadata": {},
   "source": [
    "# Run below query on snowflake to create REPORT_DATE\n",
    "\n",
    "ALTER TABLE FDC_BANKING_FS.PUBLIC.ATM_TRANSACTION_TEST_OUTPUT ADD COLUMN REPORT_DATE DATE\n",
    "\n",
    "UPDATE FDC_BANKING_FS.PUBLIC.ATM_TRANSACTION_TEST_OUTPUT\n",
    "SET REPORT_DATE =  TO_DATE(DATE)\n",
    "\n",
    "ALTER TABLE FDC_BANKING_FS.PUBLIC.ATM_TRANSACTION_TRAIN_OUTPUT ADD COLUMN REPORT_DATE DATE\n",
    "\n",
    "UPDATE FDC_BANKING_FS.PUBLIC.ATM_TRANSACTION_TRAIN_OUTPUT\n",
    "SET REPORT_DATE =  TO_DATE(DATE)"
   ]
  },
  {
   "cell_type": "markdown",
   "id": "ee6fe440",
   "metadata": {},
   "source": [
    "# Run below query on snowflake to UPDATE REPORT_DATE\n",
    "\n",
    "UPDATE FDC_BANKING_FS.PUBLIC.ATM_TRANSACTION_TRAIN_OUTPUT\n",
    "SET REPORT_DATE =  DATEADD(MONTH, 14, REPORT_DATE)\n",
    "\n",
    "UPDATE FDC_BANKING_FS.PUBLIC.ATM_TRANSACTION_TEST_OUTPUT\n",
    "SET REPORT_DATE =  DATEADD(MONTH, 14, REPORT_DATE)"
   ]
  },
  {
   "cell_type": "markdown",
   "id": "4aa8698b",
   "metadata": {},
   "source": [
    "# Run below query on snowflake to UPDATE DISPENSED_AMOUNT and PREDICTED_DISPENSED_AMOUNT\n",
    "UPDATE FDC_BANKING_FS.PUBLIC.ATM_TRANSACTION_TRAIN_OUTPUT\n",
    "SET DISPENSED_AMOUNT = ROUND(DISPENSED_AMOUNT/100)*10\n",
    "\n",
    "UPDATE FDC_BANKING_FS.PUBLIC.ATM_TRANSACTION_TRAIN_OUTPUT\n",
    "SET PREDICTED_DISPENSE_AMOUNT = ROUND(PREDICTED_DISPENSE_AMOUNT/100)*10\n",
    "\n",
    "UPDATE FDC_BANKING_FS.PUBLIC.ATM_TRANSACTION_TEST_OUTPUT\n",
    "SET DISPENSED_AMOUNT = ROUND(DISPENSED_AMOUNT/100)*10\n",
    "\n",
    "UPDATE FDC_BANKING_FS.PUBLIC.ATM_TRANSACTION_TEST_OUTPUT\n",
    "SET PREDICTED_DISPENSE_AMOUNT = ROUND(PREDICTED_DISPENSE_AMOUNT/100)*10"
   ]
  },
  {
   "cell_type": "markdown",
   "id": "300bc814",
   "metadata": {},
   "source": [
    "# Run below query on Snowflake to ADD MEDIAN_HOUSING_INCOME\n",
    "\n",
    "ALTER TABLE FDC_BANKING_FS.PUBLIC.ATM_TRANSACTION_TEST_OUTPUT ADD COLUMN MEDIAN_HOUSING_INCOME DOUBLE\n",
    "\n",
    "UPDATE FDC_BANKING_FS.PUBLIC.ATM_TRANSACTION_TEST_OUTPUT\n",
    "SET MEDIAN_HOUSING_INCOME =  TO_DOUBLE(MEDIAN_HOUSE_INCOME)\n",
    "\n",
    "ALTER TABLE FDC_BANKING_FS.PUBLIC.ATM_TRANSACTION_TRAIN_OUTPUT ADD COLUMN MEDIAN_HOUSING_INCOME DOUBLE\n",
    "\n",
    "UPDATE FDC_BANKING_FS.PUBLIC.ATM_TRANSACTION_TRAIN_OUTPUT\n",
    "SET MEDIAN_HOUSING_INCOME =  TO_DOUBLE(MEDIAN_HOUSE_INCOME)"
   ]
  }
 ],
 "metadata": {
  "kernelspec": {
   "display_name": "Python 3 (ipykernel)",
   "language": "python",
   "name": "python3"
  },
  "language_info": {
   "codemirror_mode": {
    "name": "ipython",
    "version": 3
   },
   "file_extension": ".py",
   "mimetype": "text/x-python",
   "name": "python",
   "nbconvert_exporter": "python",
   "pygments_lexer": "ipython3",
   "version": "3.9.19"
  }
 },
 "nbformat": 4,
 "nbformat_minor": 5
}
